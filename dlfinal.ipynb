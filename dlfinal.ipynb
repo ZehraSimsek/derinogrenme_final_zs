{
  "cells": [
    {
      "cell_type": "code",
      "execution_count": null,
      "metadata": {
        "colab": {
          "base_uri": "https://localhost:8080/"
        },
        "id": "SECGYS2HmUFX",
        "outputId": "b94056dd-f75c-4bb9-87f3-9dbb1d8786c7"
      },
      "outputs": [
        {
          "name": "stdout",
          "output_type": "stream",
          "text": [
            "Mounted at /content/drive\n"
          ]
        }
      ],
      "source": [
        "from google.colab import drive\n",
        "drive.mount('/content/drive')"
      ]
    },
    {
      "cell_type": "code",
      "execution_count": 1,
      "metadata": {
        "colab": {
          "base_uri": "https://localhost:8080/"
        },
        "id": "c6agb7OVYHgo",
        "outputId": "9f3d8bdc-ceef-4fd1-aac2-74c0fe4add42"
      },
      "outputs": [
        {
          "name": "stderr",
          "output_type": "stream",
          "text": [
            "Augmenting: 0it [00:00, ?it/s]\n"
          ]
        }
      ],
      "source": [
        "import os\n",
        "import cv2\n",
        "import glob\n",
        "import shutil\n",
        "import numpy as np\n",
        "from tqdm import tqdm\n",
        "\n",
        "ORIGINAL_IMAGE_DIR = '/content/drive/MyDrive/DL_FINAL/train/images'\n",
        "ORIGINAL_LABEL_DIR = '/content/drive/MyDrive/DL_FINAL/train/labels'\n",
        "AUG_IMAGE_DIR = '/content/drive/MyDrive/DL_FINAL/train/train_augmented/images'\n",
        "AUG_LABEL_DIR = '/content/drive/MyDrive/DL_FINAL/train/train_augmented/labels'\n",
        "\n",
        "os.makedirs(AUG_IMAGE_DIR, exist_ok=True)\n",
        "os.makedirs(AUG_LABEL_DIR, exist_ok=True)\n",
        "\n",
        "def read_yolo_labels(label_path):\n",
        "    bboxes, class_labels = [], []\n",
        "    with open(label_path, 'r') as f:\n",
        "        for line in f:\n",
        "            parts = line.strip().split()\n",
        "            if len(parts) == 5:\n",
        "                class_labels.append(int(parts[0]))\n",
        "                bboxes.append([float(x) for x in parts[1:]])\n",
        "    return bboxes, class_labels\n",
        "\n",
        "def save_yolo_labels(label_path, bboxes, class_labels):\n",
        "    with open(label_path, 'w') as f:\n",
        "        for cls, bbox in zip(class_labels, bboxes):\n",
        "            f.write(f\"{cls} {' '.join([str(round(x, 6)) for x in bbox])}\\n\")\n",
        "\n",
        "def rotate_img_and_bboxes(img, bboxes, angle):\n",
        "    h, w = img.shape[:2]\n",
        "    center = (w / 2, h / 2)\n",
        "    rot_mat = cv2.getRotationMatrix2D(center, angle, 1.0)\n",
        "    img_rot = cv2.warpAffine(img, rot_mat, (w, h), flags=cv2.INTER_LINEAR, borderMode=cv2.BORDER_REFLECT)\n",
        "    bboxes_rot = []\n",
        "    for x, y, bw, bh in bboxes:\n",
        "        x_abs = x * w\n",
        "        y_abs = y * h\n",
        "        coords = np.array([[x_abs, y_abs, 1]])\n",
        "        x_rot, y_rot = np.dot(coords, rot_mat.T)[0][:2]\n",
        "        x_new = np.clip(x_rot / w, 0, 1)\n",
        "        y_new = np.clip(y_rot / h, 0, 1)\n",
        "        bboxes_rot.append([x_new, y_new, bw, bh])\n",
        "    return img_rot, bboxes_rot\n",
        "\n",
        "def add_gaussian_noise(img, mean=0, std=10):\n",
        "    noise = np.random.normal(mean, std, img.shape).astype(np.float32)\n",
        "    noisy = img.astype(np.float32) + noise\n",
        "    return np.clip(noisy, 0, 255).astype(np.uint8)\n",
        "\n",
        "def shear_img_and_bboxes(img, bboxes, shear_factor_x=0.1, shear_factor_y=0):\n",
        "    h, w = img.shape[:2]\n",
        "    M = np.float32([[1, shear_factor_x, 0],\n",
        "                    [shear_factor_y, 1, 0]])\n",
        "    img_sheared = cv2.warpAffine(img, M, (w, h), borderMode=cv2.BORDER_REFLECT)\n",
        "    bboxes_sheared = []\n",
        "    for x, y, bw, bh in bboxes:\n",
        "        x_abs = x * w\n",
        "        y_abs = y * h\n",
        "        x_shear = x_abs + shear_factor_x * y_abs\n",
        "        y_shear = y_abs + shear_factor_y * x_abs\n",
        "        x_new = np.clip(x_shear / w, 0, 1)\n",
        "        y_new = np.clip(y_shear / h, 0, 1)\n",
        "        bboxes_sheared.append([x_new, y_new, bw, bh])\n",
        "    return img_sheared, bboxes_sheared\n",
        "\n",
        "def letterbox_resize_with_padding(img, bboxes, target_size=640):\n",
        "    h, w = img.shape[:2]\n",
        "    scale = min(target_size/w, target_size/h)\n",
        "    new_w, new_h = int(w*scale), int(h*scale)\n",
        "    resized_img = cv2.resize(img, (new_w, new_h))\n",
        "    pad_w = target_size - new_w\n",
        "    pad_h = target_size - new_h\n",
        "    top, bottom = pad_h//2, pad_h - pad_h//2\n",
        "    left, right = pad_w//2, pad_w - pad_w//2\n",
        "    img_padded = cv2.copyMakeBorder(resized_img, top, bottom, left, right, cv2.BORDER_CONSTANT, value=0)\n",
        "    bboxes_padded = []\n",
        "    for x, y, bw, bh in bboxes:\n",
        "        x_abs = x * w\n",
        "        y_abs = y * h\n",
        "        x_new = (x_abs * scale + left) / target_size\n",
        "        y_new = (y_abs * scale + top) / target_size\n",
        "        bw_new = bw * (w * scale) / target_size\n",
        "        bh_new = bh * (h * scale) / target_size\n",
        "        bboxes_padded.append([x_new, y_new, bw_new, bh_new])\n",
        "    return img_padded, bboxes_padded\n",
        "\n",
        "for image_path in glob.glob(os.path.join(ORIGINAL_IMAGE_DIR, '*.jpg')):\n",
        "    filename = os.path.basename(image_path)\n",
        "    shutil.copy2(image_path, os.path.join(AUG_IMAGE_DIR, filename))\n",
        "    label_path = os.path.join(ORIGINAL_LABEL_DIR, filename.replace('.jpg', '.txt'))\n",
        "    if os.path.exists(label_path):\n",
        "        shutil.copy2(label_path, os.path.join(AUG_LABEL_DIR, filename.replace('.jpg', '.txt')))\n",
        "\n",
        "for image_path in tqdm(glob.glob(os.path.join(ORIGINAL_IMAGE_DIR, '*.jpg')), desc=\"Augmenting\"):\n",
        "    filename = os.path.basename(image_path)\n",
        "    img = cv2.imread(image_path)\n",
        "    if img is None:\n",
        "        continue\n",
        "    label_path = os.path.join(ORIGINAL_LABEL_DIR, filename.replace('.jpg', '.txt'))\n",
        "    if not os.path.exists(label_path):\n",
        "        continue\n",
        "    bboxes, class_labels = read_yolo_labels(label_path)\n",
        "\n",
        "    # ROTATE +5\n",
        "    img_rot5, bboxes_rot5 = rotate_img_and_bboxes(img, bboxes, 5)\n",
        "    cv2.imwrite(os.path.join(AUG_IMAGE_DIR, filename.replace('.jpg', '_rot5.jpg')), img_rot5)\n",
        "    save_yolo_labels(os.path.join(AUG_LABEL_DIR, filename.replace('.jpg', '_rot5.txt')), bboxes_rot5, class_labels)\n",
        "\n",
        "    # ROTATE -5\n",
        "    img_rotm5, bboxes_rotm5 = rotate_img_and_bboxes(img, bboxes, -5)\n",
        "    cv2.imwrite(os.path.join(AUG_IMAGE_DIR, filename.replace('.jpg', '_rotm5.jpg')), img_rotm5)\n",
        "    save_yolo_labels(os.path.join(AUG_LABEL_DIR, filename.replace('.jpg', '_rotm5.txt')), bboxes_rotm5, class_labels)\n",
        "\n",
        "    # NOISE\n",
        "    img_noise = add_gaussian_noise(img)\n",
        "    cv2.imwrite(os.path.join(AUG_IMAGE_DIR, filename.replace('.jpg', '_noise.jpg')), img_noise)\n",
        "    save_yolo_labels(os.path.join(AUG_LABEL_DIR, filename.replace('.jpg', '_noise.txt')), bboxes, class_labels)\n",
        "\n",
        "    # SHEAR X\n",
        "    img_shear, bboxes_shear = shear_img_and_bboxes(img, bboxes, shear_factor_x=0.15)\n",
        "    cv2.imwrite(os.path.join(AUG_IMAGE_DIR, filename.replace('.jpg', '_shearx.jpg')), img_shear)\n",
        "    save_yolo_labels(os.path.join(AUG_LABEL_DIR, filename.replace('.jpg', '_shearx.txt')), bboxes_shear, class_labels)\n",
        "\n",
        "    # RESIZE\n",
        "    img_letterbox, bboxes_letterbox = letterbox_resize_with_padding(img, bboxes, target_size=640)\n",
        "    cv2.imwrite(os.path.join(AUG_IMAGE_DIR, filename.replace('.jpg', '_lbox.jpg')), img_letterbox)\n",
        "    save_yolo_labels(os.path.join(AUG_LABEL_DIR, filename.replace('.jpg', '_lbox.txt')), bboxes_letterbox, class_labels)\n"
      ]
    },
    {
      "cell_type": "code",
      "execution_count": null,
      "metadata": {
        "colab": {
          "base_uri": "https://localhost:8080/"
        },
        "id": "Alzn57kQqYEs",
        "outputId": "4bee891b-28f9-4819-c988-468422d70a89"
      },
      "outputs": [
        {
          "name": "stdout",
          "output_type": "stream",
          "text": [
            "/content/drive/MyDrive/DL_FINAL/train/train_augmented/images içinde 5283 adet .jpg görüntü var.\n"
          ]
        }
      ],
      "source": [
        "import glob\n",
        "\n",
        "image_folder = '/content/drive/MyDrive/DL_FINAL/train/train_augmented/images'\n",
        "image_count = len(glob.glob(f\"{image_folder}/*.jpg\"))\n",
        "print(f\"{image_folder} içinde {image_count} adet .jpg görüntü var.\")\n"
      ]
    },
    {
      "cell_type": "code",
      "execution_count": null,
      "metadata": {
        "colab": {
          "base_uri": "https://localhost:8080/"
        },
        "id": "C5PjugZ6gfLd",
        "outputId": "06956ccd-ecfa-41a1-a1a8-e818483a6d0d"
      },
      "outputs": [
        {
          "name": "stdout",
          "output_type": "stream",
          "text": [
            "Collecting ultralytics\n",
            "  Downloading ultralytics-8.3.150-py3-none-any.whl.metadata (37 kB)\n",
            "Requirement already satisfied: numpy>=1.23.0 in /usr/local/lib/python3.11/dist-packages (from ultralytics) (2.0.2)\n",
            "Requirement already satisfied: matplotlib>=3.3.0 in /usr/local/lib/python3.11/dist-packages (from ultralytics) (3.10.0)\n",
            "Requirement already satisfied: opencv-python>=4.6.0 in /usr/local/lib/python3.11/dist-packages (from ultralytics) (4.11.0.86)\n",
            "Requirement already satisfied: pillow>=7.1.2 in /usr/local/lib/python3.11/dist-packages (from ultralytics) (11.2.1)\n",
            "Requirement already satisfied: pyyaml>=5.3.1 in /usr/local/lib/python3.11/dist-packages (from ultralytics) (6.0.2)\n",
            "Requirement already satisfied: requests>=2.23.0 in /usr/local/lib/python3.11/dist-packages (from ultralytics) (2.32.3)\n",
            "Requirement already satisfied: scipy>=1.4.1 in /usr/local/lib/python3.11/dist-packages (from ultralytics) (1.15.3)\n",
            "Requirement already satisfied: torch>=1.8.0 in /usr/local/lib/python3.11/dist-packages (from ultralytics) (2.6.0+cu124)\n",
            "Requirement already satisfied: torchvision>=0.9.0 in /usr/local/lib/python3.11/dist-packages (from ultralytics) (0.21.0+cu124)\n",
            "Requirement already satisfied: tqdm>=4.64.0 in /usr/local/lib/python3.11/dist-packages (from ultralytics) (4.67.1)\n",
            "Requirement already satisfied: psutil in /usr/local/lib/python3.11/dist-packages (from ultralytics) (5.9.5)\n",
            "Requirement already satisfied: py-cpuinfo in /usr/local/lib/python3.11/dist-packages (from ultralytics) (9.0.0)\n",
            "Requirement already satisfied: pandas>=1.1.4 in /usr/local/lib/python3.11/dist-packages (from ultralytics) (2.2.2)\n",
            "Collecting ultralytics-thop>=2.0.0 (from ultralytics)\n",
            "  Downloading ultralytics_thop-2.0.14-py3-none-any.whl.metadata (9.4 kB)\n",
            "Requirement already satisfied: contourpy>=1.0.1 in /usr/local/lib/python3.11/dist-packages (from matplotlib>=3.3.0->ultralytics) (1.3.2)\n",
            "Requirement already satisfied: cycler>=0.10 in /usr/local/lib/python3.11/dist-packages (from matplotlib>=3.3.0->ultralytics) (0.12.1)\n",
            "Requirement already satisfied: fonttools>=4.22.0 in /usr/local/lib/python3.11/dist-packages (from matplotlib>=3.3.0->ultralytics) (4.58.1)\n",
            "Requirement already satisfied: kiwisolver>=1.3.1 in /usr/local/lib/python3.11/dist-packages (from matplotlib>=3.3.0->ultralytics) (1.4.8)\n",
            "Requirement already satisfied: packaging>=20.0 in /usr/local/lib/python3.11/dist-packages (from matplotlib>=3.3.0->ultralytics) (24.2)\n",
            "Requirement already satisfied: pyparsing>=2.3.1 in /usr/local/lib/python3.11/dist-packages (from matplotlib>=3.3.0->ultralytics) (3.2.3)\n",
            "Requirement already satisfied: python-dateutil>=2.7 in /usr/local/lib/python3.11/dist-packages (from matplotlib>=3.3.0->ultralytics) (2.9.0.post0)\n",
            "Requirement already satisfied: pytz>=2020.1 in /usr/local/lib/python3.11/dist-packages (from pandas>=1.1.4->ultralytics) (2025.2)\n",
            "Requirement already satisfied: tzdata>=2022.7 in /usr/local/lib/python3.11/dist-packages (from pandas>=1.1.4->ultralytics) (2025.2)\n",
            "Requirement already satisfied: charset-normalizer<4,>=2 in /usr/local/lib/python3.11/dist-packages (from requests>=2.23.0->ultralytics) (3.4.2)\n",
            "Requirement already satisfied: idna<4,>=2.5 in /usr/local/lib/python3.11/dist-packages (from requests>=2.23.0->ultralytics) (3.10)\n",
            "Requirement already satisfied: urllib3<3,>=1.21.1 in /usr/local/lib/python3.11/dist-packages (from requests>=2.23.0->ultralytics) (2.4.0)\n",
            "Requirement already satisfied: certifi>=2017.4.17 in /usr/local/lib/python3.11/dist-packages (from requests>=2.23.0->ultralytics) (2025.4.26)\n",
            "Requirement already satisfied: filelock in /usr/local/lib/python3.11/dist-packages (from torch>=1.8.0->ultralytics) (3.18.0)\n",
            "Requirement already satisfied: typing-extensions>=4.10.0 in /usr/local/lib/python3.11/dist-packages (from torch>=1.8.0->ultralytics) (4.13.2)\n",
            "Requirement already satisfied: networkx in /usr/local/lib/python3.11/dist-packages (from torch>=1.8.0->ultralytics) (3.5)\n",
            "Requirement already satisfied: jinja2 in /usr/local/lib/python3.11/dist-packages (from torch>=1.8.0->ultralytics) (3.1.6)\n",
            "Requirement already satisfied: fsspec in /usr/local/lib/python3.11/dist-packages (from torch>=1.8.0->ultralytics) (2025.3.2)\n",
            "Collecting nvidia-cuda-nvrtc-cu12==12.4.127 (from torch>=1.8.0->ultralytics)\n",
            "  Downloading nvidia_cuda_nvrtc_cu12-12.4.127-py3-none-manylinux2014_x86_64.whl.metadata (1.5 kB)\n",
            "Collecting nvidia-cuda-runtime-cu12==12.4.127 (from torch>=1.8.0->ultralytics)\n",
            "  Downloading nvidia_cuda_runtime_cu12-12.4.127-py3-none-manylinux2014_x86_64.whl.metadata (1.5 kB)\n",
            "Collecting nvidia-cuda-cupti-cu12==12.4.127 (from torch>=1.8.0->ultralytics)\n",
            "  Downloading nvidia_cuda_cupti_cu12-12.4.127-py3-none-manylinux2014_x86_64.whl.metadata (1.6 kB)\n",
            "Collecting nvidia-cudnn-cu12==9.1.0.70 (from torch>=1.8.0->ultralytics)\n",
            "  Downloading nvidia_cudnn_cu12-9.1.0.70-py3-none-manylinux2014_x86_64.whl.metadata (1.6 kB)\n",
            "Collecting nvidia-cublas-cu12==12.4.5.8 (from torch>=1.8.0->ultralytics)\n",
            "  Downloading nvidia_cublas_cu12-12.4.5.8-py3-none-manylinux2014_x86_64.whl.metadata (1.5 kB)\n",
            "Collecting nvidia-cufft-cu12==11.2.1.3 (from torch>=1.8.0->ultralytics)\n",
            "  Downloading nvidia_cufft_cu12-11.2.1.3-py3-none-manylinux2014_x86_64.whl.metadata (1.5 kB)\n",
            "Collecting nvidia-curand-cu12==10.3.5.147 (from torch>=1.8.0->ultralytics)\n",
            "  Downloading nvidia_curand_cu12-10.3.5.147-py3-none-manylinux2014_x86_64.whl.metadata (1.5 kB)\n",
            "Collecting nvidia-cusolver-cu12==11.6.1.9 (from torch>=1.8.0->ultralytics)\n",
            "  Downloading nvidia_cusolver_cu12-11.6.1.9-py3-none-manylinux2014_x86_64.whl.metadata (1.6 kB)\n",
            "Collecting nvidia-cusparse-cu12==12.3.1.170 (from torch>=1.8.0->ultralytics)\n",
            "  Downloading nvidia_cusparse_cu12-12.3.1.170-py3-none-manylinux2014_x86_64.whl.metadata (1.6 kB)\n",
            "Requirement already satisfied: nvidia-cusparselt-cu12==0.6.2 in /usr/local/lib/python3.11/dist-packages (from torch>=1.8.0->ultralytics) (0.6.2)\n",
            "Requirement already satisfied: nvidia-nccl-cu12==2.21.5 in /usr/local/lib/python3.11/dist-packages (from torch>=1.8.0->ultralytics) (2.21.5)\n",
            "Requirement already satisfied: nvidia-nvtx-cu12==12.4.127 in /usr/local/lib/python3.11/dist-packages (from torch>=1.8.0->ultralytics) (12.4.127)\n",
            "Collecting nvidia-nvjitlink-cu12==12.4.127 (from torch>=1.8.0->ultralytics)\n",
            "  Downloading nvidia_nvjitlink_cu12-12.4.127-py3-none-manylinux2014_x86_64.whl.metadata (1.5 kB)\n",
            "Requirement already satisfied: triton==3.2.0 in /usr/local/lib/python3.11/dist-packages (from torch>=1.8.0->ultralytics) (3.2.0)\n",
            "Requirement already satisfied: sympy==1.13.1 in /usr/local/lib/python3.11/dist-packages (from torch>=1.8.0->ultralytics) (1.13.1)\n",
            "Requirement already satisfied: mpmath<1.4,>=1.1.0 in /usr/local/lib/python3.11/dist-packages (from sympy==1.13.1->torch>=1.8.0->ultralytics) (1.3.0)\n",
            "Requirement already satisfied: six>=1.5 in /usr/local/lib/python3.11/dist-packages (from python-dateutil>=2.7->matplotlib>=3.3.0->ultralytics) (1.17.0)\n",
            "Requirement already satisfied: MarkupSafe>=2.0 in /usr/local/lib/python3.11/dist-packages (from jinja2->torch>=1.8.0->ultralytics) (3.0.2)\n",
            "Downloading ultralytics-8.3.150-py3-none-any.whl (1.0 MB)\n",
            "\u001b[2K   \u001b[90m━━━━━━━━━━━━━━━━━━━━━━━━━━━━━━━━━━━━━━━━\u001b[0m \u001b[32m1.0/1.0 MB\u001b[0m \u001b[31m35.9 MB/s\u001b[0m eta \u001b[36m0:00:00\u001b[0m\n",
            "\u001b[?25hDownloading nvidia_cublas_cu12-12.4.5.8-py3-none-manylinux2014_x86_64.whl (363.4 MB)\n",
            "\u001b[2K   \u001b[90m━━━━━━━━━━━━━━━━━━━━━━━━━━━━━━━━━━━━━━━━\u001b[0m \u001b[32m363.4/363.4 MB\u001b[0m \u001b[31m2.8 MB/s\u001b[0m eta \u001b[36m0:00:00\u001b[0m\n",
            "\u001b[?25hDownloading nvidia_cuda_cupti_cu12-12.4.127-py3-none-manylinux2014_x86_64.whl (13.8 MB)\n",
            "\u001b[2K   \u001b[90m━━━━━━━━━━━━━━━━━━━━━━━━━━━━━━━━━━━━━━━━\u001b[0m \u001b[32m13.8/13.8 MB\u001b[0m \u001b[31m53.1 MB/s\u001b[0m eta \u001b[36m0:00:00\u001b[0m\n",
            "\u001b[?25hDownloading nvidia_cuda_nvrtc_cu12-12.4.127-py3-none-manylinux2014_x86_64.whl (24.6 MB)\n",
            "\u001b[2K   \u001b[90m━━━━━━━━━━━━━━━━━━━━━━━━━━━━━━━━━━━━━━━━\u001b[0m \u001b[32m24.6/24.6 MB\u001b[0m \u001b[31m31.4 MB/s\u001b[0m eta \u001b[36m0:00:00\u001b[0m\n",
            "\u001b[?25hDownloading nvidia_cuda_runtime_cu12-12.4.127-py3-none-manylinux2014_x86_64.whl (883 kB)\n",
            "\u001b[2K   \u001b[90m━━━━━━━━━━━━━━━━━━━━━━━━━━━━━━━━━━━━━━━━\u001b[0m \u001b[32m883.7/883.7 kB\u001b[0m \u001b[31m40.8 MB/s\u001b[0m eta \u001b[36m0:00:00\u001b[0m\n",
            "\u001b[?25hDownloading nvidia_cudnn_cu12-9.1.0.70-py3-none-manylinux2014_x86_64.whl (664.8 MB)\n",
            "\u001b[2K   \u001b[90m━━━━━━━━━━━━━━━━━━━━━━━━━━━━━━━━━━━━━━━━\u001b[0m \u001b[32m664.8/664.8 MB\u001b[0m \u001b[31m2.9 MB/s\u001b[0m eta \u001b[36m0:00:00\u001b[0m\n",
            "\u001b[?25hDownloading nvidia_cufft_cu12-11.2.1.3-py3-none-manylinux2014_x86_64.whl (211.5 MB)\n",
            "\u001b[2K   \u001b[90m━━━━━━━━━━━━━━━━━━━━━━━━━━━━━━━━━━━━━━━━\u001b[0m \u001b[32m211.5/211.5 MB\u001b[0m \u001b[31m5.5 MB/s\u001b[0m eta \u001b[36m0:00:00\u001b[0m\n",
            "\u001b[?25hDownloading nvidia_curand_cu12-10.3.5.147-py3-none-manylinux2014_x86_64.whl (56.3 MB)\n",
            "\u001b[2K   \u001b[90m━━━━━━━━━━━━━━━━━━━━━━━━━━━━━━━━━━━━━━━━\u001b[0m \u001b[32m56.3/56.3 MB\u001b[0m \u001b[31m13.9 MB/s\u001b[0m eta \u001b[36m0:00:00\u001b[0m\n",
            "\u001b[?25hDownloading nvidia_cusolver_cu12-11.6.1.9-py3-none-manylinux2014_x86_64.whl (127.9 MB)\n",
            "\u001b[2K   \u001b[90m━━━━━━━━━━━━━━━━━━━━━━━━━━━━━━━━━━━━━━━━\u001b[0m \u001b[32m127.9/127.9 MB\u001b[0m \u001b[31m8.4 MB/s\u001b[0m eta \u001b[36m0:00:00\u001b[0m\n",
            "\u001b[?25hDownloading nvidia_cusparse_cu12-12.3.1.170-py3-none-manylinux2014_x86_64.whl (207.5 MB)\n",
            "\u001b[2K   \u001b[90m━━━━━━━━━━━━━━━━━━━━━━━━━━━━━━━━━━━━━━━━\u001b[0m \u001b[32m207.5/207.5 MB\u001b[0m \u001b[31m5.4 MB/s\u001b[0m eta \u001b[36m0:00:00\u001b[0m\n",
            "\u001b[?25hDownloading nvidia_nvjitlink_cu12-12.4.127-py3-none-manylinux2014_x86_64.whl (21.1 MB)\n",
            "\u001b[2K   \u001b[90m━━━━━━━━━━━━━━━━━━━━━━━━━━━━━━━━━━━━━━━━\u001b[0m \u001b[32m21.1/21.1 MB\u001b[0m \u001b[31m106.9 MB/s\u001b[0m eta \u001b[36m0:00:00\u001b[0m\n",
            "\u001b[?25hDownloading ultralytics_thop-2.0.14-py3-none-any.whl (26 kB)\n",
            "Installing collected packages: nvidia-nvjitlink-cu12, nvidia-curand-cu12, nvidia-cufft-cu12, nvidia-cuda-runtime-cu12, nvidia-cuda-nvrtc-cu12, nvidia-cuda-cupti-cu12, nvidia-cublas-cu12, nvidia-cusparse-cu12, nvidia-cudnn-cu12, nvidia-cusolver-cu12, ultralytics-thop, ultralytics\n",
            "  Attempting uninstall: nvidia-nvjitlink-cu12\n",
            "    Found existing installation: nvidia-nvjitlink-cu12 12.5.82\n",
            "    Uninstalling nvidia-nvjitlink-cu12-12.5.82:\n",
            "      Successfully uninstalled nvidia-nvjitlink-cu12-12.5.82\n",
            "  Attempting uninstall: nvidia-curand-cu12\n",
            "    Found existing installation: nvidia-curand-cu12 10.3.6.82\n",
            "    Uninstalling nvidia-curand-cu12-10.3.6.82:\n",
            "      Successfully uninstalled nvidia-curand-cu12-10.3.6.82\n",
            "  Attempting uninstall: nvidia-cufft-cu12\n",
            "    Found existing installation: nvidia-cufft-cu12 11.2.3.61\n",
            "    Uninstalling nvidia-cufft-cu12-11.2.3.61:\n",
            "      Successfully uninstalled nvidia-cufft-cu12-11.2.3.61\n",
            "  Attempting uninstall: nvidia-cuda-runtime-cu12\n",
            "    Found existing installation: nvidia-cuda-runtime-cu12 12.5.82\n",
            "    Uninstalling nvidia-cuda-runtime-cu12-12.5.82:\n",
            "      Successfully uninstalled nvidia-cuda-runtime-cu12-12.5.82\n",
            "  Attempting uninstall: nvidia-cuda-nvrtc-cu12\n",
            "    Found existing installation: nvidia-cuda-nvrtc-cu12 12.5.82\n",
            "    Uninstalling nvidia-cuda-nvrtc-cu12-12.5.82:\n",
            "      Successfully uninstalled nvidia-cuda-nvrtc-cu12-12.5.82\n",
            "  Attempting uninstall: nvidia-cuda-cupti-cu12\n",
            "    Found existing installation: nvidia-cuda-cupti-cu12 12.5.82\n",
            "    Uninstalling nvidia-cuda-cupti-cu12-12.5.82:\n",
            "      Successfully uninstalled nvidia-cuda-cupti-cu12-12.5.82\n",
            "  Attempting uninstall: nvidia-cublas-cu12\n",
            "    Found existing installation: nvidia-cublas-cu12 12.5.3.2\n",
            "    Uninstalling nvidia-cublas-cu12-12.5.3.2:\n",
            "      Successfully uninstalled nvidia-cublas-cu12-12.5.3.2\n",
            "  Attempting uninstall: nvidia-cusparse-cu12\n",
            "    Found existing installation: nvidia-cusparse-cu12 12.5.1.3\n",
            "    Uninstalling nvidia-cusparse-cu12-12.5.1.3:\n",
            "      Successfully uninstalled nvidia-cusparse-cu12-12.5.1.3\n",
            "  Attempting uninstall: nvidia-cudnn-cu12\n",
            "    Found existing installation: nvidia-cudnn-cu12 9.3.0.75\n",
            "    Uninstalling nvidia-cudnn-cu12-9.3.0.75:\n",
            "      Successfully uninstalled nvidia-cudnn-cu12-9.3.0.75\n",
            "  Attempting uninstall: nvidia-cusolver-cu12\n",
            "    Found existing installation: nvidia-cusolver-cu12 11.6.3.83\n",
            "    Uninstalling nvidia-cusolver-cu12-11.6.3.83:\n",
            "      Successfully uninstalled nvidia-cusolver-cu12-11.6.3.83\n",
            "Successfully installed nvidia-cublas-cu12-12.4.5.8 nvidia-cuda-cupti-cu12-12.4.127 nvidia-cuda-nvrtc-cu12-12.4.127 nvidia-cuda-runtime-cu12-12.4.127 nvidia-cudnn-cu12-9.1.0.70 nvidia-cufft-cu12-11.2.1.3 nvidia-curand-cu12-10.3.5.147 nvidia-cusolver-cu12-11.6.1.9 nvidia-cusparse-cu12-12.3.1.170 nvidia-nvjitlink-cu12-12.4.127 ultralytics-8.3.150 ultralytics-thop-2.0.14\n"
          ]
        }
      ],
      "source": [
        "pip install ultralytics"
      ]
    },
    {
      "cell_type": "code",
      "execution_count": null,
      "metadata": {
        "colab": {
          "base_uri": "https://localhost:8080/"
        },
        "id": "jaJuJ4gPyAgz",
        "outputId": "87fcb706-65ce-455d-aff2-44ba0598c07d"
      },
      "outputs": [
        {
          "name": "stdout",
          "output_type": "stream",
          "text": [
            "Silindi: 00360_115.jpg (etiketi yok)\n",
            "Silindi: 00364_127.jpg (etiketi yok)\n",
            "Silindi: 00360_126.jpg (etiketi yok)\n",
            "Silindi: 00364_107.jpg (etiketi yok)\n",
            "Silindi: 00360_120.jpg (etiketi yok)\n",
            "Silindi: 00364_125.jpg (etiketi yok)\n",
            "Silindi: 00360_122.jpg (etiketi yok)\n",
            "Silindi: 00360_108.jpg (etiketi yok)\n",
            "Silindi: 00360_114.jpg (etiketi yok)\n",
            "Silindi: 00364_113.jpg (etiketi yok)\n",
            "Silindi: 00364_119.jpg (etiketi yok)\n",
            "Silindi: 00360_129.jpg (etiketi yok)\n",
            "Silindi: 00364_120.jpg (etiketi yok)\n",
            "Silindi: 00406_98.jpg (etiketi yok)\n",
            "Silindi: 72 (12).jpg (etiketi yok)\n",
            "\n",
            "Toplam 15 etiketsiz görsel silindi.\n"
          ]
        }
      ],
      "source": [
        "import os\n",
        "\n",
        "IMAGE_DIR = '/content/drive/MyDrive/DL_FINAL/train/train_augmented/images'\n",
        "LABEL_DIR = '/content/drive/MyDrive/DL_FINAL/train/train_augmented/labels'\n",
        "\n",
        "removed_count = 0\n",
        "for fname in os.listdir(IMAGE_DIR):\n",
        "    if fname.endswith('.jpg'):\n",
        "        label_file = os.path.join(LABEL_DIR, fname.replace('.jpg', '.txt'))\n",
        "        image_file = os.path.join(IMAGE_DIR, fname)\n",
        "        if not os.path.exists(label_file):\n",
        "            os.remove(image_file)\n",
        "            removed_count += 1\n",
        "            print(f\"Silindi: {fname} (etiketi yok)\")\n",
        "\n",
        "print(f\"\\nToplam {removed_count} etiketsiz görsel silindi.\")\n"
      ]
    },
    {
      "cell_type": "code",
      "execution_count": null,
      "metadata": {
        "colab": {
          "base_uri": "https://localhost:8080/"
        },
        "id": "-e6nSwjmtBhA",
        "outputId": "6116d47f-b5cc-4d5b-bf3f-551598777d0c"
      },
      "outputs": [
        {
          "name": "stdout",
          "output_type": "stream",
          "text": [
            "Toplam 5268 (label'ı olan) görsel bulundu.\n",
            "Train: 4477, Valid: 791\n",
            "\n",
            "Ayrım tamam! Sonuç:\n",
            "- Train görüntü: 4477\n",
            "- Valid görüntü: 791\n",
            "- Train label:   4477\n",
            "- Valid label:   791\n"
          ]
        }
      ],
      "source": [
        "import os\n",
        "import glob\n",
        "import shutil\n",
        "import random\n",
        "\n",
        "INPUT_IMAGE_DIR = '/content/drive/MyDrive/DL_FINAL/train/train_augmented/images'\n",
        "INPUT_LABEL_DIR = '/content/drive/MyDrive/DL_FINAL/train/train_augmented/labels'\n",
        "\n",
        "TRAIN_IMAGE_OUT = '/content/drive/MyDrive/DL_FINAL/split/train/tr_images'\n",
        "TRAIN_LABEL_OUT = '/content/drive/MyDrive/DL_FINAL/split/train/tr_labels'\n",
        "VALID_IMAGE_OUT = '/content/drive/MyDrive/DL_FINAL/split/valid/vl_images'\n",
        "VALID_LABEL_OUT = '/content/drive/MyDrive/DL_FINAL/split/valid/vl_labels'\n",
        "\n",
        "for d in [TRAIN_IMAGE_OUT, TRAIN_LABEL_OUT, VALID_IMAGE_OUT, VALID_LABEL_OUT]:\n",
        "    os.makedirs(d, exist_ok=True)\n",
        "\n",
        "image_paths = sorted(glob.glob(os.path.join(INPUT_IMAGE_DIR, '*.jpg')))\n",
        "random.seed(42)\n",
        "random.shuffle(image_paths)\n",
        "\n",
        "valid_image_paths = []\n",
        "for img_path in image_paths:\n",
        "    fname = os.path.basename(img_path)\n",
        "    label_path = os.path.join(INPUT_LABEL_DIR, fname.replace('.jpg', '.txt'))\n",
        "    if os.path.exists(label_path):\n",
        "        valid_image_paths.append(img_path)\n",
        "\n",
        "n_total = len(valid_image_paths)\n",
        "n_train = int(n_total * 0.85)\n",
        "n_valid = n_total - n_train\n",
        "\n",
        "train_images = valid_image_paths[:n_train]\n",
        "valid_images = valid_image_paths[n_train:]\n",
        "\n",
        "print(f\"Toplam {n_total} (label'ı olan) görsel bulundu.\")\n",
        "print(f\"Train: {len(train_images)}, Valid: {len(valid_images)}\")\n",
        "\n",
        "for img_path in train_images:\n",
        "    fname = os.path.basename(img_path)\n",
        "    label_path = os.path.join(INPUT_LABEL_DIR, fname.replace('.jpg', '.txt'))\n",
        "    shutil.copy2(img_path, os.path.join(TRAIN_IMAGE_OUT, fname))\n",
        "    shutil.copy2(label_path, os.path.join(TRAIN_LABEL_OUT, fname.replace('.jpg', '.txt')))\n",
        "\n",
        "for img_path in valid_images:\n",
        "    fname = os.path.basename(img_path)\n",
        "    label_path = os.path.join(INPUT_LABEL_DIR, fname.replace('.jpg', '.txt'))\n",
        "    shutil.copy2(img_path, os.path.join(VALID_IMAGE_OUT, fname))\n",
        "    shutil.copy2(label_path, os.path.join(VALID_LABEL_OUT, fname.replace('.jpg', '.txt')))\n",
        "\n",
        "print(\"\\nAyrım tamam! Sonuç:\")\n",
        "print(f\"- Train görüntü: {len(os.listdir(TRAIN_IMAGE_OUT))}\")\n",
        "print(f\"- Valid görüntü: {len(os.listdir(VALID_IMAGE_OUT))}\")\n",
        "print(f\"- Train label:   {len(os.listdir(TRAIN_LABEL_OUT))}\")\n",
        "print(f\"- Valid label:   {len(os.listdir(VALID_LABEL_OUT))}\")\n"
      ]
    },
    {
      "cell_type": "code",
      "execution_count": null,
      "metadata": {
        "colab": {
          "base_uri": "https://localhost:8080/"
        },
        "id": "Q175wEet0NSM",
        "outputId": "80409913-0dfa-4dda-f11a-12f858c9c87e"
      },
      "outputs": [
        {
          "name": "stdout",
          "output_type": "stream",
          "text": [
            "Tüm görsellerin karşılığı label dosyası var!\n"
          ]
        }
      ],
      "source": [
        "import os\n",
        "\n",
        "IMG_DIR = '/content/drive/MyDrive/DL_FINAL/split/train/tr_images'\n",
        "LBL_DIR = '/content/drive/MyDrive/DL_FINAL/split/train/tr_labels'\n",
        "\n",
        "problemli = []\n",
        "for fname in os.listdir(IMG_DIR):\n",
        "    if fname.endswith('.jpg'):\n",
        "        lblname = fname.replace('.jpg', '.txt')\n",
        "        if not os.path.exists(os.path.join(LBL_DIR, lblname)):\n",
        "            problemli.append(fname)\n",
        "\n",
        "if len(problemli) == 0:\n",
        "    print(\"Tüm görsellerin karşılığı label dosyası var!\")\n",
        "else:\n",
        "    print(f\"{len(problemli)} adet label'sız görsel var!\")\n",
        "    print(problemli)\n"
      ]
    },
    {
      "cell_type": "code",
      "execution_count": null,
      "metadata": {
        "colab": {
          "base_uri": "https://localhost:8080/"
        },
        "id": "d5hA9IPM4sAP",
        "outputId": "8e75083d-f0bc-48b8-ca16-06c2f4ffde7b"
      },
      "outputs": [
        {
          "name": "stdout",
          "output_type": "stream",
          "text": [
            "\n",
            "Toplam 4477 label dosyası jpg’lerin yanına kopyalandı.\n"
          ]
        }
      ],
      "source": [
        "import os\n",
        "import shutil\n",
        "\n",
        "IMAGES_DIR = '/content/drive/MyDrive/DL_FINAL/split/train/tr_images'\n",
        "LABELS_DIR = '/content/drive/MyDrive/DL_FINAL/split/train/tr_labels'\n",
        "\n",
        "n_copied = 0\n",
        "n_missing = 0\n",
        "\n",
        "for fname in os.listdir(IMAGES_DIR):\n",
        "    if fname.endswith('.jpg'):\n",
        "        label_fname = fname.replace('.jpg', '.txt')\n",
        "        src_label = os.path.join(LABELS_DIR, label_fname)\n",
        "        dst_label = os.path.join(IMAGES_DIR, label_fname)\n",
        "        if os.path.exists(src_label):\n",
        "            shutil.copy2(src_label, dst_label)\n",
        "            n_copied += 1\n",
        "        else:\n",
        "            print(f\"[UYARI] {label_fname} bulunamadı!\")\n",
        "            n_missing += 1\n",
        "\n",
        "print(f\"\\nToplam {n_copied} label dosyası jpg’lerin yanına kopyalandı.\")\n",
        "if n_missing > 0:\n",
        "    print(f\"{n_missing} label bulunamadı!\")\n"
      ]
    },
    {
      "cell_type": "code",
      "execution_count": null,
      "metadata": {
        "colab": {
          "base_uri": "https://localhost:8080/"
        },
        "id": "2T-Add_D21fH",
        "outputId": "43fcb2db-3ab4-463d-90bd-22aa17022f54"
      },
      "outputs": [
        {
          "name": "stdout",
          "output_type": "stream",
          "text": [
            "brain.yaml başarıyla oluşturuldu: /content/drive/MyDrive/DL_FINAL/brain.yaml\n"
          ]
        }
      ],
      "source": [
        "import yaml\n",
        "\n",
        "yaml_dict = {\n",
        "    'train': '/content/drive/MyDrive/DL_FINAL/split/train/tr_images',\n",
        "    'val': '/content/drive/MyDrive/DL_FINAL/split/valid/vl_images',\n",
        "    'test': '/content/drive/MyDrive/DL_FINAL/valid',\n",
        "    'names': {\n",
        "        0: 'negatif',\n",
        "        1: 'pozitif'\n",
        "    }\n",
        "}\n",
        "\n",
        "yaml_path = '/content/drive/MyDrive/DL_FINAL/brain.yaml'\n",
        "with open(yaml_path, 'w') as f:\n",
        "    yaml.dump(yaml_dict, f, default_flow_style=False, allow_unicode=True)\n",
        "\n",
        "print(f\"brain.yaml başarıyla oluşturuldu: {yaml_path}\")\n"
      ]
    },
    {
      "cell_type": "code",
      "execution_count": null,
      "metadata": {
        "colab": {
          "base_uri": "https://localhost:8080/"
        },
        "id": "uzQxPc0oggKI",
        "outputId": "1e8b34dd-14f8-432d-c411-33ba56633a1b"
      },
      "outputs": [
        {
          "name": "stdout",
          "output_type": "stream",
          "text": [
            "Ultralytics 8.3.150 🚀 Python-3.11.12 torch-2.6.0+cu124 CUDA:0 (Tesla T4, 15095MiB)\n",
            "\u001b[34m\u001b[1mengine/trainer: \u001b[0magnostic_nms=False, amp=True, augment=False, auto_augment=randaugment, batch=8, bgr=0.0, box=7.5, cache=False, cfg=None, classes=None, close_mosaic=10, cls=0.5, conf=None, copy_paste=0.0, copy_paste_mode=flip, cos_lr=False, cutmix=0.0, data=/content/drive/MyDrive/DL_FINAL/brain.yaml, degrees=0.0, deterministic=True, device=None, dfl=1.5, dnn=False, dropout=0.0, dynamic=False, embed=None, epochs=50, erasing=0.4, exist_ok=False, fliplr=0.5, flipud=0.0, format=torchscript, fraction=1.0, freeze=None, half=False, hsv_h=0.015, hsv_s=0.7, hsv_v=0.4, imgsz=640, int8=False, iou=0.7, keras=False, kobj=1.0, line_width=None, lr0=0.001, lrf=0.01, mask_ratio=4, max_det=300, mixup=0.0, mode=train, model=yolov8n.pt, momentum=0.937, mosaic=1.0, multi_scale=False, name=train, nbs=64, nms=False, opset=None, optimize=False, optimizer=Adam, overlap_mask=True, patience=10, perspective=0.0, plots=True, pose=12.0, pretrained=True, profile=False, project=None, rect=False, resume=False, retina_masks=False, save=True, save_conf=False, save_crop=False, save_dir=runs/detect/train, save_frames=False, save_json=False, save_period=-1, save_txt=False, scale=0.5, seed=0, shear=0.0, show=False, show_boxes=True, show_conf=True, show_labels=True, simplify=True, single_cls=False, source=None, split=val, stream_buffer=False, task=detect, time=None, tracker=botsort.yaml, translate=0.1, val=True, verbose=True, vid_stride=1, visualize=False, warmup_bias_lr=0.1, warmup_epochs=3.0, warmup_momentum=0.8, weight_decay=0.0005, workers=8, workspace=None\n",
            "Overriding model.yaml nc=80 with nc=2\n",
            "\n",
            "                   from  n    params  module                                       arguments                     \n",
            "  0                  -1  1       464  ultralytics.nn.modules.conv.Conv             [3, 16, 3, 2]                 \n",
            "  1                  -1  1      4672  ultralytics.nn.modules.conv.Conv             [16, 32, 3, 2]                \n",
            "  2                  -1  1      7360  ultralytics.nn.modules.block.C2f             [32, 32, 1, True]             \n",
            "  3                  -1  1     18560  ultralytics.nn.modules.conv.Conv             [32, 64, 3, 2]                \n",
            "  4                  -1  2     49664  ultralytics.nn.modules.block.C2f             [64, 64, 2, True]             \n",
            "  5                  -1  1     73984  ultralytics.nn.modules.conv.Conv             [64, 128, 3, 2]               \n",
            "  6                  -1  2    197632  ultralytics.nn.modules.block.C2f             [128, 128, 2, True]           \n",
            "  7                  -1  1    295424  ultralytics.nn.modules.conv.Conv             [128, 256, 3, 2]              \n",
            "  8                  -1  1    460288  ultralytics.nn.modules.block.C2f             [256, 256, 1, True]           \n",
            "  9                  -1  1    164608  ultralytics.nn.modules.block.SPPF            [256, 256, 5]                 \n",
            " 10                  -1  1         0  torch.nn.modules.upsampling.Upsample         [None, 2, 'nearest']          \n",
            " 11             [-1, 6]  1         0  ultralytics.nn.modules.conv.Concat           [1]                           \n",
            " 12                  -1  1    148224  ultralytics.nn.modules.block.C2f             [384, 128, 1]                 \n",
            " 13                  -1  1         0  torch.nn.modules.upsampling.Upsample         [None, 2, 'nearest']          \n",
            " 14             [-1, 4]  1         0  ultralytics.nn.modules.conv.Concat           [1]                           \n",
            " 15                  -1  1     37248  ultralytics.nn.modules.block.C2f             [192, 64, 1]                  \n",
            " 16                  -1  1     36992  ultralytics.nn.modules.conv.Conv             [64, 64, 3, 2]                \n",
            " 17            [-1, 12]  1         0  ultralytics.nn.modules.conv.Concat           [1]                           \n",
            " 18                  -1  1    123648  ultralytics.nn.modules.block.C2f             [192, 128, 1]                 \n",
            " 19                  -1  1    147712  ultralytics.nn.modules.conv.Conv             [128, 128, 3, 2]              \n",
            " 20             [-1, 9]  1         0  ultralytics.nn.modules.conv.Concat           [1]                           \n",
            " 21                  -1  1    493056  ultralytics.nn.modules.block.C2f             [384, 256, 1]                 \n",
            " 22        [15, 18, 21]  1    751702  ultralytics.nn.modules.head.Detect           [2, [64, 128, 256]]           \n",
            "Model summary: 129 layers, 3,011,238 parameters, 3,011,222 gradients, 8.2 GFLOPs\n",
            "\n",
            "Transferred 319/355 items from pretrained weights\n",
            "Freezing layer 'model.22.dfl.conv.weight'\n",
            "\u001b[34m\u001b[1mAMP: \u001b[0mrunning Automatic Mixed Precision (AMP) checks...\n",
            "\u001b[34m\u001b[1mAMP: \u001b[0mchecks passed ✅\n",
            "\u001b[34m\u001b[1mtrain: \u001b[0mFast image access ✅ (ping: 0.7±0.4 ms, read: 7.0±4.5 MB/s, size: 15.9 KB)\n"
          ]
        },
        {
          "name": "stderr",
          "output_type": "stream",
          "text": [
            "\u001b[34m\u001b[1mtrain: \u001b[0mScanning /content/drive/MyDrive/DL_FINAL/split/train/tr_images.cache... 4477 images, 0 backgrounds, 0 corrupt: 100%|██████████| 4477/4477 [00:00<?, ?it/s]\n"
          ]
        },
        {
          "name": "stdout",
          "output_type": "stream",
          "text": [
            "\u001b[34m\u001b[1malbumentations: \u001b[0mBlur(p=0.01, blur_limit=(3, 7)), MedianBlur(p=0.01, blur_limit=(3, 7)), ToGray(p=0.01, method='weighted_average', num_output_channels=3), CLAHE(p=0.01, clip_limit=(1.0, 4.0), tile_grid_size=(8, 8))\n",
            "\u001b[34m\u001b[1mval: \u001b[0mFast image access ✅ (ping: 4.8±5.3 ms, read: 0.4±0.4 MB/s, size: 8.7 KB)\n"
          ]
        },
        {
          "name": "stderr",
          "output_type": "stream",
          "text": [
            "\u001b[34m\u001b[1mval: \u001b[0mScanning /content/drive/MyDrive/DL_FINAL/split/valid/vl_images.cache... 791 images, 0 backgrounds, 0 corrupt: 100%|██████████| 791/791 [00:00<?, ?it/s]\n"
          ]
        },
        {
          "name": "stdout",
          "output_type": "stream",
          "text": [
            "Plotting labels to runs/detect/train/labels.jpg... \n",
            "\u001b[34m\u001b[1moptimizer:\u001b[0m Adam(lr=0.001, momentum=0.937) with parameter groups 57 weight(decay=0.0), 64 weight(decay=0.0005), 63 bias(decay=0.0)\n",
            "Image sizes 640 train, 640 val\n",
            "Using 2 dataloader workers\n",
            "Logging results to \u001b[1mruns/detect/train\u001b[0m\n",
            "Starting training for 50 epochs...\n",
            "\n",
            "      Epoch    GPU_mem   box_loss   cls_loss   dfl_loss  Instances       Size\n"
          ]
        },
        {
          "name": "stderr",
          "output_type": "stream",
          "text": [
            "       1/50      3.61G      1.194      1.669      1.147          8        640: 100%|██████████| 560/560 [01:56<00:00,  4.82it/s]\n",
            "                 Class     Images  Instances      Box(P          R      mAP50  mAP50-95): 100%|██████████| 50/50 [00:10<00:00,  4.89it/s]\n"
          ]
        },
        {
          "name": "stdout",
          "output_type": "stream",
          "text": [
            "                   all        791        827      0.478      0.841      0.509       0.37\n",
            "\n",
            "      Epoch    GPU_mem   box_loss   cls_loss   dfl_loss  Instances       Size\n"
          ]
        },
        {
          "name": "stderr",
          "output_type": "stream",
          "text": [
            "       2/50      3.61G      1.114      1.283      1.097         11        640: 100%|██████████| 560/560 [01:42<00:00,  5.48it/s]\n",
            "                 Class     Images  Instances      Box(P          R      mAP50  mAP50-95): 100%|██████████| 50/50 [00:08<00:00,  5.77it/s]"
          ]
        },
        {
          "name": "stdout",
          "output_type": "stream",
          "text": [
            "                   all        791        827      0.477      0.867      0.562      0.398\n"
          ]
        },
        {
          "name": "stderr",
          "output_type": "stream",
          "text": [
            "\n"
          ]
        },
        {
          "name": "stdout",
          "output_type": "stream",
          "text": [
            "\n",
            "      Epoch    GPU_mem   box_loss   cls_loss   dfl_loss  Instances       Size\n"
          ]
        },
        {
          "name": "stderr",
          "output_type": "stream",
          "text": [
            "       3/50      3.63G      1.088      1.216      1.084          4        640: 100%|██████████| 560/560 [01:43<00:00,  5.40it/s]\n",
            "                 Class     Images  Instances      Box(P          R      mAP50  mAP50-95): 100%|██████████| 50/50 [00:07<00:00,  7.00it/s]"
          ]
        },
        {
          "name": "stdout",
          "output_type": "stream",
          "text": [
            "                   all        791        827      0.492      0.891      0.587      0.427\n"
          ]
        },
        {
          "name": "stderr",
          "output_type": "stream",
          "text": [
            "\n"
          ]
        },
        {
          "name": "stdout",
          "output_type": "stream",
          "text": [
            "\n",
            "      Epoch    GPU_mem   box_loss   cls_loss   dfl_loss  Instances       Size\n"
          ]
        },
        {
          "name": "stderr",
          "output_type": "stream",
          "text": [
            "       4/50      3.63G       1.05      1.163      1.077          6        640: 100%|██████████| 560/560 [01:43<00:00,  5.42it/s]\n",
            "                 Class     Images  Instances      Box(P          R      mAP50  mAP50-95): 100%|██████████| 50/50 [00:07<00:00,  6.40it/s]"
          ]
        },
        {
          "name": "stdout",
          "output_type": "stream",
          "text": [
            "                   all        791        827      0.534      0.873      0.671      0.487\n"
          ]
        },
        {
          "name": "stderr",
          "output_type": "stream",
          "text": [
            "\n"
          ]
        },
        {
          "name": "stdout",
          "output_type": "stream",
          "text": [
            "\n",
            "      Epoch    GPU_mem   box_loss   cls_loss   dfl_loss  Instances       Size\n"
          ]
        },
        {
          "name": "stderr",
          "output_type": "stream",
          "text": [
            "       5/50      3.63G      1.021      1.089      1.047          7        640: 100%|██████████| 560/560 [01:43<00:00,  5.43it/s]\n",
            "                 Class     Images  Instances      Box(P          R      mAP50  mAP50-95): 100%|██████████| 50/50 [00:08<00:00,  5.96it/s]"
          ]
        },
        {
          "name": "stdout",
          "output_type": "stream",
          "text": [
            "                   all        791        827      0.559      0.844      0.719      0.535\n"
          ]
        },
        {
          "name": "stderr",
          "output_type": "stream",
          "text": [
            "\n"
          ]
        },
        {
          "name": "stdout",
          "output_type": "stream",
          "text": [
            "\n",
            "      Epoch    GPU_mem   box_loss   cls_loss   dfl_loss  Instances       Size\n"
          ]
        },
        {
          "name": "stderr",
          "output_type": "stream",
          "text": [
            "       6/50      3.63G      1.012      1.051      1.054          5        640: 100%|██████████| 560/560 [01:41<00:00,  5.51it/s]\n",
            "                 Class     Images  Instances      Box(P          R      mAP50  mAP50-95): 100%|██████████| 50/50 [00:08<00:00,  5.67it/s]"
          ]
        },
        {
          "name": "stdout",
          "output_type": "stream",
          "text": [
            "                   all        791        827      0.648      0.794      0.787      0.589\n"
          ]
        },
        {
          "name": "stderr",
          "output_type": "stream",
          "text": [
            "\n"
          ]
        },
        {
          "name": "stdout",
          "output_type": "stream",
          "text": [
            "\n",
            "      Epoch    GPU_mem   box_loss   cls_loss   dfl_loss  Instances       Size\n"
          ]
        },
        {
          "name": "stderr",
          "output_type": "stream",
          "text": [
            "       7/50      3.65G      1.001      1.028      1.056         10        640: 100%|██████████| 560/560 [01:44<00:00,  5.35it/s]\n",
            "                 Class     Images  Instances      Box(P          R      mAP50  mAP50-95): 100%|██████████| 50/50 [00:09<00:00,  5.55it/s]"
          ]
        },
        {
          "name": "stdout",
          "output_type": "stream",
          "text": [
            "                   all        791        827      0.653      0.832      0.789      0.591\n"
          ]
        },
        {
          "name": "stderr",
          "output_type": "stream",
          "text": [
            "\n"
          ]
        },
        {
          "name": "stdout",
          "output_type": "stream",
          "text": [
            "\n",
            "      Epoch    GPU_mem   box_loss   cls_loss   dfl_loss  Instances       Size\n"
          ]
        },
        {
          "name": "stderr",
          "output_type": "stream",
          "text": [
            "       8/50      3.66G     0.9755     0.9647      1.037         11        640: 100%|██████████| 560/560 [01:43<00:00,  5.42it/s]\n",
            "                 Class     Images  Instances      Box(P          R      mAP50  mAP50-95): 100%|██████████| 50/50 [00:08<00:00,  5.68it/s]"
          ]
        },
        {
          "name": "stdout",
          "output_type": "stream",
          "text": [
            "                   all        791        827      0.642      0.849      0.802      0.607\n"
          ]
        },
        {
          "name": "stderr",
          "output_type": "stream",
          "text": [
            "\n"
          ]
        },
        {
          "name": "stdout",
          "output_type": "stream",
          "text": [
            "\n",
            "      Epoch    GPU_mem   box_loss   cls_loss   dfl_loss  Instances       Size\n"
          ]
        },
        {
          "name": "stderr",
          "output_type": "stream",
          "text": [
            "       9/50      3.68G      0.976     0.9501      1.036          5        640: 100%|██████████| 560/560 [01:43<00:00,  5.43it/s]\n",
            "                 Class     Images  Instances      Box(P          R      mAP50  mAP50-95): 100%|██████████| 50/50 [00:10<00:00,  4.65it/s]"
          ]
        },
        {
          "name": "stdout",
          "output_type": "stream",
          "text": [
            "                   all        791        827      0.665      0.852      0.814      0.613\n"
          ]
        },
        {
          "name": "stderr",
          "output_type": "stream",
          "text": [
            "\n"
          ]
        },
        {
          "name": "stdout",
          "output_type": "stream",
          "text": [
            "\n",
            "      Epoch    GPU_mem   box_loss   cls_loss   dfl_loss  Instances       Size\n"
          ]
        },
        {
          "name": "stderr",
          "output_type": "stream",
          "text": [
            "      10/50      3.68G     0.9536     0.8961      1.025          9        640: 100%|██████████| 560/560 [01:43<00:00,  5.42it/s]\n",
            "                 Class     Images  Instances      Box(P          R      mAP50  mAP50-95): 100%|██████████| 50/50 [00:08<00:00,  5.67it/s]"
          ]
        },
        {
          "name": "stdout",
          "output_type": "stream",
          "text": [
            "                   all        791        827      0.759      0.813      0.845      0.649\n"
          ]
        },
        {
          "name": "stderr",
          "output_type": "stream",
          "text": [
            "\n"
          ]
        },
        {
          "name": "stdout",
          "output_type": "stream",
          "text": [
            "\n",
            "      Epoch    GPU_mem   box_loss   cls_loss   dfl_loss  Instances       Size\n"
          ]
        },
        {
          "name": "stderr",
          "output_type": "stream",
          "text": [
            "      11/50      3.68G     0.9301     0.8681      1.015          9        640: 100%|██████████| 560/560 [01:45<00:00,  5.31it/s]\n",
            "                 Class     Images  Instances      Box(P          R      mAP50  mAP50-95): 100%|██████████| 50/50 [00:09<00:00,  5.52it/s]"
          ]
        },
        {
          "name": "stdout",
          "output_type": "stream",
          "text": [
            "                   all        791        827      0.756      0.835      0.869      0.675\n"
          ]
        },
        {
          "name": "stderr",
          "output_type": "stream",
          "text": [
            "\n"
          ]
        },
        {
          "name": "stdout",
          "output_type": "stream",
          "text": [
            "\n",
            "      Epoch    GPU_mem   box_loss   cls_loss   dfl_loss  Instances       Size\n"
          ]
        },
        {
          "name": "stderr",
          "output_type": "stream",
          "text": [
            "      12/50      3.68G     0.9169     0.8518      1.006          4        640: 100%|██████████| 560/560 [01:45<00:00,  5.30it/s]\n",
            "                 Class     Images  Instances      Box(P          R      mAP50  mAP50-95): 100%|██████████| 50/50 [00:08<00:00,  5.60it/s]"
          ]
        },
        {
          "name": "stdout",
          "output_type": "stream",
          "text": [
            "                   all        791        827      0.728      0.846      0.882      0.691\n"
          ]
        },
        {
          "name": "stderr",
          "output_type": "stream",
          "text": [
            "\n"
          ]
        },
        {
          "name": "stdout",
          "output_type": "stream",
          "text": [
            "\n",
            "      Epoch    GPU_mem   box_loss   cls_loss   dfl_loss  Instances       Size\n"
          ]
        },
        {
          "name": "stderr",
          "output_type": "stream",
          "text": [
            "      13/50      3.68G     0.9133     0.7945      1.004          5        640: 100%|██████████| 560/560 [01:44<00:00,  5.38it/s]\n",
            "                 Class     Images  Instances      Box(P          R      mAP50  mAP50-95): 100%|██████████| 50/50 [00:09<00:00,  5.47it/s]"
          ]
        },
        {
          "name": "stdout",
          "output_type": "stream",
          "text": [
            "                   all        791        827      0.802       0.87      0.899      0.713\n"
          ]
        },
        {
          "name": "stderr",
          "output_type": "stream",
          "text": [
            "\n"
          ]
        },
        {
          "name": "stdout",
          "output_type": "stream",
          "text": [
            "\n",
            "      Epoch    GPU_mem   box_loss   cls_loss   dfl_loss  Instances       Size\n"
          ]
        },
        {
          "name": "stderr",
          "output_type": "stream",
          "text": [
            "      14/50      3.68G     0.9121      0.779     0.9993         10        640: 100%|██████████| 560/560 [01:47<00:00,  5.20it/s]\n",
            "                 Class     Images  Instances      Box(P          R      mAP50  mAP50-95): 100%|██████████| 50/50 [00:08<00:00,  6.14it/s]"
          ]
        },
        {
          "name": "stdout",
          "output_type": "stream",
          "text": [
            "                   all        791        827      0.867      0.869      0.937      0.736\n"
          ]
        },
        {
          "name": "stderr",
          "output_type": "stream",
          "text": [
            "\n"
          ]
        },
        {
          "name": "stdout",
          "output_type": "stream",
          "text": [
            "\n",
            "      Epoch    GPU_mem   box_loss   cls_loss   dfl_loss  Instances       Size\n"
          ]
        },
        {
          "name": "stderr",
          "output_type": "stream",
          "text": [
            "      15/50      3.68G     0.8962     0.7523     0.9926         11        640: 100%|██████████| 560/560 [01:45<00:00,  5.30it/s]\n",
            "                 Class     Images  Instances      Box(P          R      mAP50  mAP50-95): 100%|██████████| 50/50 [00:07<00:00,  6.71it/s]"
          ]
        },
        {
          "name": "stdout",
          "output_type": "stream",
          "text": [
            "                   all        791        827      0.857      0.851      0.922       0.74\n"
          ]
        },
        {
          "name": "stderr",
          "output_type": "stream",
          "text": [
            "\n"
          ]
        },
        {
          "name": "stdout",
          "output_type": "stream",
          "text": [
            "\n",
            "      Epoch    GPU_mem   box_loss   cls_loss   dfl_loss  Instances       Size\n"
          ]
        },
        {
          "name": "stderr",
          "output_type": "stream",
          "text": [
            "      16/50      3.68G     0.8758      0.737     0.9848          5        640: 100%|██████████| 560/560 [01:50<00:00,  5.08it/s]\n",
            "                 Class     Images  Instances      Box(P          R      mAP50  mAP50-95): 100%|██████████| 50/50 [00:08<00:00,  6.19it/s]"
          ]
        },
        {
          "name": "stdout",
          "output_type": "stream",
          "text": [
            "                   all        791        827      0.859      0.869      0.928      0.736\n"
          ]
        },
        {
          "name": "stderr",
          "output_type": "stream",
          "text": [
            "\n"
          ]
        },
        {
          "name": "stdout",
          "output_type": "stream",
          "text": [
            "\n",
            "      Epoch    GPU_mem   box_loss   cls_loss   dfl_loss  Instances       Size\n"
          ]
        },
        {
          "name": "stderr",
          "output_type": "stream",
          "text": [
            "      17/50      3.68G     0.8636     0.6963     0.9844          7        640: 100%|██████████| 560/560 [01:45<00:00,  5.32it/s]\n",
            "                 Class     Images  Instances      Box(P          R      mAP50  mAP50-95): 100%|██████████| 50/50 [00:08<00:00,  5.97it/s]"
          ]
        },
        {
          "name": "stdout",
          "output_type": "stream",
          "text": [
            "                   all        791        827      0.889      0.928      0.959      0.774\n"
          ]
        },
        {
          "name": "stderr",
          "output_type": "stream",
          "text": [
            "\n"
          ]
        },
        {
          "name": "stdout",
          "output_type": "stream",
          "text": [
            "\n",
            "      Epoch    GPU_mem   box_loss   cls_loss   dfl_loss  Instances       Size\n"
          ]
        },
        {
          "name": "stderr",
          "output_type": "stream",
          "text": [
            "      18/50      3.68G     0.8687      0.693     0.9889          9        640: 100%|██████████| 560/560 [01:46<00:00,  5.24it/s]\n",
            "                 Class     Images  Instances      Box(P          R      mAP50  mAP50-95): 100%|██████████| 50/50 [00:08<00:00,  5.64it/s]"
          ]
        },
        {
          "name": "stdout",
          "output_type": "stream",
          "text": [
            "                   all        791        827       0.88      0.904      0.958      0.776\n"
          ]
        },
        {
          "name": "stderr",
          "output_type": "stream",
          "text": [
            "\n"
          ]
        },
        {
          "name": "stdout",
          "output_type": "stream",
          "text": [
            "\n",
            "      Epoch    GPU_mem   box_loss   cls_loss   dfl_loss  Instances       Size\n"
          ]
        },
        {
          "name": "stderr",
          "output_type": "stream",
          "text": [
            "      19/50      3.68G     0.8472      0.664     0.9735          9        640: 100%|██████████| 560/560 [01:44<00:00,  5.36it/s]\n",
            "                 Class     Images  Instances      Box(P          R      mAP50  mAP50-95): 100%|██████████| 50/50 [00:09<00:00,  5.04it/s]"
          ]
        },
        {
          "name": "stdout",
          "output_type": "stream",
          "text": [
            "                   all        791        827      0.906      0.903      0.959      0.785\n"
          ]
        },
        {
          "name": "stderr",
          "output_type": "stream",
          "text": [
            "\n"
          ]
        },
        {
          "name": "stdout",
          "output_type": "stream",
          "text": [
            "\n",
            "      Epoch    GPU_mem   box_loss   cls_loss   dfl_loss  Instances       Size\n"
          ]
        },
        {
          "name": "stderr",
          "output_type": "stream",
          "text": [
            "      20/50      3.68G     0.8473     0.6469     0.9794         10        640: 100%|██████████| 560/560 [01:46<00:00,  5.28it/s]\n",
            "                 Class     Images  Instances      Box(P          R      mAP50  mAP50-95): 100%|██████████| 50/50 [00:08<00:00,  5.80it/s]"
          ]
        },
        {
          "name": "stdout",
          "output_type": "stream",
          "text": [
            "                   all        791        827      0.911      0.936      0.962      0.785\n"
          ]
        },
        {
          "name": "stderr",
          "output_type": "stream",
          "text": [
            "\n"
          ]
        },
        {
          "name": "stdout",
          "output_type": "stream",
          "text": [
            "\n",
            "      Epoch    GPU_mem   box_loss   cls_loss   dfl_loss  Instances       Size\n"
          ]
        },
        {
          "name": "stderr",
          "output_type": "stream",
          "text": [
            "      21/50      3.68G     0.8409     0.6267     0.9758          4        640: 100%|██████████| 560/560 [01:43<00:00,  5.43it/s]\n",
            "                 Class     Images  Instances      Box(P          R      mAP50  mAP50-95): 100%|██████████| 50/50 [00:08<00:00,  5.56it/s]"
          ]
        },
        {
          "name": "stdout",
          "output_type": "stream",
          "text": [
            "                   all        791        827      0.938       0.96      0.983      0.807\n"
          ]
        },
        {
          "name": "stderr",
          "output_type": "stream",
          "text": [
            "\n"
          ]
        },
        {
          "name": "stdout",
          "output_type": "stream",
          "text": [
            "\n",
            "      Epoch    GPU_mem   box_loss   cls_loss   dfl_loss  Instances       Size\n"
          ]
        },
        {
          "name": "stderr",
          "output_type": "stream",
          "text": [
            "      22/50      3.68G     0.8269     0.5966      0.968          9        640: 100%|██████████| 560/560 [01:48<00:00,  5.18it/s]\n",
            "                 Class     Images  Instances      Box(P          R      mAP50  mAP50-95): 100%|██████████| 50/50 [00:07<00:00,  6.52it/s]"
          ]
        },
        {
          "name": "stdout",
          "output_type": "stream",
          "text": [
            "                   all        791        827      0.947      0.944      0.985      0.818\n"
          ]
        },
        {
          "name": "stderr",
          "output_type": "stream",
          "text": [
            "\n"
          ]
        },
        {
          "name": "stdout",
          "output_type": "stream",
          "text": [
            "\n",
            "      Epoch    GPU_mem   box_loss   cls_loss   dfl_loss  Instances       Size\n"
          ]
        },
        {
          "name": "stderr",
          "output_type": "stream",
          "text": [
            "      23/50      3.68G     0.8182     0.5936     0.9602          9        640: 100%|██████████| 560/560 [01:47<00:00,  5.21it/s]\n",
            "                 Class     Images  Instances      Box(P          R      mAP50  mAP50-95): 100%|██████████| 50/50 [00:07<00:00,  6.67it/s]"
          ]
        },
        {
          "name": "stdout",
          "output_type": "stream",
          "text": [
            "                   all        791        827       0.96      0.963      0.987      0.817\n"
          ]
        },
        {
          "name": "stderr",
          "output_type": "stream",
          "text": [
            "\n"
          ]
        },
        {
          "name": "stdout",
          "output_type": "stream",
          "text": [
            "\n",
            "      Epoch    GPU_mem   box_loss   cls_loss   dfl_loss  Instances       Size\n"
          ]
        },
        {
          "name": "stderr",
          "output_type": "stream",
          "text": [
            "      24/50      3.68G     0.8155     0.5652     0.9601          7        640: 100%|██████████| 560/560 [01:47<00:00,  5.20it/s]\n",
            "                 Class     Images  Instances      Box(P          R      mAP50  mAP50-95): 100%|██████████| 50/50 [00:07<00:00,  6.78it/s]"
          ]
        },
        {
          "name": "stdout",
          "output_type": "stream",
          "text": [
            "                   all        791        827      0.959      0.961      0.981      0.809\n"
          ]
        },
        {
          "name": "stderr",
          "output_type": "stream",
          "text": [
            "\n"
          ]
        },
        {
          "name": "stdout",
          "output_type": "stream",
          "text": [
            "\n",
            "      Epoch    GPU_mem   box_loss   cls_loss   dfl_loss  Instances       Size\n"
          ]
        },
        {
          "name": "stderr",
          "output_type": "stream",
          "text": [
            "      25/50      3.68G     0.7946     0.5641     0.9551         12        640: 100%|██████████| 560/560 [01:48<00:00,  5.18it/s]\n",
            "                 Class     Images  Instances      Box(P          R      mAP50  mAP50-95): 100%|██████████| 50/50 [00:07<00:00,  6.68it/s]"
          ]
        },
        {
          "name": "stdout",
          "output_type": "stream",
          "text": [
            "                   all        791        827      0.952      0.949       0.98      0.814\n"
          ]
        },
        {
          "name": "stderr",
          "output_type": "stream",
          "text": [
            "\n"
          ]
        },
        {
          "name": "stdout",
          "output_type": "stream",
          "text": [
            "\n",
            "      Epoch    GPU_mem   box_loss   cls_loss   dfl_loss  Instances       Size\n"
          ]
        },
        {
          "name": "stderr",
          "output_type": "stream",
          "text": [
            "      26/50      3.68G     0.7938     0.5542      0.958          9        640: 100%|██████████| 560/560 [01:48<00:00,  5.14it/s]\n",
            "                 Class     Images  Instances      Box(P          R      mAP50  mAP50-95): 100%|██████████| 50/50 [00:08<00:00,  5.73it/s]\n"
          ]
        },
        {
          "name": "stdout",
          "output_type": "stream",
          "text": [
            "                   all        791        827      0.964      0.971      0.987      0.823\n",
            "\n",
            "      Epoch    GPU_mem   box_loss   cls_loss   dfl_loss  Instances       Size\n"
          ]
        },
        {
          "name": "stderr",
          "output_type": "stream",
          "text": [
            "      27/50      3.68G     0.7928     0.5623     0.9515         10        640: 100%|██████████| 560/560 [01:44<00:00,  5.38it/s]\n",
            "                 Class     Images  Instances      Box(P          R      mAP50  mAP50-95): 100%|██████████| 50/50 [00:09<00:00,  5.37it/s]"
          ]
        },
        {
          "name": "stdout",
          "output_type": "stream",
          "text": [
            "                   all        791        827      0.961      0.984      0.989      0.832\n"
          ]
        },
        {
          "name": "stderr",
          "output_type": "stream",
          "text": [
            "\n"
          ]
        },
        {
          "name": "stdout",
          "output_type": "stream",
          "text": [
            "\n",
            "      Epoch    GPU_mem   box_loss   cls_loss   dfl_loss  Instances       Size\n"
          ]
        },
        {
          "name": "stderr",
          "output_type": "stream",
          "text": [
            "      28/50      3.68G     0.7823      0.546     0.9461          4        640: 100%|██████████| 560/560 [01:48<00:00,  5.17it/s]\n",
            "                 Class     Images  Instances      Box(P          R      mAP50  mAP50-95): 100%|██████████| 50/50 [00:09<00:00,  5.39it/s]"
          ]
        },
        {
          "name": "stdout",
          "output_type": "stream",
          "text": [
            "                   all        791        827      0.964      0.973      0.988      0.834\n"
          ]
        },
        {
          "name": "stderr",
          "output_type": "stream",
          "text": [
            "\n"
          ]
        },
        {
          "name": "stdout",
          "output_type": "stream",
          "text": [
            "\n",
            "      Epoch    GPU_mem   box_loss   cls_loss   dfl_loss  Instances       Size\n"
          ]
        },
        {
          "name": "stderr",
          "output_type": "stream",
          "text": [
            "      29/50      3.68G     0.7649     0.5144     0.9461         11        640: 100%|██████████| 560/560 [01:49<00:00,  5.13it/s]\n",
            "                 Class     Images  Instances      Box(P          R      mAP50  mAP50-95): 100%|██████████| 50/50 [00:08<00:00,  6.24it/s]"
          ]
        },
        {
          "name": "stdout",
          "output_type": "stream",
          "text": [
            "                   all        791        827      0.977      0.985      0.992      0.841\n"
          ]
        },
        {
          "name": "stderr",
          "output_type": "stream",
          "text": [
            "\n"
          ]
        },
        {
          "name": "stdout",
          "output_type": "stream",
          "text": [
            "\n",
            "      Epoch    GPU_mem   box_loss   cls_loss   dfl_loss  Instances       Size\n"
          ]
        },
        {
          "name": "stderr",
          "output_type": "stream",
          "text": [
            "      30/50      3.68G     0.7504     0.5055     0.9406         10        640: 100%|██████████| 560/560 [01:47<00:00,  5.19it/s]\n",
            "                 Class     Images  Instances      Box(P          R      mAP50  mAP50-95): 100%|██████████| 50/50 [00:08<00:00,  5.84it/s]"
          ]
        },
        {
          "name": "stdout",
          "output_type": "stream",
          "text": [
            "                   all        791        827      0.983      0.987      0.992      0.845\n"
          ]
        },
        {
          "name": "stderr",
          "output_type": "stream",
          "text": [
            "\n"
          ]
        },
        {
          "name": "stdout",
          "output_type": "stream",
          "text": [
            "\n",
            "      Epoch    GPU_mem   box_loss   cls_loss   dfl_loss  Instances       Size\n"
          ]
        },
        {
          "name": "stderr",
          "output_type": "stream",
          "text": [
            "      31/50      3.68G     0.7628     0.4977     0.9421         11        640: 100%|██████████| 560/560 [01:47<00:00,  5.21it/s]\n",
            "                 Class     Images  Instances      Box(P          R      mAP50  mAP50-95): 100%|██████████| 50/50 [00:07<00:00,  6.59it/s]"
          ]
        },
        {
          "name": "stdout",
          "output_type": "stream",
          "text": [
            "                   all        791        827      0.966      0.972      0.991      0.845\n"
          ]
        },
        {
          "name": "stderr",
          "output_type": "stream",
          "text": [
            "\n"
          ]
        },
        {
          "name": "stdout",
          "output_type": "stream",
          "text": [
            "\n",
            "      Epoch    GPU_mem   box_loss   cls_loss   dfl_loss  Instances       Size\n"
          ]
        },
        {
          "name": "stderr",
          "output_type": "stream",
          "text": [
            "      32/50      3.68G     0.7432     0.4849     0.9337          8        640: 100%|██████████| 560/560 [01:46<00:00,  5.28it/s]\n",
            "                 Class     Images  Instances      Box(P          R      mAP50  mAP50-95): 100%|██████████| 50/50 [00:08<00:00,  5.90it/s]\n"
          ]
        },
        {
          "name": "stdout",
          "output_type": "stream",
          "text": [
            "                   all        791        827      0.987      0.981      0.992      0.844\n",
            "\n",
            "      Epoch    GPU_mem   box_loss   cls_loss   dfl_loss  Instances       Size\n"
          ]
        },
        {
          "name": "stderr",
          "output_type": "stream",
          "text": [
            "      33/50      3.68G     0.7443     0.4802     0.9386          7        640: 100%|██████████| 560/560 [01:48<00:00,  5.17it/s]\n",
            "                 Class     Images  Instances      Box(P          R      mAP50  mAP50-95): 100%|██████████| 50/50 [00:08<00:00,  5.90it/s]"
          ]
        },
        {
          "name": "stdout",
          "output_type": "stream",
          "text": [
            "                   all        791        827      0.984      0.977      0.992       0.85\n"
          ]
        },
        {
          "name": "stderr",
          "output_type": "stream",
          "text": [
            "\n"
          ]
        },
        {
          "name": "stdout",
          "output_type": "stream",
          "text": [
            "\n",
            "      Epoch    GPU_mem   box_loss   cls_loss   dfl_loss  Instances       Size\n"
          ]
        },
        {
          "name": "stderr",
          "output_type": "stream",
          "text": [
            "      34/50      3.68G     0.7257     0.4693     0.9289          7        640: 100%|██████████| 560/560 [01:41<00:00,  5.49it/s]\n",
            "                 Class     Images  Instances      Box(P          R      mAP50  mAP50-95): 100%|██████████| 50/50 [00:07<00:00,  6.80it/s]"
          ]
        },
        {
          "name": "stdout",
          "output_type": "stream",
          "text": [
            "                   all        791        827      0.989      0.978      0.993      0.852\n"
          ]
        },
        {
          "name": "stderr",
          "output_type": "stream",
          "text": [
            "\n"
          ]
        },
        {
          "name": "stdout",
          "output_type": "stream",
          "text": [
            "\n",
            "      Epoch    GPU_mem   box_loss   cls_loss   dfl_loss  Instances       Size\n"
          ]
        },
        {
          "name": "stderr",
          "output_type": "stream",
          "text": [
            "      35/50      3.68G     0.7151      0.456     0.9282         14        640: 100%|██████████| 560/560 [01:45<00:00,  5.33it/s]\n",
            "                 Class     Images  Instances      Box(P          R      mAP50  mAP50-95): 100%|██████████| 50/50 [00:07<00:00,  6.54it/s]\n"
          ]
        },
        {
          "name": "stdout",
          "output_type": "stream",
          "text": [
            "                   all        791        827      0.986      0.987      0.992      0.858\n",
            "\n",
            "      Epoch    GPU_mem   box_loss   cls_loss   dfl_loss  Instances       Size\n"
          ]
        },
        {
          "name": "stderr",
          "output_type": "stream",
          "text": [
            "      36/50       3.7G     0.7097     0.4496     0.9267          8        640: 100%|██████████| 560/560 [01:44<00:00,  5.36it/s]\n",
            "                 Class     Images  Instances      Box(P          R      mAP50  mAP50-95): 100%|██████████| 50/50 [00:08<00:00,  6.02it/s]"
          ]
        },
        {
          "name": "stdout",
          "output_type": "stream",
          "text": [
            "                   all        791        827      0.987      0.989      0.991      0.861\n"
          ]
        },
        {
          "name": "stderr",
          "output_type": "stream",
          "text": [
            "\n"
          ]
        },
        {
          "name": "stdout",
          "output_type": "stream",
          "text": [
            "\n",
            "      Epoch    GPU_mem   box_loss   cls_loss   dfl_loss  Instances       Size\n"
          ]
        },
        {
          "name": "stderr",
          "output_type": "stream",
          "text": [
            "      37/50       3.7G     0.7137     0.4418     0.9288         11        640: 100%|██████████| 560/560 [01:47<00:00,  5.22it/s]\n",
            "                 Class     Images  Instances      Box(P          R      mAP50  mAP50-95): 100%|██████████| 50/50 [00:07<00:00,  6.25it/s]"
          ]
        },
        {
          "name": "stdout",
          "output_type": "stream",
          "text": [
            "                   all        791        827      0.978      0.989      0.992      0.866\n"
          ]
        },
        {
          "name": "stderr",
          "output_type": "stream",
          "text": [
            "\n"
          ]
        },
        {
          "name": "stdout",
          "output_type": "stream",
          "text": [
            "\n",
            "      Epoch    GPU_mem   box_loss   cls_loss   dfl_loss  Instances       Size\n"
          ]
        },
        {
          "name": "stderr",
          "output_type": "stream",
          "text": [
            "      38/50       3.7G     0.7013     0.4333     0.9216         10        640: 100%|██████████| 560/560 [01:43<00:00,  5.39it/s]\n",
            "                 Class     Images  Instances      Box(P          R      mAP50  mAP50-95): 100%|██████████| 50/50 [00:07<00:00,  6.61it/s]"
          ]
        },
        {
          "name": "stdout",
          "output_type": "stream",
          "text": [
            "                   all        791        827      0.989      0.988      0.993      0.871\n"
          ]
        },
        {
          "name": "stderr",
          "output_type": "stream",
          "text": [
            "\n"
          ]
        },
        {
          "name": "stdout",
          "output_type": "stream",
          "text": [
            "\n",
            "      Epoch    GPU_mem   box_loss   cls_loss   dfl_loss  Instances       Size\n"
          ]
        },
        {
          "name": "stderr",
          "output_type": "stream",
          "text": [
            "      39/50       3.7G     0.6894     0.4198     0.9215          7        640: 100%|██████████| 560/560 [01:45<00:00,  5.32it/s]\n",
            "                 Class     Images  Instances      Box(P          R      mAP50  mAP50-95): 100%|██████████| 50/50 [00:07<00:00,  6.84it/s]"
          ]
        },
        {
          "name": "stdout",
          "output_type": "stream",
          "text": [
            "                   all        791        827      0.982      0.995      0.993      0.868\n"
          ]
        },
        {
          "name": "stderr",
          "output_type": "stream",
          "text": [
            "\n"
          ]
        },
        {
          "name": "stdout",
          "output_type": "stream",
          "text": [
            "\n",
            "      Epoch    GPU_mem   box_loss   cls_loss   dfl_loss  Instances       Size\n"
          ]
        },
        {
          "name": "stderr",
          "output_type": "stream",
          "text": [
            "      40/50       3.7G     0.6816      0.419     0.9129         12        640: 100%|██████████| 560/560 [01:44<00:00,  5.38it/s]\n",
            "                 Class     Images  Instances      Box(P          R      mAP50  mAP50-95): 100%|██████████| 50/50 [00:07<00:00,  6.88it/s]"
          ]
        },
        {
          "name": "stdout",
          "output_type": "stream",
          "text": [
            "                   all        791        827      0.989      0.993      0.993      0.874\n"
          ]
        },
        {
          "name": "stderr",
          "output_type": "stream",
          "text": [
            "\n"
          ]
        },
        {
          "name": "stdout",
          "output_type": "stream",
          "text": [
            "Closing dataloader mosaic\n",
            "\u001b[34m\u001b[1malbumentations: \u001b[0mBlur(p=0.01, blur_limit=(3, 7)), MedianBlur(p=0.01, blur_limit=(3, 7)), ToGray(p=0.01, method='weighted_average', num_output_channels=3), CLAHE(p=0.01, clip_limit=(1.0, 4.0), tile_grid_size=(8, 8))\n",
            "\n",
            "      Epoch    GPU_mem   box_loss   cls_loss   dfl_loss  Instances       Size\n"
          ]
        },
        {
          "name": "stderr",
          "output_type": "stream",
          "text": [
            "      41/50       3.7G     0.5985     0.3304     0.8727          5        640: 100%|██████████| 560/560 [01:41<00:00,  5.50it/s]\n",
            "                 Class     Images  Instances      Box(P          R      mAP50  mAP50-95): 100%|██████████| 50/50 [00:08<00:00,  5.79it/s]"
          ]
        },
        {
          "name": "stdout",
          "output_type": "stream",
          "text": [
            "                   all        791        827      0.991      0.989      0.993      0.879\n"
          ]
        },
        {
          "name": "stderr",
          "output_type": "stream",
          "text": [
            "\n"
          ]
        },
        {
          "name": "stdout",
          "output_type": "stream",
          "text": [
            "\n",
            "      Epoch    GPU_mem   box_loss   cls_loss   dfl_loss  Instances       Size\n"
          ]
        },
        {
          "name": "stderr",
          "output_type": "stream",
          "text": [
            "      42/50       3.7G     0.5801     0.3123     0.8662          5        640: 100%|██████████| 560/560 [01:38<00:00,  5.70it/s]\n",
            "                 Class     Images  Instances      Box(P          R      mAP50  mAP50-95): 100%|██████████| 50/50 [00:08<00:00,  5.77it/s]"
          ]
        },
        {
          "name": "stdout",
          "output_type": "stream",
          "text": [
            "                   all        791        827      0.993      0.993      0.994      0.885\n"
          ]
        },
        {
          "name": "stderr",
          "output_type": "stream",
          "text": [
            "\n"
          ]
        },
        {
          "name": "stdout",
          "output_type": "stream",
          "text": [
            "\n",
            "      Epoch    GPU_mem   box_loss   cls_loss   dfl_loss  Instances       Size\n"
          ]
        },
        {
          "name": "stderr",
          "output_type": "stream",
          "text": [
            "      43/50       3.7G      0.569     0.3025     0.8587          6        640: 100%|██████████| 560/560 [01:36<00:00,  5.80it/s]\n",
            "                 Class     Images  Instances      Box(P          R      mAP50  mAP50-95): 100%|██████████| 50/50 [00:08<00:00,  5.97it/s]"
          ]
        },
        {
          "name": "stdout",
          "output_type": "stream",
          "text": [
            "                   all        791        827      0.993      0.997      0.994      0.881\n"
          ]
        },
        {
          "name": "stderr",
          "output_type": "stream",
          "text": [
            "\n"
          ]
        },
        {
          "name": "stdout",
          "output_type": "stream",
          "text": [
            "\n",
            "      Epoch    GPU_mem   box_loss   cls_loss   dfl_loss  Instances       Size\n"
          ]
        },
        {
          "name": "stderr",
          "output_type": "stream",
          "text": [
            "      44/50       3.7G     0.5535     0.2971     0.8497          5        640: 100%|██████████| 560/560 [01:39<00:00,  5.63it/s]\n",
            "                 Class     Images  Instances      Box(P          R      mAP50  mAP50-95): 100%|██████████| 50/50 [00:08<00:00,  5.63it/s]"
          ]
        },
        {
          "name": "stdout",
          "output_type": "stream",
          "text": [
            "                   all        791        827      0.991      0.993      0.994      0.885\n"
          ]
        },
        {
          "name": "stderr",
          "output_type": "stream",
          "text": [
            "\n"
          ]
        },
        {
          "name": "stdout",
          "output_type": "stream",
          "text": [
            "\n",
            "      Epoch    GPU_mem   box_loss   cls_loss   dfl_loss  Instances       Size\n"
          ]
        },
        {
          "name": "stderr",
          "output_type": "stream",
          "text": [
            "      45/50       3.7G     0.5498     0.2901     0.8565          5        640: 100%|██████████| 560/560 [01:40<00:00,  5.58it/s]\n",
            "                 Class     Images  Instances      Box(P          R      mAP50  mAP50-95): 100%|██████████| 50/50 [00:07<00:00,  6.27it/s]"
          ]
        },
        {
          "name": "stdout",
          "output_type": "stream",
          "text": [
            "                   all        791        827      0.996      0.997      0.993      0.889\n"
          ]
        },
        {
          "name": "stderr",
          "output_type": "stream",
          "text": [
            "\n"
          ]
        },
        {
          "name": "stdout",
          "output_type": "stream",
          "text": [
            "\n",
            "      Epoch    GPU_mem   box_loss   cls_loss   dfl_loss  Instances       Size\n"
          ]
        },
        {
          "name": "stderr",
          "output_type": "stream",
          "text": [
            "      46/50       3.7G     0.5328     0.2804     0.8519          6        640: 100%|██████████| 560/560 [01:42<00:00,  5.47it/s]\n",
            "                 Class     Images  Instances      Box(P          R      mAP50  mAP50-95): 100%|██████████| 50/50 [00:08<00:00,  6.24it/s]"
          ]
        },
        {
          "name": "stdout",
          "output_type": "stream",
          "text": [
            "                   all        791        827      0.996      0.996      0.994      0.893\n"
          ]
        },
        {
          "name": "stderr",
          "output_type": "stream",
          "text": [
            "\n"
          ]
        },
        {
          "name": "stdout",
          "output_type": "stream",
          "text": [
            "\n",
            "      Epoch    GPU_mem   box_loss   cls_loss   dfl_loss  Instances       Size\n"
          ]
        },
        {
          "name": "stderr",
          "output_type": "stream",
          "text": [
            "      47/50       3.7G     0.5256     0.2763     0.8422          5        640: 100%|██████████| 560/560 [01:41<00:00,  5.49it/s]\n",
            "                 Class     Images  Instances      Box(P          R      mAP50  mAP50-95): 100%|██████████| 50/50 [00:08<00:00,  5.64it/s]"
          ]
        },
        {
          "name": "stdout",
          "output_type": "stream",
          "text": [
            "                   all        791        827      0.995      0.999      0.994      0.895\n"
          ]
        },
        {
          "name": "stderr",
          "output_type": "stream",
          "text": [
            "\n"
          ]
        },
        {
          "name": "stdout",
          "output_type": "stream",
          "text": [
            "\n",
            "      Epoch    GPU_mem   box_loss   cls_loss   dfl_loss  Instances       Size\n"
          ]
        },
        {
          "name": "stderr",
          "output_type": "stream",
          "text": [
            "      48/50       3.7G     0.5151     0.2719     0.8474          5        640: 100%|██████████| 560/560 [01:40<00:00,  5.56it/s]\n",
            "                 Class     Images  Instances      Box(P          R      mAP50  mAP50-95): 100%|██████████| 50/50 [00:08<00:00,  5.76it/s]"
          ]
        },
        {
          "name": "stdout",
          "output_type": "stream",
          "text": [
            "                   all        791        827      0.994      0.996      0.993      0.897\n"
          ]
        },
        {
          "name": "stderr",
          "output_type": "stream",
          "text": [
            "\n"
          ]
        },
        {
          "name": "stdout",
          "output_type": "stream",
          "text": [
            "\n",
            "      Epoch    GPU_mem   box_loss   cls_loss   dfl_loss  Instances       Size\n"
          ]
        },
        {
          "name": "stderr",
          "output_type": "stream",
          "text": [
            "      49/50       3.7G     0.5023     0.2638     0.8401          7        640: 100%|██████████| 560/560 [01:38<00:00,  5.66it/s]\n",
            "                 Class     Images  Instances      Box(P          R      mAP50  mAP50-95): 100%|██████████| 50/50 [00:07<00:00,  6.97it/s]"
          ]
        },
        {
          "name": "stdout",
          "output_type": "stream",
          "text": [
            "                   all        791        827      0.995          1      0.994      0.902\n"
          ]
        },
        {
          "name": "stderr",
          "output_type": "stream",
          "text": [
            "\n"
          ]
        },
        {
          "name": "stdout",
          "output_type": "stream",
          "text": [
            "\n",
            "      Epoch    GPU_mem   box_loss   cls_loss   dfl_loss  Instances       Size\n"
          ]
        },
        {
          "name": "stderr",
          "output_type": "stream",
          "text": [
            "      50/50       3.7G     0.4969     0.2636     0.8379          5        640: 100%|██████████| 560/560 [01:38<00:00,  5.68it/s]\n",
            "                 Class     Images  Instances      Box(P          R      mAP50  mAP50-95): 100%|██████████| 50/50 [00:09<00:00,  5.18it/s]"
          ]
        },
        {
          "name": "stdout",
          "output_type": "stream",
          "text": [
            "                   all        791        827      0.997      0.999      0.994      0.904\n"
          ]
        },
        {
          "name": "stderr",
          "output_type": "stream",
          "text": [
            "\n"
          ]
        },
        {
          "name": "stdout",
          "output_type": "stream",
          "text": [
            "\n",
            "50 epochs completed in 1.576 hours.\n",
            "Optimizer stripped from runs/detect/train/weights/last.pt, 6.2MB\n",
            "Optimizer stripped from runs/detect/train/weights/best.pt, 6.2MB\n",
            "\n",
            "Validating runs/detect/train/weights/best.pt...\n",
            "Ultralytics 8.3.150 🚀 Python-3.11.12 torch-2.6.0+cu124 CUDA:0 (Tesla T4, 15095MiB)\n",
            "Model summary (fused): 72 layers, 3,006,038 parameters, 0 gradients, 8.1 GFLOPs\n"
          ]
        },
        {
          "name": "stderr",
          "output_type": "stream",
          "text": [
            "                 Class     Images  Instances      Box(P          R      mAP50  mAP50-95): 100%|██████████| 50/50 [00:10<00:00,  4.59it/s]\n"
          ]
        },
        {
          "name": "stdout",
          "output_type": "stream",
          "text": [
            "                   all        791        827      0.997      0.999      0.994      0.904\n",
            "               negatif        403        416      0.998      0.998      0.995       0.91\n",
            "               pozitif        388        411      0.995          1      0.993      0.899\n",
            "Speed: 0.4ms preprocess, 3.0ms inference, 0.0ms loss, 3.0ms postprocess per image\n",
            "Results saved to \u001b[1mruns/detect/train\u001b[0m\n",
            "Eğitim tamamlandı! Sonuçlar: ultralytics.utils.metrics.DetMetrics object with attributes:\n",
            "\n",
            "ap_class_index: array([0, 1])\n",
            "box: ultralytics.utils.metrics.Metric object\n",
            "confusion_matrix: <ultralytics.utils.metrics.ConfusionMatrix object at 0x7cde1ac65010>\n",
            "curves: ['Precision-Recall(B)', 'F1-Confidence(B)', 'Precision-Confidence(B)', 'Recall-Confidence(B)']\n",
            "curves_results: [[array([          0,    0.001001,    0.002002,    0.003003,    0.004004,    0.005005,    0.006006,    0.007007,    0.008008,    0.009009,     0.01001,    0.011011,    0.012012,    0.013013,    0.014014,    0.015015,    0.016016,    0.017017,    0.018018,    0.019019,     0.02002,    0.021021,    0.022022,    0.023023,\n",
            "          0.024024,    0.025025,    0.026026,    0.027027,    0.028028,    0.029029,     0.03003,    0.031031,    0.032032,    0.033033,    0.034034,    0.035035,    0.036036,    0.037037,    0.038038,    0.039039,     0.04004,    0.041041,    0.042042,    0.043043,    0.044044,    0.045045,    0.046046,    0.047047,\n",
            "          0.048048,    0.049049,     0.05005,    0.051051,    0.052052,    0.053053,    0.054054,    0.055055,    0.056056,    0.057057,    0.058058,    0.059059,     0.06006,    0.061061,    0.062062,    0.063063,    0.064064,    0.065065,    0.066066,    0.067067,    0.068068,    0.069069,     0.07007,    0.071071,\n",
            "          0.072072,    0.073073,    0.074074,    0.075075,    0.076076,    0.077077,    0.078078,    0.079079,     0.08008,    0.081081,    0.082082,    0.083083,    0.084084,    0.085085,    0.086086,    0.087087,    0.088088,    0.089089,     0.09009,    0.091091,    0.092092,    0.093093,    0.094094,    0.095095,\n",
            "          0.096096,    0.097097,    0.098098,    0.099099,      0.1001,      0.1011,      0.1021,      0.1031,      0.1041,     0.10511,     0.10611,     0.10711,     0.10811,     0.10911,     0.11011,     0.11111,     0.11211,     0.11311,     0.11411,     0.11512,     0.11612,     0.11712,     0.11812,     0.11912,\n",
            "           0.12012,     0.12112,     0.12212,     0.12312,     0.12412,     0.12513,     0.12613,     0.12713,     0.12813,     0.12913,     0.13013,     0.13113,     0.13213,     0.13313,     0.13413,     0.13514,     0.13614,     0.13714,     0.13814,     0.13914,     0.14014,     0.14114,     0.14214,     0.14314,\n",
            "           0.14414,     0.14515,     0.14615,     0.14715,     0.14815,     0.14915,     0.15015,     0.15115,     0.15215,     0.15315,     0.15415,     0.15516,     0.15616,     0.15716,     0.15816,     0.15916,     0.16016,     0.16116,     0.16216,     0.16316,     0.16416,     0.16517,     0.16617,     0.16717,\n",
            "           0.16817,     0.16917,     0.17017,     0.17117,     0.17217,     0.17317,     0.17417,     0.17518,     0.17618,     0.17718,     0.17818,     0.17918,     0.18018,     0.18118,     0.18218,     0.18318,     0.18418,     0.18519,     0.18619,     0.18719,     0.18819,     0.18919,     0.19019,     0.19119,\n",
            "           0.19219,     0.19319,     0.19419,      0.1952,      0.1962,      0.1972,      0.1982,      0.1992,      0.2002,      0.2012,      0.2022,      0.2032,      0.2042,     0.20521,     0.20621,     0.20721,     0.20821,     0.20921,     0.21021,     0.21121,     0.21221,     0.21321,     0.21421,     0.21522,\n",
            "           0.21622,     0.21722,     0.21822,     0.21922,     0.22022,     0.22122,     0.22222,     0.22322,     0.22422,     0.22523,     0.22623,     0.22723,     0.22823,     0.22923,     0.23023,     0.23123,     0.23223,     0.23323,     0.23423,     0.23524,     0.23624,     0.23724,     0.23824,     0.23924,\n",
            "           0.24024,     0.24124,     0.24224,     0.24324,     0.24424,     0.24525,     0.24625,     0.24725,     0.24825,     0.24925,     0.25025,     0.25125,     0.25225,     0.25325,     0.25425,     0.25526,     0.25626,     0.25726,     0.25826,     0.25926,     0.26026,     0.26126,     0.26226,     0.26326,\n",
            "           0.26426,     0.26527,     0.26627,     0.26727,     0.26827,     0.26927,     0.27027,     0.27127,     0.27227,     0.27327,     0.27427,     0.27528,     0.27628,     0.27728,     0.27828,     0.27928,     0.28028,     0.28128,     0.28228,     0.28328,     0.28428,     0.28529,     0.28629,     0.28729,\n",
            "           0.28829,     0.28929,     0.29029,     0.29129,     0.29229,     0.29329,     0.29429,      0.2953,      0.2963,      0.2973,      0.2983,      0.2993,      0.3003,      0.3013,      0.3023,      0.3033,      0.3043,     0.30531,     0.30631,     0.30731,     0.30831,     0.30931,     0.31031,     0.31131,\n",
            "           0.31231,     0.31331,     0.31431,     0.31532,     0.31632,     0.31732,     0.31832,     0.31932,     0.32032,     0.32132,     0.32232,     0.32332,     0.32432,     0.32533,     0.32633,     0.32733,     0.32833,     0.32933,     0.33033,     0.33133,     0.33233,     0.33333,     0.33433,     0.33534,\n",
            "           0.33634,     0.33734,     0.33834,     0.33934,     0.34034,     0.34134,     0.34234,     0.34334,     0.34434,     0.34535,     0.34635,     0.34735,     0.34835,     0.34935,     0.35035,     0.35135,     0.35235,     0.35335,     0.35435,     0.35536,     0.35636,     0.35736,     0.35836,     0.35936,\n",
            "           0.36036,     0.36136,     0.36236,     0.36336,     0.36436,     0.36537,     0.36637,     0.36737,     0.36837,     0.36937,     0.37037,     0.37137,     0.37237,     0.37337,     0.37437,     0.37538,     0.37638,     0.37738,     0.37838,     0.37938,     0.38038,     0.38138,     0.38238,     0.38338,\n",
            "           0.38438,     0.38539,     0.38639,     0.38739,     0.38839,     0.38939,     0.39039,     0.39139,     0.39239,     0.39339,     0.39439,      0.3954,      0.3964,      0.3974,      0.3984,      0.3994,      0.4004,      0.4014,      0.4024,      0.4034,      0.4044,     0.40541,     0.40641,     0.40741,\n",
            "           0.40841,     0.40941,     0.41041,     0.41141,     0.41241,     0.41341,     0.41441,     0.41542,     0.41642,     0.41742,     0.41842,     0.41942,     0.42042,     0.42142,     0.42242,     0.42342,     0.42442,     0.42543,     0.42643,     0.42743,     0.42843,     0.42943,     0.43043,     0.43143,\n",
            "           0.43243,     0.43343,     0.43443,     0.43544,     0.43644,     0.43744,     0.43844,     0.43944,     0.44044,     0.44144,     0.44244,     0.44344,     0.44444,     0.44545,     0.44645,     0.44745,     0.44845,     0.44945,     0.45045,     0.45145,     0.45245,     0.45345,     0.45445,     0.45546,\n",
            "           0.45646,     0.45746,     0.45846,     0.45946,     0.46046,     0.46146,     0.46246,     0.46346,     0.46446,     0.46547,     0.46647,     0.46747,     0.46847,     0.46947,     0.47047,     0.47147,     0.47247,     0.47347,     0.47447,     0.47548,     0.47648,     0.47748,     0.47848,     0.47948,\n",
            "           0.48048,     0.48148,     0.48248,     0.48348,     0.48448,     0.48549,     0.48649,     0.48749,     0.48849,     0.48949,     0.49049,     0.49149,     0.49249,     0.49349,     0.49449,      0.4955,      0.4965,      0.4975,      0.4985,      0.4995,      0.5005,      0.5015,      0.5025,      0.5035,\n",
            "            0.5045,     0.50551,     0.50651,     0.50751,     0.50851,     0.50951,     0.51051,     0.51151,     0.51251,     0.51351,     0.51451,     0.51552,     0.51652,     0.51752,     0.51852,     0.51952,     0.52052,     0.52152,     0.52252,     0.52352,     0.52452,     0.52553,     0.52653,     0.52753,\n",
            "           0.52853,     0.52953,     0.53053,     0.53153,     0.53253,     0.53353,     0.53453,     0.53554,     0.53654,     0.53754,     0.53854,     0.53954,     0.54054,     0.54154,     0.54254,     0.54354,     0.54454,     0.54555,     0.54655,     0.54755,     0.54855,     0.54955,     0.55055,     0.55155,\n",
            "           0.55255,     0.55355,     0.55455,     0.55556,     0.55656,     0.55756,     0.55856,     0.55956,     0.56056,     0.56156,     0.56256,     0.56356,     0.56456,     0.56557,     0.56657,     0.56757,     0.56857,     0.56957,     0.57057,     0.57157,     0.57257,     0.57357,     0.57457,     0.57558,\n",
            "           0.57658,     0.57758,     0.57858,     0.57958,     0.58058,     0.58158,     0.58258,     0.58358,     0.58458,     0.58559,     0.58659,     0.58759,     0.58859,     0.58959,     0.59059,     0.59159,     0.59259,     0.59359,     0.59459,      0.5956,      0.5966,      0.5976,      0.5986,      0.5996,\n",
            "            0.6006,      0.6016,      0.6026,      0.6036,      0.6046,     0.60561,     0.60661,     0.60761,     0.60861,     0.60961,     0.61061,     0.61161,     0.61261,     0.61361,     0.61461,     0.61562,     0.61662,     0.61762,     0.61862,     0.61962,     0.62062,     0.62162,     0.62262,     0.62362,\n",
            "           0.62462,     0.62563,     0.62663,     0.62763,     0.62863,     0.62963,     0.63063,     0.63163,     0.63263,     0.63363,     0.63463,     0.63564,     0.63664,     0.63764,     0.63864,     0.63964,     0.64064,     0.64164,     0.64264,     0.64364,     0.64464,     0.64565,     0.64665,     0.64765,\n",
            "           0.64865,     0.64965,     0.65065,     0.65165,     0.65265,     0.65365,     0.65465,     0.65566,     0.65666,     0.65766,     0.65866,     0.65966,     0.66066,     0.66166,     0.66266,     0.66366,     0.66466,     0.66567,     0.66667,     0.66767,     0.66867,     0.66967,     0.67067,     0.67167,\n",
            "           0.67267,     0.67367,     0.67467,     0.67568,     0.67668,     0.67768,     0.67868,     0.67968,     0.68068,     0.68168,     0.68268,     0.68368,     0.68468,     0.68569,     0.68669,     0.68769,     0.68869,     0.68969,     0.69069,     0.69169,     0.69269,     0.69369,     0.69469,      0.6957,\n",
            "            0.6967,      0.6977,      0.6987,      0.6997,      0.7007,      0.7017,      0.7027,      0.7037,      0.7047,     0.70571,     0.70671,     0.70771,     0.70871,     0.70971,     0.71071,     0.71171,     0.71271,     0.71371,     0.71471,     0.71572,     0.71672,     0.71772,     0.71872,     0.71972,\n",
            "           0.72072,     0.72172,     0.72272,     0.72372,     0.72472,     0.72573,     0.72673,     0.72773,     0.72873,     0.72973,     0.73073,     0.73173,     0.73273,     0.73373,     0.73473,     0.73574,     0.73674,     0.73774,     0.73874,     0.73974,     0.74074,     0.74174,     0.74274,     0.74374,\n",
            "           0.74474,     0.74575,     0.74675,     0.74775,     0.74875,     0.74975,     0.75075,     0.75175,     0.75275,     0.75375,     0.75475,     0.75576,     0.75676,     0.75776,     0.75876,     0.75976,     0.76076,     0.76176,     0.76276,     0.76376,     0.76476,     0.76577,     0.76677,     0.76777,\n",
            "           0.76877,     0.76977,     0.77077,     0.77177,     0.77277,     0.77377,     0.77477,     0.77578,     0.77678,     0.77778,     0.77878,     0.77978,     0.78078,     0.78178,     0.78278,     0.78378,     0.78478,     0.78579,     0.78679,     0.78779,     0.78879,     0.78979,     0.79079,     0.79179,\n",
            "           0.79279,     0.79379,     0.79479,      0.7958,      0.7968,      0.7978,      0.7988,      0.7998,      0.8008,      0.8018,      0.8028,      0.8038,      0.8048,     0.80581,     0.80681,     0.80781,     0.80881,     0.80981,     0.81081,     0.81181,     0.81281,     0.81381,     0.81481,     0.81582,\n",
            "           0.81682,     0.81782,     0.81882,     0.81982,     0.82082,     0.82182,     0.82282,     0.82382,     0.82482,     0.82583,     0.82683,     0.82783,     0.82883,     0.82983,     0.83083,     0.83183,     0.83283,     0.83383,     0.83483,     0.83584,     0.83684,     0.83784,     0.83884,     0.83984,\n",
            "           0.84084,     0.84184,     0.84284,     0.84384,     0.84484,     0.84585,     0.84685,     0.84785,     0.84885,     0.84985,     0.85085,     0.85185,     0.85285,     0.85385,     0.85485,     0.85586,     0.85686,     0.85786,     0.85886,     0.85986,     0.86086,     0.86186,     0.86286,     0.86386,\n",
            "           0.86486,     0.86587,     0.86687,     0.86787,     0.86887,     0.86987,     0.87087,     0.87187,     0.87287,     0.87387,     0.87487,     0.87588,     0.87688,     0.87788,     0.87888,     0.87988,     0.88088,     0.88188,     0.88288,     0.88388,     0.88488,     0.88589,     0.88689,     0.88789,\n",
            "           0.88889,     0.88989,     0.89089,     0.89189,     0.89289,     0.89389,     0.89489,      0.8959,      0.8969,      0.8979,      0.8989,      0.8999,      0.9009,      0.9019,      0.9029,      0.9039,      0.9049,     0.90591,     0.90691,     0.90791,     0.90891,     0.90991,     0.91091,     0.91191,\n",
            "           0.91291,     0.91391,     0.91491,     0.91592,     0.91692,     0.91792,     0.91892,     0.91992,     0.92092,     0.92192,     0.92292,     0.92392,     0.92492,     0.92593,     0.92693,     0.92793,     0.92893,     0.92993,     0.93093,     0.93193,     0.93293,     0.93393,     0.93493,     0.93594,\n",
            "           0.93694,     0.93794,     0.93894,     0.93994,     0.94094,     0.94194,     0.94294,     0.94394,     0.94494,     0.94595,     0.94695,     0.94795,     0.94895,     0.94995,     0.95095,     0.95195,     0.95295,     0.95395,     0.95495,     0.95596,     0.95696,     0.95796,     0.95896,     0.95996,\n",
            "           0.96096,     0.96196,     0.96296,     0.96396,     0.96496,     0.96597,     0.96697,     0.96797,     0.96897,     0.96997,     0.97097,     0.97197,     0.97297,     0.97397,     0.97497,     0.97598,     0.97698,     0.97798,     0.97898,     0.97998,     0.98098,     0.98198,     0.98298,     0.98398,\n",
            "           0.98498,     0.98599,     0.98699,     0.98799,     0.98899,     0.98999,     0.99099,     0.99199,     0.99299,     0.99399,     0.99499,       0.996,       0.997,       0.998,       0.999,           1]), array([[          1,           1,           1, ...,      0.9976,      0.9976,           0],\n",
            "       [          1,           1,           1, ...,     0.99516,     0.99516,           0]]), 'Recall', 'Precision'], [array([          0,    0.001001,    0.002002,    0.003003,    0.004004,    0.005005,    0.006006,    0.007007,    0.008008,    0.009009,     0.01001,    0.011011,    0.012012,    0.013013,    0.014014,    0.015015,    0.016016,    0.017017,    0.018018,    0.019019,     0.02002,    0.021021,    0.022022,    0.023023,\n",
            "          0.024024,    0.025025,    0.026026,    0.027027,    0.028028,    0.029029,     0.03003,    0.031031,    0.032032,    0.033033,    0.034034,    0.035035,    0.036036,    0.037037,    0.038038,    0.039039,     0.04004,    0.041041,    0.042042,    0.043043,    0.044044,    0.045045,    0.046046,    0.047047,\n",
            "          0.048048,    0.049049,     0.05005,    0.051051,    0.052052,    0.053053,    0.054054,    0.055055,    0.056056,    0.057057,    0.058058,    0.059059,     0.06006,    0.061061,    0.062062,    0.063063,    0.064064,    0.065065,    0.066066,    0.067067,    0.068068,    0.069069,     0.07007,    0.071071,\n",
            "          0.072072,    0.073073,    0.074074,    0.075075,    0.076076,    0.077077,    0.078078,    0.079079,     0.08008,    0.081081,    0.082082,    0.083083,    0.084084,    0.085085,    0.086086,    0.087087,    0.088088,    0.089089,     0.09009,    0.091091,    0.092092,    0.093093,    0.094094,    0.095095,\n",
            "          0.096096,    0.097097,    0.098098,    0.099099,      0.1001,      0.1011,      0.1021,      0.1031,      0.1041,     0.10511,     0.10611,     0.10711,     0.10811,     0.10911,     0.11011,     0.11111,     0.11211,     0.11311,     0.11411,     0.11512,     0.11612,     0.11712,     0.11812,     0.11912,\n",
            "           0.12012,     0.12112,     0.12212,     0.12312,     0.12412,     0.12513,     0.12613,     0.12713,     0.12813,     0.12913,     0.13013,     0.13113,     0.13213,     0.13313,     0.13413,     0.13514,     0.13614,     0.13714,     0.13814,     0.13914,     0.14014,     0.14114,     0.14214,     0.14314,\n",
            "           0.14414,     0.14515,     0.14615,     0.14715,     0.14815,     0.14915,     0.15015,     0.15115,     0.15215,     0.15315,     0.15415,     0.15516,     0.15616,     0.15716,     0.15816,     0.15916,     0.16016,     0.16116,     0.16216,     0.16316,     0.16416,     0.16517,     0.16617,     0.16717,\n",
            "           0.16817,     0.16917,     0.17017,     0.17117,     0.17217,     0.17317,     0.17417,     0.17518,     0.17618,     0.17718,     0.17818,     0.17918,     0.18018,     0.18118,     0.18218,     0.18318,     0.18418,     0.18519,     0.18619,     0.18719,     0.18819,     0.18919,     0.19019,     0.19119,\n",
            "           0.19219,     0.19319,     0.19419,      0.1952,      0.1962,      0.1972,      0.1982,      0.1992,      0.2002,      0.2012,      0.2022,      0.2032,      0.2042,     0.20521,     0.20621,     0.20721,     0.20821,     0.20921,     0.21021,     0.21121,     0.21221,     0.21321,     0.21421,     0.21522,\n",
            "           0.21622,     0.21722,     0.21822,     0.21922,     0.22022,     0.22122,     0.22222,     0.22322,     0.22422,     0.22523,     0.22623,     0.22723,     0.22823,     0.22923,     0.23023,     0.23123,     0.23223,     0.23323,     0.23423,     0.23524,     0.23624,     0.23724,     0.23824,     0.23924,\n",
            "           0.24024,     0.24124,     0.24224,     0.24324,     0.24424,     0.24525,     0.24625,     0.24725,     0.24825,     0.24925,     0.25025,     0.25125,     0.25225,     0.25325,     0.25425,     0.25526,     0.25626,     0.25726,     0.25826,     0.25926,     0.26026,     0.26126,     0.26226,     0.26326,\n",
            "           0.26426,     0.26527,     0.26627,     0.26727,     0.26827,     0.26927,     0.27027,     0.27127,     0.27227,     0.27327,     0.27427,     0.27528,     0.27628,     0.27728,     0.27828,     0.27928,     0.28028,     0.28128,     0.28228,     0.28328,     0.28428,     0.28529,     0.28629,     0.28729,\n",
            "           0.28829,     0.28929,     0.29029,     0.29129,     0.29229,     0.29329,     0.29429,      0.2953,      0.2963,      0.2973,      0.2983,      0.2993,      0.3003,      0.3013,      0.3023,      0.3033,      0.3043,     0.30531,     0.30631,     0.30731,     0.30831,     0.30931,     0.31031,     0.31131,\n",
            "           0.31231,     0.31331,     0.31431,     0.31532,     0.31632,     0.31732,     0.31832,     0.31932,     0.32032,     0.32132,     0.32232,     0.32332,     0.32432,     0.32533,     0.32633,     0.32733,     0.32833,     0.32933,     0.33033,     0.33133,     0.33233,     0.33333,     0.33433,     0.33534,\n",
            "           0.33634,     0.33734,     0.33834,     0.33934,     0.34034,     0.34134,     0.34234,     0.34334,     0.34434,     0.34535,     0.34635,     0.34735,     0.34835,     0.34935,     0.35035,     0.35135,     0.35235,     0.35335,     0.35435,     0.35536,     0.35636,     0.35736,     0.35836,     0.35936,\n",
            "           0.36036,     0.36136,     0.36236,     0.36336,     0.36436,     0.36537,     0.36637,     0.36737,     0.36837,     0.36937,     0.37037,     0.37137,     0.37237,     0.37337,     0.37437,     0.37538,     0.37638,     0.37738,     0.37838,     0.37938,     0.38038,     0.38138,     0.38238,     0.38338,\n",
            "           0.38438,     0.38539,     0.38639,     0.38739,     0.38839,     0.38939,     0.39039,     0.39139,     0.39239,     0.39339,     0.39439,      0.3954,      0.3964,      0.3974,      0.3984,      0.3994,      0.4004,      0.4014,      0.4024,      0.4034,      0.4044,     0.40541,     0.40641,     0.40741,\n",
            "           0.40841,     0.40941,     0.41041,     0.41141,     0.41241,     0.41341,     0.41441,     0.41542,     0.41642,     0.41742,     0.41842,     0.41942,     0.42042,     0.42142,     0.42242,     0.42342,     0.42442,     0.42543,     0.42643,     0.42743,     0.42843,     0.42943,     0.43043,     0.43143,\n",
            "           0.43243,     0.43343,     0.43443,     0.43544,     0.43644,     0.43744,     0.43844,     0.43944,     0.44044,     0.44144,     0.44244,     0.44344,     0.44444,     0.44545,     0.44645,     0.44745,     0.44845,     0.44945,     0.45045,     0.45145,     0.45245,     0.45345,     0.45445,     0.45546,\n",
            "           0.45646,     0.45746,     0.45846,     0.45946,     0.46046,     0.46146,     0.46246,     0.46346,     0.46446,     0.46547,     0.46647,     0.46747,     0.46847,     0.46947,     0.47047,     0.47147,     0.47247,     0.47347,     0.47447,     0.47548,     0.47648,     0.47748,     0.47848,     0.47948,\n",
            "           0.48048,     0.48148,     0.48248,     0.48348,     0.48448,     0.48549,     0.48649,     0.48749,     0.48849,     0.48949,     0.49049,     0.49149,     0.49249,     0.49349,     0.49449,      0.4955,      0.4965,      0.4975,      0.4985,      0.4995,      0.5005,      0.5015,      0.5025,      0.5035,\n",
            "            0.5045,     0.50551,     0.50651,     0.50751,     0.50851,     0.50951,     0.51051,     0.51151,     0.51251,     0.51351,     0.51451,     0.51552,     0.51652,     0.51752,     0.51852,     0.51952,     0.52052,     0.52152,     0.52252,     0.52352,     0.52452,     0.52553,     0.52653,     0.52753,\n",
            "           0.52853,     0.52953,     0.53053,     0.53153,     0.53253,     0.53353,     0.53453,     0.53554,     0.53654,     0.53754,     0.53854,     0.53954,     0.54054,     0.54154,     0.54254,     0.54354,     0.54454,     0.54555,     0.54655,     0.54755,     0.54855,     0.54955,     0.55055,     0.55155,\n",
            "           0.55255,     0.55355,     0.55455,     0.55556,     0.55656,     0.55756,     0.55856,     0.55956,     0.56056,     0.56156,     0.56256,     0.56356,     0.56456,     0.56557,     0.56657,     0.56757,     0.56857,     0.56957,     0.57057,     0.57157,     0.57257,     0.57357,     0.57457,     0.57558,\n",
            "           0.57658,     0.57758,     0.57858,     0.57958,     0.58058,     0.58158,     0.58258,     0.58358,     0.58458,     0.58559,     0.58659,     0.58759,     0.58859,     0.58959,     0.59059,     0.59159,     0.59259,     0.59359,     0.59459,      0.5956,      0.5966,      0.5976,      0.5986,      0.5996,\n",
            "            0.6006,      0.6016,      0.6026,      0.6036,      0.6046,     0.60561,     0.60661,     0.60761,     0.60861,     0.60961,     0.61061,     0.61161,     0.61261,     0.61361,     0.61461,     0.61562,     0.61662,     0.61762,     0.61862,     0.61962,     0.62062,     0.62162,     0.62262,     0.62362,\n",
            "           0.62462,     0.62563,     0.62663,     0.62763,     0.62863,     0.62963,     0.63063,     0.63163,     0.63263,     0.63363,     0.63463,     0.63564,     0.63664,     0.63764,     0.63864,     0.63964,     0.64064,     0.64164,     0.64264,     0.64364,     0.64464,     0.64565,     0.64665,     0.64765,\n",
            "           0.64865,     0.64965,     0.65065,     0.65165,     0.65265,     0.65365,     0.65465,     0.65566,     0.65666,     0.65766,     0.65866,     0.65966,     0.66066,     0.66166,     0.66266,     0.66366,     0.66466,     0.66567,     0.66667,     0.66767,     0.66867,     0.66967,     0.67067,     0.67167,\n",
            "           0.67267,     0.67367,     0.67467,     0.67568,     0.67668,     0.67768,     0.67868,     0.67968,     0.68068,     0.68168,     0.68268,     0.68368,     0.68468,     0.68569,     0.68669,     0.68769,     0.68869,     0.68969,     0.69069,     0.69169,     0.69269,     0.69369,     0.69469,      0.6957,\n",
            "            0.6967,      0.6977,      0.6987,      0.6997,      0.7007,      0.7017,      0.7027,      0.7037,      0.7047,     0.70571,     0.70671,     0.70771,     0.70871,     0.70971,     0.71071,     0.71171,     0.71271,     0.71371,     0.71471,     0.71572,     0.71672,     0.71772,     0.71872,     0.71972,\n",
            "           0.72072,     0.72172,     0.72272,     0.72372,     0.72472,     0.72573,     0.72673,     0.72773,     0.72873,     0.72973,     0.73073,     0.73173,     0.73273,     0.73373,     0.73473,     0.73574,     0.73674,     0.73774,     0.73874,     0.73974,     0.74074,     0.74174,     0.74274,     0.74374,\n",
            "           0.74474,     0.74575,     0.74675,     0.74775,     0.74875,     0.74975,     0.75075,     0.75175,     0.75275,     0.75375,     0.75475,     0.75576,     0.75676,     0.75776,     0.75876,     0.75976,     0.76076,     0.76176,     0.76276,     0.76376,     0.76476,     0.76577,     0.76677,     0.76777,\n",
            "           0.76877,     0.76977,     0.77077,     0.77177,     0.77277,     0.77377,     0.77477,     0.77578,     0.77678,     0.77778,     0.77878,     0.77978,     0.78078,     0.78178,     0.78278,     0.78378,     0.78478,     0.78579,     0.78679,     0.78779,     0.78879,     0.78979,     0.79079,     0.79179,\n",
            "           0.79279,     0.79379,     0.79479,      0.7958,      0.7968,      0.7978,      0.7988,      0.7998,      0.8008,      0.8018,      0.8028,      0.8038,      0.8048,     0.80581,     0.80681,     0.80781,     0.80881,     0.80981,     0.81081,     0.81181,     0.81281,     0.81381,     0.81481,     0.81582,\n",
            "           0.81682,     0.81782,     0.81882,     0.81982,     0.82082,     0.82182,     0.82282,     0.82382,     0.82482,     0.82583,     0.82683,     0.82783,     0.82883,     0.82983,     0.83083,     0.83183,     0.83283,     0.83383,     0.83483,     0.83584,     0.83684,     0.83784,     0.83884,     0.83984,\n",
            "           0.84084,     0.84184,     0.84284,     0.84384,     0.84484,     0.84585,     0.84685,     0.84785,     0.84885,     0.84985,     0.85085,     0.85185,     0.85285,     0.85385,     0.85485,     0.85586,     0.85686,     0.85786,     0.85886,     0.85986,     0.86086,     0.86186,     0.86286,     0.86386,\n",
            "           0.86486,     0.86587,     0.86687,     0.86787,     0.86887,     0.86987,     0.87087,     0.87187,     0.87287,     0.87387,     0.87487,     0.87588,     0.87688,     0.87788,     0.87888,     0.87988,     0.88088,     0.88188,     0.88288,     0.88388,     0.88488,     0.88589,     0.88689,     0.88789,\n",
            "           0.88889,     0.88989,     0.89089,     0.89189,     0.89289,     0.89389,     0.89489,      0.8959,      0.8969,      0.8979,      0.8989,      0.8999,      0.9009,      0.9019,      0.9029,      0.9039,      0.9049,     0.90591,     0.90691,     0.90791,     0.90891,     0.90991,     0.91091,     0.91191,\n",
            "           0.91291,     0.91391,     0.91491,     0.91592,     0.91692,     0.91792,     0.91892,     0.91992,     0.92092,     0.92192,     0.92292,     0.92392,     0.92492,     0.92593,     0.92693,     0.92793,     0.92893,     0.92993,     0.93093,     0.93193,     0.93293,     0.93393,     0.93493,     0.93594,\n",
            "           0.93694,     0.93794,     0.93894,     0.93994,     0.94094,     0.94194,     0.94294,     0.94394,     0.94494,     0.94595,     0.94695,     0.94795,     0.94895,     0.94995,     0.95095,     0.95195,     0.95295,     0.95395,     0.95495,     0.95596,     0.95696,     0.95796,     0.95896,     0.95996,\n",
            "           0.96096,     0.96196,     0.96296,     0.96396,     0.96496,     0.96597,     0.96697,     0.96797,     0.96897,     0.96997,     0.97097,     0.97197,     0.97297,     0.97397,     0.97497,     0.97598,     0.97698,     0.97798,     0.97898,     0.97998,     0.98098,     0.98198,     0.98298,     0.98398,\n",
            "           0.98498,     0.98599,     0.98699,     0.98799,     0.98899,     0.98999,     0.99099,     0.99199,     0.99299,     0.99399,     0.99499,       0.996,       0.997,       0.998,       0.999,           1]), array([[    0.80934,     0.80934,     0.86635, ...,           0,           0,           0],\n",
            "       [    0.75413,     0.75413,     0.82772, ...,           0,           0,           0]]), 'Confidence', 'F1'], [array([          0,    0.001001,    0.002002,    0.003003,    0.004004,    0.005005,    0.006006,    0.007007,    0.008008,    0.009009,     0.01001,    0.011011,    0.012012,    0.013013,    0.014014,    0.015015,    0.016016,    0.017017,    0.018018,    0.019019,     0.02002,    0.021021,    0.022022,    0.023023,\n",
            "          0.024024,    0.025025,    0.026026,    0.027027,    0.028028,    0.029029,     0.03003,    0.031031,    0.032032,    0.033033,    0.034034,    0.035035,    0.036036,    0.037037,    0.038038,    0.039039,     0.04004,    0.041041,    0.042042,    0.043043,    0.044044,    0.045045,    0.046046,    0.047047,\n",
            "          0.048048,    0.049049,     0.05005,    0.051051,    0.052052,    0.053053,    0.054054,    0.055055,    0.056056,    0.057057,    0.058058,    0.059059,     0.06006,    0.061061,    0.062062,    0.063063,    0.064064,    0.065065,    0.066066,    0.067067,    0.068068,    0.069069,     0.07007,    0.071071,\n",
            "          0.072072,    0.073073,    0.074074,    0.075075,    0.076076,    0.077077,    0.078078,    0.079079,     0.08008,    0.081081,    0.082082,    0.083083,    0.084084,    0.085085,    0.086086,    0.087087,    0.088088,    0.089089,     0.09009,    0.091091,    0.092092,    0.093093,    0.094094,    0.095095,\n",
            "          0.096096,    0.097097,    0.098098,    0.099099,      0.1001,      0.1011,      0.1021,      0.1031,      0.1041,     0.10511,     0.10611,     0.10711,     0.10811,     0.10911,     0.11011,     0.11111,     0.11211,     0.11311,     0.11411,     0.11512,     0.11612,     0.11712,     0.11812,     0.11912,\n",
            "           0.12012,     0.12112,     0.12212,     0.12312,     0.12412,     0.12513,     0.12613,     0.12713,     0.12813,     0.12913,     0.13013,     0.13113,     0.13213,     0.13313,     0.13413,     0.13514,     0.13614,     0.13714,     0.13814,     0.13914,     0.14014,     0.14114,     0.14214,     0.14314,\n",
            "           0.14414,     0.14515,     0.14615,     0.14715,     0.14815,     0.14915,     0.15015,     0.15115,     0.15215,     0.15315,     0.15415,     0.15516,     0.15616,     0.15716,     0.15816,     0.15916,     0.16016,     0.16116,     0.16216,     0.16316,     0.16416,     0.16517,     0.16617,     0.16717,\n",
            "           0.16817,     0.16917,     0.17017,     0.17117,     0.17217,     0.17317,     0.17417,     0.17518,     0.17618,     0.17718,     0.17818,     0.17918,     0.18018,     0.18118,     0.18218,     0.18318,     0.18418,     0.18519,     0.18619,     0.18719,     0.18819,     0.18919,     0.19019,     0.19119,\n",
            "           0.19219,     0.19319,     0.19419,      0.1952,      0.1962,      0.1972,      0.1982,      0.1992,      0.2002,      0.2012,      0.2022,      0.2032,      0.2042,     0.20521,     0.20621,     0.20721,     0.20821,     0.20921,     0.21021,     0.21121,     0.21221,     0.21321,     0.21421,     0.21522,\n",
            "           0.21622,     0.21722,     0.21822,     0.21922,     0.22022,     0.22122,     0.22222,     0.22322,     0.22422,     0.22523,     0.22623,     0.22723,     0.22823,     0.22923,     0.23023,     0.23123,     0.23223,     0.23323,     0.23423,     0.23524,     0.23624,     0.23724,     0.23824,     0.23924,\n",
            "           0.24024,     0.24124,     0.24224,     0.24324,     0.24424,     0.24525,     0.24625,     0.24725,     0.24825,     0.24925,     0.25025,     0.25125,     0.25225,     0.25325,     0.25425,     0.25526,     0.25626,     0.25726,     0.25826,     0.25926,     0.26026,     0.26126,     0.26226,     0.26326,\n",
            "           0.26426,     0.26527,     0.26627,     0.26727,     0.26827,     0.26927,     0.27027,     0.27127,     0.27227,     0.27327,     0.27427,     0.27528,     0.27628,     0.27728,     0.27828,     0.27928,     0.28028,     0.28128,     0.28228,     0.28328,     0.28428,     0.28529,     0.28629,     0.28729,\n",
            "           0.28829,     0.28929,     0.29029,     0.29129,     0.29229,     0.29329,     0.29429,      0.2953,      0.2963,      0.2973,      0.2983,      0.2993,      0.3003,      0.3013,      0.3023,      0.3033,      0.3043,     0.30531,     0.30631,     0.30731,     0.30831,     0.30931,     0.31031,     0.31131,\n",
            "           0.31231,     0.31331,     0.31431,     0.31532,     0.31632,     0.31732,     0.31832,     0.31932,     0.32032,     0.32132,     0.32232,     0.32332,     0.32432,     0.32533,     0.32633,     0.32733,     0.32833,     0.32933,     0.33033,     0.33133,     0.33233,     0.33333,     0.33433,     0.33534,\n",
            "           0.33634,     0.33734,     0.33834,     0.33934,     0.34034,     0.34134,     0.34234,     0.34334,     0.34434,     0.34535,     0.34635,     0.34735,     0.34835,     0.34935,     0.35035,     0.35135,     0.35235,     0.35335,     0.35435,     0.35536,     0.35636,     0.35736,     0.35836,     0.35936,\n",
            "           0.36036,     0.36136,     0.36236,     0.36336,     0.36436,     0.36537,     0.36637,     0.36737,     0.36837,     0.36937,     0.37037,     0.37137,     0.37237,     0.37337,     0.37437,     0.37538,     0.37638,     0.37738,     0.37838,     0.37938,     0.38038,     0.38138,     0.38238,     0.38338,\n",
            "           0.38438,     0.38539,     0.38639,     0.38739,     0.38839,     0.38939,     0.39039,     0.39139,     0.39239,     0.39339,     0.39439,      0.3954,      0.3964,      0.3974,      0.3984,      0.3994,      0.4004,      0.4014,      0.4024,      0.4034,      0.4044,     0.40541,     0.40641,     0.40741,\n",
            "           0.40841,     0.40941,     0.41041,     0.41141,     0.41241,     0.41341,     0.41441,     0.41542,     0.41642,     0.41742,     0.41842,     0.41942,     0.42042,     0.42142,     0.42242,     0.42342,     0.42442,     0.42543,     0.42643,     0.42743,     0.42843,     0.42943,     0.43043,     0.43143,\n",
            "           0.43243,     0.43343,     0.43443,     0.43544,     0.43644,     0.43744,     0.43844,     0.43944,     0.44044,     0.44144,     0.44244,     0.44344,     0.44444,     0.44545,     0.44645,     0.44745,     0.44845,     0.44945,     0.45045,     0.45145,     0.45245,     0.45345,     0.45445,     0.45546,\n",
            "           0.45646,     0.45746,     0.45846,     0.45946,     0.46046,     0.46146,     0.46246,     0.46346,     0.46446,     0.46547,     0.46647,     0.46747,     0.46847,     0.46947,     0.47047,     0.47147,     0.47247,     0.47347,     0.47447,     0.47548,     0.47648,     0.47748,     0.47848,     0.47948,\n",
            "           0.48048,     0.48148,     0.48248,     0.48348,     0.48448,     0.48549,     0.48649,     0.48749,     0.48849,     0.48949,     0.49049,     0.49149,     0.49249,     0.49349,     0.49449,      0.4955,      0.4965,      0.4975,      0.4985,      0.4995,      0.5005,      0.5015,      0.5025,      0.5035,\n",
            "            0.5045,     0.50551,     0.50651,     0.50751,     0.50851,     0.50951,     0.51051,     0.51151,     0.51251,     0.51351,     0.51451,     0.51552,     0.51652,     0.51752,     0.51852,     0.51952,     0.52052,     0.52152,     0.52252,     0.52352,     0.52452,     0.52553,     0.52653,     0.52753,\n",
            "           0.52853,     0.52953,     0.53053,     0.53153,     0.53253,     0.53353,     0.53453,     0.53554,     0.53654,     0.53754,     0.53854,     0.53954,     0.54054,     0.54154,     0.54254,     0.54354,     0.54454,     0.54555,     0.54655,     0.54755,     0.54855,     0.54955,     0.55055,     0.55155,\n",
            "           0.55255,     0.55355,     0.55455,     0.55556,     0.55656,     0.55756,     0.55856,     0.55956,     0.56056,     0.56156,     0.56256,     0.56356,     0.56456,     0.56557,     0.56657,     0.56757,     0.56857,     0.56957,     0.57057,     0.57157,     0.57257,     0.57357,     0.57457,     0.57558,\n",
            "           0.57658,     0.57758,     0.57858,     0.57958,     0.58058,     0.58158,     0.58258,     0.58358,     0.58458,     0.58559,     0.58659,     0.58759,     0.58859,     0.58959,     0.59059,     0.59159,     0.59259,     0.59359,     0.59459,      0.5956,      0.5966,      0.5976,      0.5986,      0.5996,\n",
            "            0.6006,      0.6016,      0.6026,      0.6036,      0.6046,     0.60561,     0.60661,     0.60761,     0.60861,     0.60961,     0.61061,     0.61161,     0.61261,     0.61361,     0.61461,     0.61562,     0.61662,     0.61762,     0.61862,     0.61962,     0.62062,     0.62162,     0.62262,     0.62362,\n",
            "           0.62462,     0.62563,     0.62663,     0.62763,     0.62863,     0.62963,     0.63063,     0.63163,     0.63263,     0.63363,     0.63463,     0.63564,     0.63664,     0.63764,     0.63864,     0.63964,     0.64064,     0.64164,     0.64264,     0.64364,     0.64464,     0.64565,     0.64665,     0.64765,\n",
            "           0.64865,     0.64965,     0.65065,     0.65165,     0.65265,     0.65365,     0.65465,     0.65566,     0.65666,     0.65766,     0.65866,     0.65966,     0.66066,     0.66166,     0.66266,     0.66366,     0.66466,     0.66567,     0.66667,     0.66767,     0.66867,     0.66967,     0.67067,     0.67167,\n",
            "           0.67267,     0.67367,     0.67467,     0.67568,     0.67668,     0.67768,     0.67868,     0.67968,     0.68068,     0.68168,     0.68268,     0.68368,     0.68468,     0.68569,     0.68669,     0.68769,     0.68869,     0.68969,     0.69069,     0.69169,     0.69269,     0.69369,     0.69469,      0.6957,\n",
            "            0.6967,      0.6977,      0.6987,      0.6997,      0.7007,      0.7017,      0.7027,      0.7037,      0.7047,     0.70571,     0.70671,     0.70771,     0.70871,     0.70971,     0.71071,     0.71171,     0.71271,     0.71371,     0.71471,     0.71572,     0.71672,     0.71772,     0.71872,     0.71972,\n",
            "           0.72072,     0.72172,     0.72272,     0.72372,     0.72472,     0.72573,     0.72673,     0.72773,     0.72873,     0.72973,     0.73073,     0.73173,     0.73273,     0.73373,     0.73473,     0.73574,     0.73674,     0.73774,     0.73874,     0.73974,     0.74074,     0.74174,     0.74274,     0.74374,\n",
            "           0.74474,     0.74575,     0.74675,     0.74775,     0.74875,     0.74975,     0.75075,     0.75175,     0.75275,     0.75375,     0.75475,     0.75576,     0.75676,     0.75776,     0.75876,     0.75976,     0.76076,     0.76176,     0.76276,     0.76376,     0.76476,     0.76577,     0.76677,     0.76777,\n",
            "           0.76877,     0.76977,     0.77077,     0.77177,     0.77277,     0.77377,     0.77477,     0.77578,     0.77678,     0.77778,     0.77878,     0.77978,     0.78078,     0.78178,     0.78278,     0.78378,     0.78478,     0.78579,     0.78679,     0.78779,     0.78879,     0.78979,     0.79079,     0.79179,\n",
            "           0.79279,     0.79379,     0.79479,      0.7958,      0.7968,      0.7978,      0.7988,      0.7998,      0.8008,      0.8018,      0.8028,      0.8038,      0.8048,     0.80581,     0.80681,     0.80781,     0.80881,     0.80981,     0.81081,     0.81181,     0.81281,     0.81381,     0.81481,     0.81582,\n",
            "           0.81682,     0.81782,     0.81882,     0.81982,     0.82082,     0.82182,     0.82282,     0.82382,     0.82482,     0.82583,     0.82683,     0.82783,     0.82883,     0.82983,     0.83083,     0.83183,     0.83283,     0.83383,     0.83483,     0.83584,     0.83684,     0.83784,     0.83884,     0.83984,\n",
            "           0.84084,     0.84184,     0.84284,     0.84384,     0.84484,     0.84585,     0.84685,     0.84785,     0.84885,     0.84985,     0.85085,     0.85185,     0.85285,     0.85385,     0.85485,     0.85586,     0.85686,     0.85786,     0.85886,     0.85986,     0.86086,     0.86186,     0.86286,     0.86386,\n",
            "           0.86486,     0.86587,     0.86687,     0.86787,     0.86887,     0.86987,     0.87087,     0.87187,     0.87287,     0.87387,     0.87487,     0.87588,     0.87688,     0.87788,     0.87888,     0.87988,     0.88088,     0.88188,     0.88288,     0.88388,     0.88488,     0.88589,     0.88689,     0.88789,\n",
            "           0.88889,     0.88989,     0.89089,     0.89189,     0.89289,     0.89389,     0.89489,      0.8959,      0.8969,      0.8979,      0.8989,      0.8999,      0.9009,      0.9019,      0.9029,      0.9039,      0.9049,     0.90591,     0.90691,     0.90791,     0.90891,     0.90991,     0.91091,     0.91191,\n",
            "           0.91291,     0.91391,     0.91491,     0.91592,     0.91692,     0.91792,     0.91892,     0.91992,     0.92092,     0.92192,     0.92292,     0.92392,     0.92492,     0.92593,     0.92693,     0.92793,     0.92893,     0.92993,     0.93093,     0.93193,     0.93293,     0.93393,     0.93493,     0.93594,\n",
            "           0.93694,     0.93794,     0.93894,     0.93994,     0.94094,     0.94194,     0.94294,     0.94394,     0.94494,     0.94595,     0.94695,     0.94795,     0.94895,     0.94995,     0.95095,     0.95195,     0.95295,     0.95395,     0.95495,     0.95596,     0.95696,     0.95796,     0.95896,     0.95996,\n",
            "           0.96096,     0.96196,     0.96296,     0.96396,     0.96496,     0.96597,     0.96697,     0.96797,     0.96897,     0.96997,     0.97097,     0.97197,     0.97297,     0.97397,     0.97497,     0.97598,     0.97698,     0.97798,     0.97898,     0.97998,     0.98098,     0.98198,     0.98298,     0.98398,\n",
            "           0.98498,     0.98599,     0.98699,     0.98799,     0.98899,     0.98999,     0.99099,     0.99199,     0.99299,     0.99399,     0.99499,       0.996,       0.997,       0.998,       0.999,           1]), array([[    0.67974,     0.67974,     0.76421, ...,           1,           1,           1],\n",
            "       [     0.6053,      0.6053,     0.70607, ...,           1,           1,           1]]), 'Confidence', 'Precision'], [array([          0,    0.001001,    0.002002,    0.003003,    0.004004,    0.005005,    0.006006,    0.007007,    0.008008,    0.009009,     0.01001,    0.011011,    0.012012,    0.013013,    0.014014,    0.015015,    0.016016,    0.017017,    0.018018,    0.019019,     0.02002,    0.021021,    0.022022,    0.023023,\n",
            "          0.024024,    0.025025,    0.026026,    0.027027,    0.028028,    0.029029,     0.03003,    0.031031,    0.032032,    0.033033,    0.034034,    0.035035,    0.036036,    0.037037,    0.038038,    0.039039,     0.04004,    0.041041,    0.042042,    0.043043,    0.044044,    0.045045,    0.046046,    0.047047,\n",
            "          0.048048,    0.049049,     0.05005,    0.051051,    0.052052,    0.053053,    0.054054,    0.055055,    0.056056,    0.057057,    0.058058,    0.059059,     0.06006,    0.061061,    0.062062,    0.063063,    0.064064,    0.065065,    0.066066,    0.067067,    0.068068,    0.069069,     0.07007,    0.071071,\n",
            "          0.072072,    0.073073,    0.074074,    0.075075,    0.076076,    0.077077,    0.078078,    0.079079,     0.08008,    0.081081,    0.082082,    0.083083,    0.084084,    0.085085,    0.086086,    0.087087,    0.088088,    0.089089,     0.09009,    0.091091,    0.092092,    0.093093,    0.094094,    0.095095,\n",
            "          0.096096,    0.097097,    0.098098,    0.099099,      0.1001,      0.1011,      0.1021,      0.1031,      0.1041,     0.10511,     0.10611,     0.10711,     0.10811,     0.10911,     0.11011,     0.11111,     0.11211,     0.11311,     0.11411,     0.11512,     0.11612,     0.11712,     0.11812,     0.11912,\n",
            "           0.12012,     0.12112,     0.12212,     0.12312,     0.12412,     0.12513,     0.12613,     0.12713,     0.12813,     0.12913,     0.13013,     0.13113,     0.13213,     0.13313,     0.13413,     0.13514,     0.13614,     0.13714,     0.13814,     0.13914,     0.14014,     0.14114,     0.14214,     0.14314,\n",
            "           0.14414,     0.14515,     0.14615,     0.14715,     0.14815,     0.14915,     0.15015,     0.15115,     0.15215,     0.15315,     0.15415,     0.15516,     0.15616,     0.15716,     0.15816,     0.15916,     0.16016,     0.16116,     0.16216,     0.16316,     0.16416,     0.16517,     0.16617,     0.16717,\n",
            "           0.16817,     0.16917,     0.17017,     0.17117,     0.17217,     0.17317,     0.17417,     0.17518,     0.17618,     0.17718,     0.17818,     0.17918,     0.18018,     0.18118,     0.18218,     0.18318,     0.18418,     0.18519,     0.18619,     0.18719,     0.18819,     0.18919,     0.19019,     0.19119,\n",
            "           0.19219,     0.19319,     0.19419,      0.1952,      0.1962,      0.1972,      0.1982,      0.1992,      0.2002,      0.2012,      0.2022,      0.2032,      0.2042,     0.20521,     0.20621,     0.20721,     0.20821,     0.20921,     0.21021,     0.21121,     0.21221,     0.21321,     0.21421,     0.21522,\n",
            "           0.21622,     0.21722,     0.21822,     0.21922,     0.22022,     0.22122,     0.22222,     0.22322,     0.22422,     0.22523,     0.22623,     0.22723,     0.22823,     0.22923,     0.23023,     0.23123,     0.23223,     0.23323,     0.23423,     0.23524,     0.23624,     0.23724,     0.23824,     0.23924,\n",
            "           0.24024,     0.24124,     0.24224,     0.24324,     0.24424,     0.24525,     0.24625,     0.24725,     0.24825,     0.24925,     0.25025,     0.25125,     0.25225,     0.25325,     0.25425,     0.25526,     0.25626,     0.25726,     0.25826,     0.25926,     0.26026,     0.26126,     0.26226,     0.26326,\n",
            "           0.26426,     0.26527,     0.26627,     0.26727,     0.26827,     0.26927,     0.27027,     0.27127,     0.27227,     0.27327,     0.27427,     0.27528,     0.27628,     0.27728,     0.27828,     0.27928,     0.28028,     0.28128,     0.28228,     0.28328,     0.28428,     0.28529,     0.28629,     0.28729,\n",
            "           0.28829,     0.28929,     0.29029,     0.29129,     0.29229,     0.29329,     0.29429,      0.2953,      0.2963,      0.2973,      0.2983,      0.2993,      0.3003,      0.3013,      0.3023,      0.3033,      0.3043,     0.30531,     0.30631,     0.30731,     0.30831,     0.30931,     0.31031,     0.31131,\n",
            "           0.31231,     0.31331,     0.31431,     0.31532,     0.31632,     0.31732,     0.31832,     0.31932,     0.32032,     0.32132,     0.32232,     0.32332,     0.32432,     0.32533,     0.32633,     0.32733,     0.32833,     0.32933,     0.33033,     0.33133,     0.33233,     0.33333,     0.33433,     0.33534,\n",
            "           0.33634,     0.33734,     0.33834,     0.33934,     0.34034,     0.34134,     0.34234,     0.34334,     0.34434,     0.34535,     0.34635,     0.34735,     0.34835,     0.34935,     0.35035,     0.35135,     0.35235,     0.35335,     0.35435,     0.35536,     0.35636,     0.35736,     0.35836,     0.35936,\n",
            "           0.36036,     0.36136,     0.36236,     0.36336,     0.36436,     0.36537,     0.36637,     0.36737,     0.36837,     0.36937,     0.37037,     0.37137,     0.37237,     0.37337,     0.37437,     0.37538,     0.37638,     0.37738,     0.37838,     0.37938,     0.38038,     0.38138,     0.38238,     0.38338,\n",
            "           0.38438,     0.38539,     0.38639,     0.38739,     0.38839,     0.38939,     0.39039,     0.39139,     0.39239,     0.39339,     0.39439,      0.3954,      0.3964,      0.3974,      0.3984,      0.3994,      0.4004,      0.4014,      0.4024,      0.4034,      0.4044,     0.40541,     0.40641,     0.40741,\n",
            "           0.40841,     0.40941,     0.41041,     0.41141,     0.41241,     0.41341,     0.41441,     0.41542,     0.41642,     0.41742,     0.41842,     0.41942,     0.42042,     0.42142,     0.42242,     0.42342,     0.42442,     0.42543,     0.42643,     0.42743,     0.42843,     0.42943,     0.43043,     0.43143,\n",
            "           0.43243,     0.43343,     0.43443,     0.43544,     0.43644,     0.43744,     0.43844,     0.43944,     0.44044,     0.44144,     0.44244,     0.44344,     0.44444,     0.44545,     0.44645,     0.44745,     0.44845,     0.44945,     0.45045,     0.45145,     0.45245,     0.45345,     0.45445,     0.45546,\n",
            "           0.45646,     0.45746,     0.45846,     0.45946,     0.46046,     0.46146,     0.46246,     0.46346,     0.46446,     0.46547,     0.46647,     0.46747,     0.46847,     0.46947,     0.47047,     0.47147,     0.47247,     0.47347,     0.47447,     0.47548,     0.47648,     0.47748,     0.47848,     0.47948,\n",
            "           0.48048,     0.48148,     0.48248,     0.48348,     0.48448,     0.48549,     0.48649,     0.48749,     0.48849,     0.48949,     0.49049,     0.49149,     0.49249,     0.49349,     0.49449,      0.4955,      0.4965,      0.4975,      0.4985,      0.4995,      0.5005,      0.5015,      0.5025,      0.5035,\n",
            "            0.5045,     0.50551,     0.50651,     0.50751,     0.50851,     0.50951,     0.51051,     0.51151,     0.51251,     0.51351,     0.51451,     0.51552,     0.51652,     0.51752,     0.51852,     0.51952,     0.52052,     0.52152,     0.52252,     0.52352,     0.52452,     0.52553,     0.52653,     0.52753,\n",
            "           0.52853,     0.52953,     0.53053,     0.53153,     0.53253,     0.53353,     0.53453,     0.53554,     0.53654,     0.53754,     0.53854,     0.53954,     0.54054,     0.54154,     0.54254,     0.54354,     0.54454,     0.54555,     0.54655,     0.54755,     0.54855,     0.54955,     0.55055,     0.55155,\n",
            "           0.55255,     0.55355,     0.55455,     0.55556,     0.55656,     0.55756,     0.55856,     0.55956,     0.56056,     0.56156,     0.56256,     0.56356,     0.56456,     0.56557,     0.56657,     0.56757,     0.56857,     0.56957,     0.57057,     0.57157,     0.57257,     0.57357,     0.57457,     0.57558,\n",
            "           0.57658,     0.57758,     0.57858,     0.57958,     0.58058,     0.58158,     0.58258,     0.58358,     0.58458,     0.58559,     0.58659,     0.58759,     0.58859,     0.58959,     0.59059,     0.59159,     0.59259,     0.59359,     0.59459,      0.5956,      0.5966,      0.5976,      0.5986,      0.5996,\n",
            "            0.6006,      0.6016,      0.6026,      0.6036,      0.6046,     0.60561,     0.60661,     0.60761,     0.60861,     0.60961,     0.61061,     0.61161,     0.61261,     0.61361,     0.61461,     0.61562,     0.61662,     0.61762,     0.61862,     0.61962,     0.62062,     0.62162,     0.62262,     0.62362,\n",
            "           0.62462,     0.62563,     0.62663,     0.62763,     0.62863,     0.62963,     0.63063,     0.63163,     0.63263,     0.63363,     0.63463,     0.63564,     0.63664,     0.63764,     0.63864,     0.63964,     0.64064,     0.64164,     0.64264,     0.64364,     0.64464,     0.64565,     0.64665,     0.64765,\n",
            "           0.64865,     0.64965,     0.65065,     0.65165,     0.65265,     0.65365,     0.65465,     0.65566,     0.65666,     0.65766,     0.65866,     0.65966,     0.66066,     0.66166,     0.66266,     0.66366,     0.66466,     0.66567,     0.66667,     0.66767,     0.66867,     0.66967,     0.67067,     0.67167,\n",
            "           0.67267,     0.67367,     0.67467,     0.67568,     0.67668,     0.67768,     0.67868,     0.67968,     0.68068,     0.68168,     0.68268,     0.68368,     0.68468,     0.68569,     0.68669,     0.68769,     0.68869,     0.68969,     0.69069,     0.69169,     0.69269,     0.69369,     0.69469,      0.6957,\n",
            "            0.6967,      0.6977,      0.6987,      0.6997,      0.7007,      0.7017,      0.7027,      0.7037,      0.7047,     0.70571,     0.70671,     0.70771,     0.70871,     0.70971,     0.71071,     0.71171,     0.71271,     0.71371,     0.71471,     0.71572,     0.71672,     0.71772,     0.71872,     0.71972,\n",
            "           0.72072,     0.72172,     0.72272,     0.72372,     0.72472,     0.72573,     0.72673,     0.72773,     0.72873,     0.72973,     0.73073,     0.73173,     0.73273,     0.73373,     0.73473,     0.73574,     0.73674,     0.73774,     0.73874,     0.73974,     0.74074,     0.74174,     0.74274,     0.74374,\n",
            "           0.74474,     0.74575,     0.74675,     0.74775,     0.74875,     0.74975,     0.75075,     0.75175,     0.75275,     0.75375,     0.75475,     0.75576,     0.75676,     0.75776,     0.75876,     0.75976,     0.76076,     0.76176,     0.76276,     0.76376,     0.76476,     0.76577,     0.76677,     0.76777,\n",
            "           0.76877,     0.76977,     0.77077,     0.77177,     0.77277,     0.77377,     0.77477,     0.77578,     0.77678,     0.77778,     0.77878,     0.77978,     0.78078,     0.78178,     0.78278,     0.78378,     0.78478,     0.78579,     0.78679,     0.78779,     0.78879,     0.78979,     0.79079,     0.79179,\n",
            "           0.79279,     0.79379,     0.79479,      0.7958,      0.7968,      0.7978,      0.7988,      0.7998,      0.8008,      0.8018,      0.8028,      0.8038,      0.8048,     0.80581,     0.80681,     0.80781,     0.80881,     0.80981,     0.81081,     0.81181,     0.81281,     0.81381,     0.81481,     0.81582,\n",
            "           0.81682,     0.81782,     0.81882,     0.81982,     0.82082,     0.82182,     0.82282,     0.82382,     0.82482,     0.82583,     0.82683,     0.82783,     0.82883,     0.82983,     0.83083,     0.83183,     0.83283,     0.83383,     0.83483,     0.83584,     0.83684,     0.83784,     0.83884,     0.83984,\n",
            "           0.84084,     0.84184,     0.84284,     0.84384,     0.84484,     0.84585,     0.84685,     0.84785,     0.84885,     0.84985,     0.85085,     0.85185,     0.85285,     0.85385,     0.85485,     0.85586,     0.85686,     0.85786,     0.85886,     0.85986,     0.86086,     0.86186,     0.86286,     0.86386,\n",
            "           0.86486,     0.86587,     0.86687,     0.86787,     0.86887,     0.86987,     0.87087,     0.87187,     0.87287,     0.87387,     0.87487,     0.87588,     0.87688,     0.87788,     0.87888,     0.87988,     0.88088,     0.88188,     0.88288,     0.88388,     0.88488,     0.88589,     0.88689,     0.88789,\n",
            "           0.88889,     0.88989,     0.89089,     0.89189,     0.89289,     0.89389,     0.89489,      0.8959,      0.8969,      0.8979,      0.8989,      0.8999,      0.9009,      0.9019,      0.9029,      0.9039,      0.9049,     0.90591,     0.90691,     0.90791,     0.90891,     0.90991,     0.91091,     0.91191,\n",
            "           0.91291,     0.91391,     0.91491,     0.91592,     0.91692,     0.91792,     0.91892,     0.91992,     0.92092,     0.92192,     0.92292,     0.92392,     0.92492,     0.92593,     0.92693,     0.92793,     0.92893,     0.92993,     0.93093,     0.93193,     0.93293,     0.93393,     0.93493,     0.93594,\n",
            "           0.93694,     0.93794,     0.93894,     0.93994,     0.94094,     0.94194,     0.94294,     0.94394,     0.94494,     0.94595,     0.94695,     0.94795,     0.94895,     0.94995,     0.95095,     0.95195,     0.95295,     0.95395,     0.95495,     0.95596,     0.95696,     0.95796,     0.95896,     0.95996,\n",
            "           0.96096,     0.96196,     0.96296,     0.96396,     0.96496,     0.96597,     0.96697,     0.96797,     0.96897,     0.96997,     0.97097,     0.97197,     0.97297,     0.97397,     0.97497,     0.97598,     0.97698,     0.97798,     0.97898,     0.97998,     0.98098,     0.98198,     0.98298,     0.98398,\n",
            "           0.98498,     0.98599,     0.98699,     0.98799,     0.98899,     0.98999,     0.99099,     0.99199,     0.99299,     0.99399,     0.99499,       0.996,       0.997,       0.998,       0.999,           1]), array([[          1,           1,           1, ...,           0,           0,           0],\n",
            "       [          1,           1,           1, ...,           0,           0,           0]]), 'Confidence', 'Recall']]\n",
            "fitness: np.float64(0.9132195771636907)\n",
            "keys: ['metrics/precision(B)', 'metrics/recall(B)', 'metrics/mAP50(B)', 'metrics/mAP50-95(B)']\n",
            "maps: array([    0.90993,     0.89858])\n",
            "names: {0: 'negatif', 1: 'pozitif'}\n",
            "plot: True\n",
            "results_dict: {'metrics/precision(B)': np.float64(0.9966821507638213), 'metrics/recall(B)': np.float64(0.9987980769230769), 'metrics/mAP50(B)': np.float64(0.9938947058438583), 'metrics/mAP50-95(B)': np.float64(0.9042556739770055), 'fitness': np.float64(0.9132195771636907)}\n",
            "save_dir: PosixPath('runs/detect/train')\n",
            "speed: {'preprocess': 0.35177173198780043, 'inference': 2.9962143577850457, 'loss': 0.0010900442440402148, 'postprocess': 2.9838262654897387}\n",
            "task: 'detect'\n",
            "Model kaydedildi\n"
          ]
        }
      ],
      "source": [
        "from ultralytics import YOLO\n",
        "\n",
        "model = YOLO(\"yolov8n.pt\")\n",
        "\n",
        "results = model.train(\n",
        "    data=\"/content/drive/MyDrive/DL_FINAL/brain.yaml\",\n",
        "    epochs=50,\n",
        "    imgsz=640,\n",
        "    batch=8,\n",
        "    lr0=0.001,\n",
        "    lrf=0.01,\n",
        "    patience=10,\n",
        "    optimizer = \"Adam\",\n",
        "    val=True,\n",
        "    save=True,\n",
        "    save_dir=\"/content/drive/MyDrive/DL_FINAL/runs\",\n",
        ")\n",
        "\n",
        "print(\"Eğitim tamamlandı! Sonuçlar:\", results)\n",
        "model.save(\"/content/drive/MyDrive/DL_FINAL/brain.pt\")\n",
        "print(\"Model kaydedildi\")"
      ]
    },
    {
      "cell_type": "code",
      "execution_count": null,
      "metadata": {
        "colab": {
          "base_uri": "https://localhost:8080/",
          "height": 901
        },
        "id": "8BSLU9dFg51g",
        "outputId": "0cad6103-a4d1-48ee-fa53-5cb99042e95b"
      },
      "outputs": [
        {
          "name": "stdout",
          "output_type": "stream",
          "text": [
            "Ultralytics 8.3.150 🚀 Python-3.11.12 torch-2.6.0+cu124 CUDA:0 (Tesla T4, 15095MiB)\n",
            "Model summary (fused): 72 layers, 3,006,038 parameters, 0 gradients, 8.1 GFLOPs\n",
            "\u001b[34m\u001b[1mval: \u001b[0mFast image access ✅ (ping: 0.4±0.1 ms, read: 7.7±5.4 MB/s, size: 15.7 KB)\n"
          ]
        },
        {
          "name": "stderr",
          "output_type": "stream",
          "text": [
            "\u001b[34m\u001b[1mval: \u001b[0mScanning /content/drive/MyDrive/DL_FINAL/split/valid/vl_images.cache... 791 images, 0 backgrounds, 0 corrupt: 100%|██████████| 791/791 [00:00<?, ?it/s]\n",
            "                 Class     Images  Instances      Box(P          R      mAP50  mAP50-95): 100%|██████████| 50/50 [00:17<00:00,  2.89it/s]\n"
          ]
        },
        {
          "name": "stdout",
          "output_type": "stream",
          "text": [
            "                   all        791        827      0.997      0.999      0.994      0.905\n",
            "               negatif        403        416      0.998      0.998      0.995       0.91\n",
            "               pozitif        388        411      0.995          1      0.993      0.899\n",
            "Speed: 0.9ms preprocess, 3.6ms inference, 0.0ms loss, 1.7ms postprocess per image\n",
            "Results saved to \u001b[1mruns/detect/val10\u001b[0m\n",
            "\n",
            "=== SINIF BAZLI METRİK TABLOSU ===\n",
            "   Sınıf  Precision   Recall mAP@0.5 mAP@0.5:0.95\n",
            " negatif   0.998000 0.998000                     \n",
            " pozitif   0.995000 1.000000                     \n",
            "Ortalama   0.996703 0.998798   0.994        0.905\n",
            "\n",
            "=== CONFUSION MATRIX ===\n",
            "[[416   0]\n",
            " [  0 411]]\n",
            "\n",
            "Accuracy (Doğruluk): 1.000\n"
          ]
        },
        {
          "data": {
            "image/png": "[encoded data removed]",
            "text/plain": [
              "<Figure size 600x500 with 1 Axes>"
            ]
          },
          "metadata": {},
          "output_type": "display_data"
        }
      ],
      "source": [
        "from ultralytics import YOLO\n",
        "import numpy as np\n",
        "import pandas as pd\n",
        "import matplotlib.pyplot as plt\n",
        "import seaborn as sns\n",
        "\n",
        "model = YOLO(\"/content/drive/MyDrive/DL_FINAL/brain.pt\")\n",
        "results = model.val(data=\"/content/drive/MyDrive/DL_FINAL/brain.yaml\", split=\"val\")\n",
        "\n",
        "class_names = list(results.names.values()) if isinstance(results.names, dict) else list(results.names)\n",
        "\n",
        "metrics_data = {\n",
        "    \"Sınıf\": class_names,\n",
        "    \"Precision\": results.box.p,\n",
        "    \"Recall\": results.box.r,\n",
        "}\n",
        "\n",
        "mean_row = {\n",
        "    \"Sınıf\": \"Ortalama\",\n",
        "    \"Precision\": np.mean(results.box.p),\n",
        "    \"Recall\": np.mean(results.box.r),\n",
        "}\n",
        "df_metrics = pd.DataFrame(metrics_data)\n",
        "df_metrics = df_metrics.round(3)\n",
        "df_metrics = pd.concat([df_metrics, pd.DataFrame([mean_row])], ignore_index=True)\n",
        "df_metrics[\"mAP@0.5\"] = \"\"\n",
        "df_metrics[\"mAP@0.5:0.95\"] = \"\"\n",
        "df_metrics.loc[df_metrics[\"Sınıf\"] == \"Ortalama\", \"mAP@0.5\"] = f\"{results.box.map50:.3f}\"\n",
        "df_metrics.loc[df_metrics[\"Sınıf\"] == \"Ortalama\", \"mAP@0.5:0.95\"] = f\"{results.box.map:.3f}\"\n",
        "\n",
        "print(\"\\n=== SINIF BAZLI METRİK TABLOSU ===\")\n",
        "print(df_metrics.to_string(index=False))\n",
        "\n",
        "confmat = results.confusion_matrix.matrix\n",
        "confmat = confmat.astype(int)\n",
        "confmat = confmat[:len(class_names), :len(class_names)]\n",
        "accuracy = np.trace(confmat) / np.sum(confmat)\n",
        "\n",
        "print(\"\\n=== CONFUSION MATRIX ===\")\n",
        "print(confmat.astype(int))\n",
        "\n",
        "print(f\"\\nAccuracy (Doğruluk): {accuracy:.3f}\")\n",
        "\n",
        "plt.figure(figsize=(6, 5))\n",
        "sns.heatmap(confmat, annot=True, fmt='d', cmap='Blues',\n",
        "            xticklabels=class_names, yticklabels=class_names,\n",
        "            cbar=False, linewidths=2, linecolor='black')\n",
        "plt.xlabel(\"Tahmin Edilen Sınıf\")\n",
        "plt.ylabel(\"Gerçek Sınıf\")\n",
        "plt.title(\"YOLOv8 Beyin Tümörü - Confusion Matrix\")\n",
        "plt.tight_layout()\n",
        "plt.savefig(\"/content/drive/MyDrive/DL_FINAL/confusion_matrix.png\")\n",
        "plt.show()\n"
      ]
    },
    {
      "cell_type": "code",
      "execution_count": null,
      "metadata": {
        "colab": {
          "base_uri": "https://localhost:8080/",
          "height": 1000
        },
        "id": "7GKZW8ZSgrKd",
        "outputId": "4fbd2b93-192e-4904-85d3-81f3dbb34b4c"
      },
      "outputs": [
        {
          "name": "stdout",
          "output_type": "stream",
          "text": [
            "\n",
            "image 1/223 /content/drive/MyDrive/DL_FINAL/valid/images/val_1 (1).jpg: 640x640 2 pozitifs, 9.3ms\n",
            "image 2/223 /content/drive/MyDrive/DL_FINAL/valid/images/val_1 (10).jpg: 640x640 1 pozitif, 31.8ms\n",
            "image 3/223 /content/drive/MyDrive/DL_FINAL/valid/images/val_1 (100).jpg: 640x640 2 pozitifs, 17.3ms\n",
            "image 4/223 /content/drive/MyDrive/DL_FINAL/valid/images/val_1 (101).jpg: 640x640 1 negatif, 7.8ms\n",
            "image 5/223 /content/drive/MyDrive/DL_FINAL/valid/images/val_1 (102).jpg: 640x640 1 negatif, 1 pozitif, 7.4ms\n",
            "image 6/223 /content/drive/MyDrive/DL_FINAL/valid/images/val_1 (103).jpg: 640x640 1 pozitif, 7.4ms\n",
            "image 7/223 /content/drive/MyDrive/DL_FINAL/valid/images/val_1 (104).jpg: 640x640 1 negatif, 7.4ms\n",
            "image 8/223 /content/drive/MyDrive/DL_FINAL/valid/images/val_1 (105).jpg: 640x640 1 pozitif, 7.3ms\n",
            "image 9/223 /content/drive/MyDrive/DL_FINAL/valid/images/val_1 (106).jpg: 640x640 1 pozitif, 7.4ms\n",
            "image 10/223 /content/drive/MyDrive/DL_FINAL/valid/images/val_1 (107).jpg: 640x640 1 pozitif, 7.4ms\n",
            "image 11/223 /content/drive/MyDrive/DL_FINAL/valid/images/val_1 (108).jpg: 640x640 1 pozitif, 7.4ms\n",
            "image 12/223 /content/drive/MyDrive/DL_FINAL/valid/images/val_1 (109).jpg: 640x640 (no detections), 7.4ms\n",
            "image 13/223 /content/drive/MyDrive/DL_FINAL/valid/images/val_1 (11).jpg: 640x640 1 negatif, 1 pozitif, 9.5ms\n",
            "image 14/223 /content/drive/MyDrive/DL_FINAL/valid/images/val_1 (110).jpg: 640x640 2 negatifs, 7.4ms\n",
            "image 15/223 /content/drive/MyDrive/DL_FINAL/valid/images/val_1 (111).jpg: 640x640 (no detections), 7.4ms\n",
            "image 16/223 /content/drive/MyDrive/DL_FINAL/valid/images/val_1 (112).jpg: 640x640 1 negatif, 7.4ms\n",
            "image 17/223 /content/drive/MyDrive/DL_FINAL/valid/images/val_1 (113).jpg: 640x640 1 negatif, 7.4ms\n",
            "image 18/223 /content/drive/MyDrive/DL_FINAL/valid/images/val_1 (114).jpg: 640x640 1 negatif, 7.4ms\n",
            "image 19/223 /content/drive/MyDrive/DL_FINAL/valid/images/val_1 (115).jpg: 640x640 1 pozitif, 7.4ms\n",
            "image 20/223 /content/drive/MyDrive/DL_FINAL/valid/images/val_1 (116).jpg: 640x640 (no detections), 7.4ms\n",
            "image 21/223 /content/drive/MyDrive/DL_FINAL/valid/images/val_1 (117).jpg: 640x640 2 negatifs, 1 pozitif, 7.3ms\n",
            "image 22/223 /content/drive/MyDrive/DL_FINAL/valid/images/val_1 (118).jpg: 640x640 1 negatif, 7.7ms\n",
            "image 23/223 /content/drive/MyDrive/DL_FINAL/valid/images/val_1 (119).jpg: 640x640 (no detections), 7.4ms\n",
            "image 24/223 /content/drive/MyDrive/DL_FINAL/valid/images/val_1 (12).jpg: 640x640 1 pozitif, 7.3ms\n",
            "image 25/223 /content/drive/MyDrive/DL_FINAL/valid/images/val_1 (120).jpg: 640x640 1 pozitif, 7.3ms\n",
            "image 26/223 /content/drive/MyDrive/DL_FINAL/valid/images/val_1 (121).jpg: 640x640 (no detections), 7.4ms\n",
            "image 27/223 /content/drive/MyDrive/DL_FINAL/valid/images/val_1 (122).jpg: 640x640 1 pozitif, 9.1ms\n",
            "image 28/223 /content/drive/MyDrive/DL_FINAL/valid/images/val_1 (123).jpg: 640x640 2 negatifs, 7.4ms\n",
            "image 29/223 /content/drive/MyDrive/DL_FINAL/valid/images/val_1 (124).jpg: 640x640 1 pozitif, 7.4ms\n",
            "image 30/223 /content/drive/MyDrive/DL_FINAL/valid/images/val_1 (125).jpg: 640x640 1 pozitif, 7.4ms\n",
            "image 31/223 /content/drive/MyDrive/DL_FINAL/valid/images/val_1 (126).jpg: 640x640 1 negatif, 7.4ms\n",
            "image 32/223 /content/drive/MyDrive/DL_FINAL/valid/images/val_1 (127).jpg: 640x640 1 pozitif, 7.4ms\n",
            "image 33/223 /content/drive/MyDrive/DL_FINAL/valid/images/val_1 (128).jpg: 640x640 1 pozitif, 7.4ms\n",
            "image 34/223 /content/drive/MyDrive/DL_FINAL/valid/images/val_1 (129).jpg: 640x640 1 negatif, 11.4ms\n",
            "image 35/223 /content/drive/MyDrive/DL_FINAL/valid/images/val_1 (13).jpg: 640x640 1 negatif, 11.1ms\n",
            "image 36/223 /content/drive/MyDrive/DL_FINAL/valid/images/val_1 (130).jpg: 640x640 1 negatif, 16.2ms\n",
            "image 37/223 /content/drive/MyDrive/DL_FINAL/valid/images/val_1 (131).jpg: 640x640 1 negatif, 12.0ms\n",
            "image 38/223 /content/drive/MyDrive/DL_FINAL/valid/images/val_1 (132).jpg: 640x640 1 negatif, 10.8ms\n",
            "image 39/223 /content/drive/MyDrive/DL_FINAL/valid/images/val_1 (133).jpg: 640x640 1 pozitif, 12.1ms\n",
            "image 40/223 /content/drive/MyDrive/DL_FINAL/valid/images/val_1 (134).jpg: 640x640 1 pozitif, 10.0ms\n",
            "image 41/223 /content/drive/MyDrive/DL_FINAL/valid/images/val_1 (135).jpg: 640x640 1 pozitif, 8.5ms\n",
            "image 42/223 /content/drive/MyDrive/DL_FINAL/valid/images/val_1 (136).jpg: 640x640 1 pozitif, 8.3ms\n",
            "image 43/223 /content/drive/MyDrive/DL_FINAL/valid/images/val_1 (137).jpg: 640x640 1 negatif, 13.8ms\n",
            "image 44/223 /content/drive/MyDrive/DL_FINAL/valid/images/val_1 (138).jpg: 640x640 1 pozitif, 9.7ms\n",
            "image 45/223 /content/drive/MyDrive/DL_FINAL/valid/images/val_1 (139).jpg: 640x640 1 pozitif, 9.3ms\n",
            "image 46/223 /content/drive/MyDrive/DL_FINAL/valid/images/val_1 (14).jpg: 640x640 1 negatif, 9.2ms\n",
            "image 47/223 /content/drive/MyDrive/DL_FINAL/valid/images/val_1 (140).jpg: 640x640 1 negatif, 9.1ms\n",
            "image 48/223 /content/drive/MyDrive/DL_FINAL/valid/images/val_1 (141).jpg: 640x640 1 negatif, 9.4ms\n",
            "image 49/223 /content/drive/MyDrive/DL_FINAL/valid/images/val_1 (142).jpg: 640x640 1 pozitif, 9.1ms\n",
            "image 50/223 /content/drive/MyDrive/DL_FINAL/valid/images/val_1 (143).jpg: 640x640 1 negatif, 8.4ms\n",
            "image 51/223 /content/drive/MyDrive/DL_FINAL/valid/images/val_1 (144).jpg: 640x640 1 pozitif, 8.6ms\n",
            "image 52/223 /content/drive/MyDrive/DL_FINAL/valid/images/val_1 (145).jpg: 640x640 1 pozitif, 8.9ms\n",
            "image 53/223 /content/drive/MyDrive/DL_FINAL/valid/images/val_1 (146).jpg: 640x640 1 negatif, 8.6ms\n",
            "image 54/223 /content/drive/MyDrive/DL_FINAL/valid/images/val_1 (147).jpg: 640x640 1 negatif, 8.4ms\n",
            "image 55/223 /content/drive/MyDrive/DL_FINAL/valid/images/val_1 (148).jpg: 640x640 1 pozitif, 8.3ms\n",
            "image 56/223 /content/drive/MyDrive/DL_FINAL/valid/images/val_1 (149).jpg: 640x640 1 negatif, 8.7ms\n",
            "image 57/223 /content/drive/MyDrive/DL_FINAL/valid/images/val_1 (15).jpg: 640x640 1 negatif, 11.2ms\n",
            "image 58/223 /content/drive/MyDrive/DL_FINAL/valid/images/val_1 (150).jpg: 640x640 1 pozitif, 8.8ms\n",
            "image 59/223 /content/drive/MyDrive/DL_FINAL/valid/images/val_1 (151).jpg: 640x640 1 negatif, 1 pozitif, 8.0ms\n",
            "image 60/223 /content/drive/MyDrive/DL_FINAL/valid/images/val_1 (152).jpg: 640x640 1 pozitif, 8.3ms\n",
            "image 61/223 /content/drive/MyDrive/DL_FINAL/valid/images/val_1 (153).jpg: 640x640 2 negatifs, 7.9ms\n",
            "image 62/223 /content/drive/MyDrive/DL_FINAL/valid/images/val_1 (154).jpg: 640x640 1 negatif, 7.5ms\n",
            "image 63/223 /content/drive/MyDrive/DL_FINAL/valid/images/val_1 (155).jpg: 640x640 1 negatif, 7.8ms\n",
            "image 64/223 /content/drive/MyDrive/DL_FINAL/valid/images/val_1 (156).jpg: 640x640 1 negatif, 8.1ms\n",
            "image 65/223 /content/drive/MyDrive/DL_FINAL/valid/images/val_1 (157).jpg: 640x640 (no detections), 9.7ms\n",
            "image 66/223 /content/drive/MyDrive/DL_FINAL/valid/images/val_1 (158).jpg: 640x640 1 pozitif, 10.8ms\n",
            "image 67/223 /content/drive/MyDrive/DL_FINAL/valid/images/val_1 (159).jpg: 640x640 1 negatif, 14.9ms\n",
            "image 68/223 /content/drive/MyDrive/DL_FINAL/valid/images/val_1 (16).jpg: 640x640 1 pozitif, 24.0ms\n",
            "image 69/223 /content/drive/MyDrive/DL_FINAL/valid/images/val_1 (160).jpg: 640x640 1 negatif, 28.1ms\n",
            "image 70/223 /content/drive/MyDrive/DL_FINAL/valid/images/val_1 (161).jpg: 640x640 1 negatif, 48.3ms\n",
            "image 71/223 /content/drive/MyDrive/DL_FINAL/valid/images/val_1 (162).jpg: 640x640 1 pozitif, 26.0ms\n",
            "image 72/223 /content/drive/MyDrive/DL_FINAL/valid/images/val_1 (163).jpg: 640x640 1 negatif, 41.8ms\n",
            "image 73/223 /content/drive/MyDrive/DL_FINAL/valid/images/val_1 (164).jpg: 640x640 1 pozitif, 27.1ms\n",
            "image 74/223 /content/drive/MyDrive/DL_FINAL/valid/images/val_1 (165).jpg: 640x640 1 negatif, 55.5ms\n",
            "image 75/223 /content/drive/MyDrive/DL_FINAL/valid/images/val_1 (166).jpg: 640x640 1 pozitif, 50.7ms\n",
            "image 76/223 /content/drive/MyDrive/DL_FINAL/valid/images/val_1 (167).jpg: 640x640 2 pozitifs, 20.2ms\n",
            "image 77/223 /content/drive/MyDrive/DL_FINAL/valid/images/val_1 (168).jpg: 640x640 1 pozitif, 19.1ms\n",
            "image 78/223 /content/drive/MyDrive/DL_FINAL/valid/images/val_1 (169).jpg: 640x640 1 pozitif, 10.2ms\n",
            "image 79/223 /content/drive/MyDrive/DL_FINAL/valid/images/val_1 (17).jpg: 640x640 1 pozitif, 34.0ms\n",
            "image 80/223 /content/drive/MyDrive/DL_FINAL/valid/images/val_1 (170).jpg: 640x640 1 pozitif, 22.6ms\n",
            "image 81/223 /content/drive/MyDrive/DL_FINAL/valid/images/val_1 (171).jpg: 640x640 1 pozitif, 56.9ms\n",
            "image 82/223 /content/drive/MyDrive/DL_FINAL/valid/images/val_1 (172).jpg: 640x640 1 pozitif, 12.8ms\n",
            "image 83/223 /content/drive/MyDrive/DL_FINAL/valid/images/val_1 (173).jpg: 640x640 (no detections), 66.6ms\n",
            "image 84/223 /content/drive/MyDrive/DL_FINAL/valid/images/val_1 (174).jpg: 640x640 1 negatif, 15.2ms\n",
            "image 85/223 /content/drive/MyDrive/DL_FINAL/valid/images/val_1 (175).jpg: 640x640 1 negatif, 41.8ms\n",
            "image 86/223 /content/drive/MyDrive/DL_FINAL/valid/images/val_1 (176).jpg: 640x640 1 negatif, 37.9ms\n",
            "image 87/223 /content/drive/MyDrive/DL_FINAL/valid/images/val_1 (177).jpg: 640x640 1 negatif, 112.5ms\n",
            "image 88/223 /content/drive/MyDrive/DL_FINAL/valid/images/val_1 (178).jpg: 640x640 1 negatif, 61.4ms\n",
            "image 89/223 /content/drive/MyDrive/DL_FINAL/valid/images/val_1 (179).jpg: 640x640 1 pozitif, 14.8ms\n",
            "image 90/223 /content/drive/MyDrive/DL_FINAL/valid/images/val_1 (18).jpg: 640x640 1 pozitif, 21.9ms\n",
            "image 91/223 /content/drive/MyDrive/DL_FINAL/valid/images/val_1 (180).jpg: 640x640 1 pozitif, 26.1ms\n",
            "image 92/223 /content/drive/MyDrive/DL_FINAL/valid/images/val_1 (181).jpg: 640x640 1 negatif, 15.5ms\n",
            "image 93/223 /content/drive/MyDrive/DL_FINAL/valid/images/val_1 (182).jpg: 640x640 1 pozitif, 33.7ms\n",
            "image 94/223 /content/drive/MyDrive/DL_FINAL/valid/images/val_1 (183).jpg: 640x640 1 pozitif, 24.4ms\n",
            "image 95/223 /content/drive/MyDrive/DL_FINAL/valid/images/val_1 (184).jpg: 640x640 1 negatif, 25.2ms\n",
            "image 96/223 /content/drive/MyDrive/DL_FINAL/valid/images/val_1 (185).jpg: 640x640 1 negatif, 72.6ms\n",
            "image 97/223 /content/drive/MyDrive/DL_FINAL/valid/images/val_1 (186).jpg: 640x640 1 pozitif, 24.5ms\n",
            "image 98/223 /content/drive/MyDrive/DL_FINAL/valid/images/val_1 (187).jpg: 640x640 1 negatif, 32.3ms\n",
            "image 99/223 /content/drive/MyDrive/DL_FINAL/valid/images/val_1 (188).jpg: 640x640 2 negatifs, 14.3ms\n",
            "image 100/223 /content/drive/MyDrive/DL_FINAL/valid/images/val_1 (189).jpg: 640x640 1 negatif, 25.2ms\n",
            "image 101/223 /content/drive/MyDrive/DL_FINAL/valid/images/val_1 (19).jpg: 640x640 1 negatif, 1 pozitif, 17.2ms\n",
            "image 102/223 /content/drive/MyDrive/DL_FINAL/valid/images/val_1 (190).jpg: 640x640 1 negatif, 16.1ms\n",
            "image 103/223 /content/drive/MyDrive/DL_FINAL/valid/images/val_1 (191).jpg: 640x640 1 pozitif, 9.3ms\n",
            "image 104/223 /content/drive/MyDrive/DL_FINAL/valid/images/val_1 (192).jpg: 640x640 1 pozitif, 13.4ms\n",
            "image 105/223 /content/drive/MyDrive/DL_FINAL/valid/images/val_1 (193).jpg: 640x640 1 negatif, 8.0ms\n",
            "image 106/223 /content/drive/MyDrive/DL_FINAL/valid/images/val_1 (194).jpg: 640x640 1 pozitif, 12.1ms\n",
            "image 107/223 /content/drive/MyDrive/DL_FINAL/valid/images/val_1 (195).jpg: 640x640 1 pozitif, 11.1ms\n",
            "image 108/223 /content/drive/MyDrive/DL_FINAL/valid/images/val_1 (196).jpg: 640x640 1 pozitif, 14.3ms\n",
            "image 109/223 /content/drive/MyDrive/DL_FINAL/valid/images/val_1 (197).jpg: 640x640 1 pozitif, 14.5ms\n",
            "image 110/223 /content/drive/MyDrive/DL_FINAL/valid/images/val_1 (198).jpg: 640x640 1 pozitif, 10.9ms\n",
            "image 111/223 /content/drive/MyDrive/DL_FINAL/valid/images/val_1 (199).jpg: 640x640 1 negatif, 7.7ms\n",
            "image 112/223 /content/drive/MyDrive/DL_FINAL/valid/images/val_1 (2).jpg: 640x640 1 pozitif, 10.9ms\n",
            "image 113/223 /content/drive/MyDrive/DL_FINAL/valid/images/val_1 (20).jpg: 640x640 1 pozitif, 9.4ms\n",
            "image 114/223 /content/drive/MyDrive/DL_FINAL/valid/images/val_1 (200).jpg: 640x640 1 pozitif, 11.0ms\n",
            "image 115/223 /content/drive/MyDrive/DL_FINAL/valid/images/val_1 (201).jpg: 640x640 1 negatif, 11.7ms\n",
            "image 116/223 /content/drive/MyDrive/DL_FINAL/valid/images/val_1 (202).jpg: 640x640 1 negatif, 14.3ms\n",
            "image 117/223 /content/drive/MyDrive/DL_FINAL/valid/images/val_1 (203).jpg: 640x640 1 pozitif, 14.1ms\n",
            "image 118/223 /content/drive/MyDrive/DL_FINAL/valid/images/val_1 (204).jpg: 640x640 1 pozitif, 15.0ms\n",
            "image 119/223 /content/drive/MyDrive/DL_FINAL/valid/images/val_1 (205).jpg: 640x640 (no detections), 11.6ms\n",
            "image 120/223 /content/drive/MyDrive/DL_FINAL/valid/images/val_1 (206).jpg: 640x640 1 pozitif, 12.5ms\n",
            "image 121/223 /content/drive/MyDrive/DL_FINAL/valid/images/val_1 (207).jpg: 640x640 1 pozitif, 10.3ms\n",
            "image 122/223 /content/drive/MyDrive/DL_FINAL/valid/images/val_1 (208).jpg: 640x640 1 pozitif, 7.4ms\n",
            "image 123/223 /content/drive/MyDrive/DL_FINAL/valid/images/val_1 (209).jpg: 640x640 1 pozitif, 7.3ms\n",
            "image 124/223 /content/drive/MyDrive/DL_FINAL/valid/images/val_1 (21).jpg: 640x640 (no detections), 7.4ms\n",
            "image 125/223 /content/drive/MyDrive/DL_FINAL/valid/images/val_1 (210).jpg: 640x640 1 pozitif, 7.4ms\n",
            "image 126/223 /content/drive/MyDrive/DL_FINAL/valid/images/val_1 (211).jpg: 640x640 1 pozitif, 7.4ms\n",
            "image 127/223 /content/drive/MyDrive/DL_FINAL/valid/images/val_1 (212).jpg: 640x640 1 pozitif, 7.3ms\n",
            "image 128/223 /content/drive/MyDrive/DL_FINAL/valid/images/val_1 (213).jpg: 640x640 1 pozitif, 7.9ms\n",
            "image 129/223 /content/drive/MyDrive/DL_FINAL/valid/images/val_1 (214).jpg: 640x640 1 pozitif, 8.2ms\n",
            "image 130/223 /content/drive/MyDrive/DL_FINAL/valid/images/val_1 (215).jpg: 640x640 1 pozitif, 7.4ms\n",
            "image 131/223 /content/drive/MyDrive/DL_FINAL/valid/images/val_1 (216).jpg: 640x640 1 pozitif, 7.3ms\n",
            "image 132/223 /content/drive/MyDrive/DL_FINAL/valid/images/val_1 (217).jpg: 640x640 1 pozitif, 7.9ms\n",
            "image 133/223 /content/drive/MyDrive/DL_FINAL/valid/images/val_1 (218).jpg: 640x640 1 pozitif, 8.1ms\n",
            "image 134/223 /content/drive/MyDrive/DL_FINAL/valid/images/val_1 (219).jpg: 640x640 1 pozitif, 7.4ms\n",
            "image 135/223 /content/drive/MyDrive/DL_FINAL/valid/images/val_1 (22).jpg: 640x640 1 pozitif, 7.3ms\n",
            "image 136/223 /content/drive/MyDrive/DL_FINAL/valid/images/val_1 (220).jpg: 640x640 1 negatif, 7.3ms\n",
            "image 137/223 /content/drive/MyDrive/DL_FINAL/valid/images/val_1 (221).jpg: 640x640 1 pozitif, 7.4ms\n",
            "image 138/223 /content/drive/MyDrive/DL_FINAL/valid/images/val_1 (222).jpg: 640x640 1 negatif, 7.5ms\n",
            "image 139/223 /content/drive/MyDrive/DL_FINAL/valid/images/val_1 (223).jpg: 640x640 1 pozitif, 7.4ms\n",
            "image 140/223 /content/drive/MyDrive/DL_FINAL/valid/images/val_1 (23).jpg: 640x640 (no detections), 7.4ms\n",
            "image 141/223 /content/drive/MyDrive/DL_FINAL/valid/images/val_1 (24).jpg: 640x640 1 pozitif, 7.3ms\n",
            "image 142/223 /content/drive/MyDrive/DL_FINAL/valid/images/val_1 (25).jpg: 640x640 1 negatif, 1 pozitif, 12.6ms\n",
            "image 143/223 /content/drive/MyDrive/DL_FINAL/valid/images/val_1 (26).jpg: 640x640 1 pozitif, 10.9ms\n",
            "image 144/223 /content/drive/MyDrive/DL_FINAL/valid/images/val_1 (27).jpg: 640x640 1 pozitif, 9.8ms\n",
            "image 145/223 /content/drive/MyDrive/DL_FINAL/valid/images/val_1 (28).jpg: 640x640 1 pozitif, 9.8ms\n",
            "image 146/223 /content/drive/MyDrive/DL_FINAL/valid/images/val_1 (29).jpg: 640x640 1 pozitif, 11.7ms\n",
            "image 147/223 /content/drive/MyDrive/DL_FINAL/valid/images/val_1 (3).jpg: 640x640 1 pozitif, 9.1ms\n",
            "image 148/223 /content/drive/MyDrive/DL_FINAL/valid/images/val_1 (30).jpg: 640x640 2 pozitifs, 11.7ms\n",
            "image 149/223 /content/drive/MyDrive/DL_FINAL/valid/images/val_1 (31).jpg: 640x640 1 negatif, 1 pozitif, 7.6ms\n",
            "image 150/223 /content/drive/MyDrive/DL_FINAL/valid/images/val_1 (32).jpg: 640x640 1 pozitif, 8.9ms\n",
            "image 151/223 /content/drive/MyDrive/DL_FINAL/valid/images/val_1 (33).jpg: 640x640 1 negatif, 11.1ms\n",
            "image 152/223 /content/drive/MyDrive/DL_FINAL/valid/images/val_1 (34).jpg: 640x640 1 pozitif, 10.4ms\n",
            "image 153/223 /content/drive/MyDrive/DL_FINAL/valid/images/val_1 (35).jpg: 640x640 1 pozitif, 8.2ms\n",
            "image 154/223 /content/drive/MyDrive/DL_FINAL/valid/images/val_1 (36).jpg: 640x640 (no detections), 10.0ms\n",
            "image 155/223 /content/drive/MyDrive/DL_FINAL/valid/images/val_1 (37).jpg: 640x640 1 pozitif, 8.1ms\n",
            "image 156/223 /content/drive/MyDrive/DL_FINAL/valid/images/val_1 (38).jpg: 640x640 1 pozitif, 10.2ms\n",
            "image 157/223 /content/drive/MyDrive/DL_FINAL/valid/images/val_1 (39).jpg: 640x640 1 negatif, 7.9ms\n",
            "image 158/223 /content/drive/MyDrive/DL_FINAL/valid/images/val_1 (4).jpg: 640x640 1 pozitif, 10.1ms\n",
            "image 159/223 /content/drive/MyDrive/DL_FINAL/valid/images/val_1 (40).jpg: 640x640 1 negatif, 7.9ms\n",
            "image 160/223 /content/drive/MyDrive/DL_FINAL/valid/images/val_1 (41).jpg: 640x640 1 negatif, 8.9ms\n",
            "image 161/223 /content/drive/MyDrive/DL_FINAL/valid/images/val_1 (42).jpg: 640x640 1 pozitif, 7.9ms\n",
            "image 162/223 /content/drive/MyDrive/DL_FINAL/valid/images/val_1 (43).jpg: 640x640 (no detections), 8.1ms\n",
            "image 163/223 /content/drive/MyDrive/DL_FINAL/valid/images/val_1 (44).jpg: 640x640 1 negatif, 8.4ms\n",
            "image 164/223 /content/drive/MyDrive/DL_FINAL/valid/images/val_1 (45).jpg: 640x640 1 pozitif, 8.1ms\n",
            "image 165/223 /content/drive/MyDrive/DL_FINAL/valid/images/val_1 (46).jpg: 640x640 1 pozitif, 8.2ms\n",
            "image 166/223 /content/drive/MyDrive/DL_FINAL/valid/images/val_1 (47).jpg: 640x640 1 negatif, 1 pozitif, 8.0ms\n",
            "image 167/223 /content/drive/MyDrive/DL_FINAL/valid/images/val_1 (48).jpg: 640x640 1 negatif, 1 pozitif, 8.0ms\n",
            "image 168/223 /content/drive/MyDrive/DL_FINAL/valid/images/val_1 (49).jpg: 640x640 2 pozitifs, 9.9ms\n",
            "image 169/223 /content/drive/MyDrive/DL_FINAL/valid/images/val_1 (5).jpg: 640x640 1 pozitif, 8.6ms\n",
            "image 170/223 /content/drive/MyDrive/DL_FINAL/valid/images/val_1 (50).jpg: 640x640 1 negatif, 8.3ms\n",
            "image 171/223 /content/drive/MyDrive/DL_FINAL/valid/images/val_1 (51).jpg: 640x640 1 pozitif, 7.6ms\n",
            "image 172/223 /content/drive/MyDrive/DL_FINAL/valid/images/val_1 (52).jpg: 640x640 1 pozitif, 12.0ms\n",
            "image 173/223 /content/drive/MyDrive/DL_FINAL/valid/images/val_1 (53).jpg: 640x640 1 pozitif, 8.6ms\n",
            "image 174/223 /content/drive/MyDrive/DL_FINAL/valid/images/val_1 (54).jpg: 640x640 1 pozitif, 10.6ms\n",
            "image 175/223 /content/drive/MyDrive/DL_FINAL/valid/images/val_1 (55).jpg: 640x640 (no detections), 7.4ms\n",
            "image 176/223 /content/drive/MyDrive/DL_FINAL/valid/images/val_1 (56).jpg: 640x640 1 negatif, 7.6ms\n",
            "image 177/223 /content/drive/MyDrive/DL_FINAL/valid/images/val_1 (57).jpg: 640x640 2 negatifs, 7.4ms\n",
            "image 178/223 /content/drive/MyDrive/DL_FINAL/valid/images/val_1 (58).jpg: 640x640 1 pozitif, 7.5ms\n",
            "image 179/223 /content/drive/MyDrive/DL_FINAL/valid/images/val_1 (59).jpg: 640x640 1 negatif, 1 pozitif, 7.4ms\n",
            "image 180/223 /content/drive/MyDrive/DL_FINAL/valid/images/val_1 (6).jpg: 640x640 1 pozitif, 8.9ms\n",
            "image 181/223 /content/drive/MyDrive/DL_FINAL/valid/images/val_1 (60).jpg: 640x640 1 pozitif, 7.4ms\n",
            "image 182/223 /content/drive/MyDrive/DL_FINAL/valid/images/val_1 (61).jpg: 640x640 (no detections), 14.0ms\n",
            "image 183/223 /content/drive/MyDrive/DL_FINAL/valid/images/val_1 (62).jpg: 640x640 4 negatifs, 15.7ms\n",
            "image 184/223 /content/drive/MyDrive/DL_FINAL/valid/images/val_1 (63).jpg: 640x640 1 pozitif, 9.4ms\n",
            "image 185/223 /content/drive/MyDrive/DL_FINAL/valid/images/val_1 (64).jpg: 640x640 1 pozitif, 13.1ms\n",
            "image 186/223 /content/drive/MyDrive/DL_FINAL/valid/images/val_1 (65).jpg: 640x640 1 negatif, 11.9ms\n",
            "image 187/223 /content/drive/MyDrive/DL_FINAL/valid/images/val_1 (66).jpg: 640x640 1 pozitif, 11.7ms\n",
            "image 188/223 /content/drive/MyDrive/DL_FINAL/valid/images/val_1 (67).jpg: 640x640 1 pozitif, 10.4ms\n",
            "image 189/223 /content/drive/MyDrive/DL_FINAL/valid/images/val_1 (68).jpg: 640x640 1 pozitif, 12.3ms\n",
            "image 190/223 /content/drive/MyDrive/DL_FINAL/valid/images/val_1 (69).jpg: 640x640 1 negatif, 8.5ms\n",
            "image 191/223 /content/drive/MyDrive/DL_FINAL/valid/images/val_1 (7).jpg: 640x640 1 pozitif, 11.9ms\n",
            "image 192/223 /content/drive/MyDrive/DL_FINAL/valid/images/val_1 (70).jpg: 640x640 1 negatif, 16.8ms\n",
            "image 193/223 /content/drive/MyDrive/DL_FINAL/valid/images/val_1 (71).jpg: 640x640 1 pozitif, 25.2ms\n",
            "image 194/223 /content/drive/MyDrive/DL_FINAL/valid/images/val_1 (72).jpg: 640x640 1 negatif, 8.3ms\n",
            "image 195/223 /content/drive/MyDrive/DL_FINAL/valid/images/val_1 (73).jpg: 640x640 1 negatif, 1 pozitif, 11.0ms\n",
            "image 196/223 /content/drive/MyDrive/DL_FINAL/valid/images/val_1 (74).jpg: 640x640 1 pozitif, 12.2ms\n",
            "image 197/223 /content/drive/MyDrive/DL_FINAL/valid/images/val_1 (75).jpg: 640x640 1 negatif, 8.3ms\n",
            "image 198/223 /content/drive/MyDrive/DL_FINAL/valid/images/val_1 (76).jpg: 640x640 1 negatif, 8.2ms\n",
            "image 199/223 /content/drive/MyDrive/DL_FINAL/valid/images/val_1 (77).jpg: 640x640 1 negatif, 8.7ms\n",
            "image 200/223 /content/drive/MyDrive/DL_FINAL/valid/images/val_1 (78).jpg: 640x640 1 pozitif, 10.1ms\n",
            "image 201/223 /content/drive/MyDrive/DL_FINAL/valid/images/val_1 (79).jpg: 640x640 1 negatif, 8.1ms\n",
            "image 202/223 /content/drive/MyDrive/DL_FINAL/valid/images/val_1 (8).jpg: 640x640 1 pozitif, 8.5ms\n",
            "image 203/223 /content/drive/MyDrive/DL_FINAL/valid/images/val_1 (80).jpg: 640x640 1 negatif, 8.6ms\n",
            "image 204/223 /content/drive/MyDrive/DL_FINAL/valid/images/val_1 (81).jpg: 640x640 1 negatif, 8.3ms\n",
            "image 205/223 /content/drive/MyDrive/DL_FINAL/valid/images/val_1 (82).jpg: 640x640 1 pozitif, 8.2ms\n",
            "image 206/223 /content/drive/MyDrive/DL_FINAL/valid/images/val_1 (83).jpg: 640x640 1 negatif, 9.2ms\n",
            "image 207/223 /content/drive/MyDrive/DL_FINAL/valid/images/val_1 (84).jpg: 640x640 1 negatif, 8.2ms\n",
            "image 208/223 /content/drive/MyDrive/DL_FINAL/valid/images/val_1 (85).jpg: 640x640 1 negatif, 8.2ms\n",
            "image 209/223 /content/drive/MyDrive/DL_FINAL/valid/images/val_1 (86).jpg: 640x640 1 negatif, 9.5ms\n",
            "image 210/223 /content/drive/MyDrive/DL_FINAL/valid/images/val_1 (87).jpg: 640x640 1 negatif, 8.3ms\n",
            "image 211/223 /content/drive/MyDrive/DL_FINAL/valid/images/val_1 (88).jpg: 640x640 2 pozitifs, 8.2ms\n",
            "image 212/223 /content/drive/MyDrive/DL_FINAL/valid/images/val_1 (89).jpg: 640x640 1 pozitif, 8.7ms\n",
            "image 213/223 /content/drive/MyDrive/DL_FINAL/valid/images/val_1 (9).jpg: 640x640 1 negatif, 7.9ms\n",
            "image 214/223 /content/drive/MyDrive/DL_FINAL/valid/images/val_1 (90).jpg: 640x640 1 pozitif, 7.8ms\n",
            "image 215/223 /content/drive/MyDrive/DL_FINAL/valid/images/val_1 (91).jpg: 640x640 1 pozitif, 8.3ms\n",
            "image 216/223 /content/drive/MyDrive/DL_FINAL/valid/images/val_1 (92).jpg: 640x640 1 pozitif, 12.8ms\n",
            "image 217/223 /content/drive/MyDrive/DL_FINAL/valid/images/val_1 (93).jpg: 640x640 1 negatif, 10.2ms\n",
            "image 218/223 /content/drive/MyDrive/DL_FINAL/valid/images/val_1 (94).jpg: 640x640 1 pozitif, 8.9ms\n",
            "image 219/223 /content/drive/MyDrive/DL_FINAL/valid/images/val_1 (95).jpg: 640x640 1 pozitif, 7.8ms\n",
            "image 220/223 /content/drive/MyDrive/DL_FINAL/valid/images/val_1 (96).jpg: 640x640 1 pozitif, 8.2ms\n",
            "image 221/223 /content/drive/MyDrive/DL_FINAL/valid/images/val_1 (97).jpg: 640x640 1 pozitif, 7.7ms\n",
            "image 222/223 /content/drive/MyDrive/DL_FINAL/valid/images/val_1 (98).jpg: 640x640 1 pozitif, 7.8ms\n",
            "image 223/223 /content/drive/MyDrive/DL_FINAL/valid/images/val_1 (99).jpg: 640x640 1 pozitif, 7.7ms\n",
            "Speed: 4.5ms preprocess, 13.2ms inference, 2.2ms postprocess per image at shape (1, 3, 640, 640)\n",
            "Results saved to \u001b[1m/content/drive/MyDrive/DL_FINAL/test_results/predictions2\u001b[0m\n",
            "209 labels saved to /content/drive/MyDrive/DL_FINAL/test_results/predictions2/labels\n",
            "         true_positive  false_positive  false_negative  precision    recall  \\\n",
            "class                                                                         \n",
            "negatif             57              39              97   0.593750  0.370130   \n",
            "pozitif             52              87              35   0.374101  0.597701   \n",
            "\n",
            "               f1  \n",
            "class              \n",
            "negatif  0.456000  \n",
            "pozitif  0.460177  \n"
          ]
        },
        {
          "data": {
            "image/png": "[encoded data removed]",
            "text/plain": [
              "<Figure size 600x300 with 1 Axes>"
            ]
          },
          "metadata": {},
          "output_type": "display_data"
        },
        {
          "data": {
            "image/png": "[encoded data removed]",
            "text/plain": [
              "<Figure size 400x300 with 2 Axes>"
            ]
          },
          "metadata": {},
          "output_type": "display_data"
        },
        {
          "name": "stdout",
          "output_type": "stream",
          "text": [
            "Ultralytics 8.3.150 🚀 Python-3.11.12 torch-2.6.0+cu124 CUDA:0 (Tesla T4, 15095MiB)\n",
            "\u001b[34m\u001b[1mval: \u001b[0mFast image access ✅ (ping: 0.3±0.1 ms, read: 25.0±26.9 MB/s, size: 52.5 KB)\n"
          ]
        },
        {
          "name": "stderr",
          "output_type": "stream",
          "text": [
            "\u001b[34m\u001b[1mval: \u001b[0mScanning /content/drive/MyDrive/DL_FINAL/split/valid/vl_images.cache... 791 images, 0 backgrounds, 0 corrupt: 100%|██████████| 791/791 [00:00<?, ?it/s]\n",
            "                 Class     Images  Instances      Box(P          R      mAP50  mAP50-95): 100%|██████████| 50/50 [00:17<00:00,  2.86it/s]\n"
          ]
        },
        {
          "name": "stdout",
          "output_type": "stream",
          "text": [
            "                   all        791        827      0.997      0.999      0.994      0.905\n",
            "               negatif        403        416      0.998      0.998      0.995       0.91\n",
            "               pozitif        388        411      0.995          1      0.993      0.899\n",
            "Speed: 1.1ms preprocess, 3.7ms inference, 0.0ms loss, 1.9ms postprocess per image\n",
            "Results saved to \u001b[1mruns/detect/val11\u001b[0m\n",
            "mAP@0.5: 0.9939\n",
            "mAP@0.5:0.95: 0.9046\n",
            "Mean Precision: 0.9967\n",
            "Mean Recall: 0.9988\n"
          ]
        }
      ],
      "source": [
        "from ultralytics import YOLO\n",
        "import os\n",
        "import numpy as np\n",
        "import pandas as pd\n",
        "from glob import glob\n",
        "import matplotlib.pyplot as plt\n",
        "from PIL import Image\n",
        "import seaborn as sns\n",
        "\n",
        "MODEL_PATH = \"/content/drive/MyDrive/DL_FINAL/brain.pt\"\n",
        "IMG_DIR = \"/content/drive/MyDrive/DL_FINAL/valid/images\"\n",
        "GT_DIR = \"/content/drive/MyDrive/DL_FINAL/valid/labels\"\n",
        "OUT_DIR = \"/content/drive/MyDrive/DL_FINAL/test_results\"\n",
        "os.makedirs(OUT_DIR, exist_ok=True)\n",
        "\n",
        "class_names = [\"negatif\", \"pozitif\"]\n",
        "\n",
        "model = YOLO(MODEL_PATH)\n",
        "predict_results = model.predict(\n",
        "    source=IMG_DIR,\n",
        "    conf=0.5,\n",
        "    save_txt=True,\n",
        "    save_conf=True,\n",
        "    save=False,\n",
        "    project=OUT_DIR,\n",
        "    name=\"predictions\"\n",
        ")\n",
        "PRED_DIR = os.path.join(OUT_DIR, \"predictions\", \"labels\")\n",
        "\n",
        "def load_yolo_txt(txt_path):\n",
        "    results = []\n",
        "    if not os.path.exists(txt_path):\n",
        "        return []\n",
        "    with open(txt_path, \"r\") as f:\n",
        "        for line in f:\n",
        "            vals = line.strip().split()\n",
        "            vals = [float(x) for x in vals]\n",
        "            if len(vals) == 6:\n",
        "                class_id, x, y, w, h, conf = vals\n",
        "            else:\n",
        "                class_id, x, y, w, h = vals\n",
        "                conf = 1.0\n",
        "            results.append({'class': int(class_id), 'bbox': [x, y, w, h], 'conf': conf})\n",
        "    return results\n",
        "\n",
        "def xywh2xyxy(box, img_w, img_h):\n",
        "    x_c, y_c, w, h = box\n",
        "    x1 = (x_c - w/2) * img_w\n",
        "    y1 = (y_c - h/2) * img_h\n",
        "    x2 = (x_c + w/2) * img_w\n",
        "    y2 = (y_c + h/2) * img_h\n",
        "    return [x1, y1, x2, y2]\n",
        "\n",
        "def iou(boxA, boxB):\n",
        "    xA = max(boxA[0], boxB[0])\n",
        "    yA = max(boxA[1], boxB[1])\n",
        "    xB = min(boxA[2], boxB[2])\n",
        "    yB = min(boxA[3], boxB[3])\n",
        "    interArea = max(0, xB-xA) * max(0, yB-yA)\n",
        "    if interArea == 0:\n",
        "        return 0.0\n",
        "    boxAArea = (boxA[2]-boxA[0]) * (boxA[3]-boxA[1])\n",
        "    boxBArea = (boxB[2]-boxB[0]) * (boxB[3]-boxB[1])\n",
        "    return interArea / float(boxAArea + boxBArea - interArea)\n",
        "\n",
        "image_paths = sorted(glob(os.path.join(IMG_DIR, \"*.jpg\")))\n",
        "results = []\n",
        "\n",
        "for img_path in image_paths:\n",
        "    img_name = os.path.splitext(os.path.basename(img_path))[0]\n",
        "    gt_path = os.path.join(GT_DIR, img_name + \".txt\")\n",
        "    pred_path = os.path.join(PRED_DIR, img_name + \".txt\")\n",
        "    img = Image.open(img_path)\n",
        "    w, h = img.size\n",
        "\n",
        "    gt_boxes = load_yolo_txt(gt_path)\n",
        "    pred_boxes = load_yolo_txt(pred_path)\n",
        "\n",
        "    gt_xyxy = [xywh2xyxy(gt['bbox'], w, h) for gt in gt_boxes]\n",
        "    pred_xyxy = [xywh2xyxy(pred['bbox'], w, h) for pred in pred_boxes]\n",
        "\n",
        "    matches = []\n",
        "    used_gt = set()\n",
        "    used_pred = set()\n",
        "    for i, gt in enumerate(gt_boxes):\n",
        "        best_iou = 0\n",
        "        best_j = -1\n",
        "        for j, pred in enumerate(pred_boxes):\n",
        "            if pred['class'] == gt['class']:\n",
        "                iou_score = iou(gt_xyxy[i], pred_xyxy[j])\n",
        "                if iou_score > best_iou:\n",
        "                    best_iou = iou_score\n",
        "                    best_j = j\n",
        "        if best_iou > 0.5 and best_j != -1:\n",
        "            matches.append((i, best_j))\n",
        "            used_gt.add(i)\n",
        "            used_pred.add(best_j)\n",
        "            results.append({\n",
        "                \"image\": img_name,\n",
        "                \"class\": class_names[gt['class']],\n",
        "                \"true_positive\": 1,\n",
        "                \"false_positive\": 0,\n",
        "                \"false_negative\": 0,\n",
        "                \"iou\": best_iou,\n",
        "                \"confidence\": pred_boxes[best_j]['conf']\n",
        "            })\n",
        "    for j, pred in enumerate(pred_boxes):\n",
        "        if j not in used_pred:\n",
        "            results.append({\n",
        "                \"image\": img_name,\n",
        "                \"class\": class_names[pred['class']],\n",
        "                \"true_positive\": 0,\n",
        "                \"false_positive\": 1,\n",
        "                \"false_negative\": 0,\n",
        "                \"iou\": 0,\n",
        "                \"confidence\": pred['conf']\n",
        "            })\n",
        "    for i, gt in enumerate(gt_boxes):\n",
        "        if i not in used_gt:\n",
        "            results.append({\n",
        "                \"image\": img_name,\n",
        "                \"class\": class_names[gt['class']],\n",
        "                \"true_positive\": 0,\n",
        "                \"false_positive\": 0,\n",
        "                \"false_negative\": 1,\n",
        "                \"iou\": 0,\n",
        "                \"confidence\": 0\n",
        "            })\n",
        "\n",
        "df = pd.DataFrame(results)\n",
        "df.to_csv(os.path.join(OUT_DIR, \"per_image_results.csv\"), index=False)\n",
        "\n",
        "summary = df.groupby(\"class\")[[\"true_positive\", \"false_positive\", \"false_negative\"]].sum()\n",
        "summary[\"precision\"] = summary[\"true_positive\"] / (summary[\"true_positive\"] + summary[\"false_positive\"] + 1e-9)\n",
        "summary[\"recall\"] = summary[\"true_positive\"] / (summary[\"true_positive\"] + summary[\"false_negative\"] + 1e-9)\n",
        "summary[\"f1\"] = 2 * summary[\"precision\"] * summary[\"recall\"] / (summary[\"precision\"] + summary[\"recall\"] + 1e-9)\n",
        "summary.to_csv(os.path.join(OUT_DIR, \"classwise_metrics.csv\"))\n",
        "print(summary)\n",
        "\n",
        "plt.figure(figsize=(6,3))\n",
        "df[df[\"iou\"] > 0].iou.hist(bins=30)\n",
        "plt.title(\"IoU Dağılımı\")\n",
        "plt.xlabel(\"IoU\")\n",
        "plt.ylabel(\"Adet\")\n",
        "plt.tight_layout()\n",
        "plt.savefig(os.path.join(OUT_DIR, \"iou_histogram.png\"))\n",
        "\n",
        "all_classes = sorted(set(df[\"class\"]))\n",
        "cm = np.zeros((len(all_classes), len(all_classes)), dtype=int)\n",
        "for img_path in image_paths:\n",
        "    img_name = os.path.splitext(os.path.basename(img_path))[0]\n",
        "    gt_path = os.path.join(GT_DIR, img_name + \".txt\")\n",
        "    pred_path = os.path.join(PRED_DIR, img_name + \".txt\")\n",
        "    gt_boxes = load_yolo_txt(gt_path)\n",
        "    pred_boxes = load_yolo_txt(pred_path)\n",
        "    gt_cls = [gt['class'] for gt in gt_boxes]\n",
        "    pred_cls = [pred['class'] for pred in pred_boxes]\n",
        "    for gt in gt_cls:\n",
        "        if gt in pred_cls:\n",
        "            cm[gt, gt] += 1\n",
        "            pred_cls.remove(gt)\n",
        "        else:\n",
        "            for c in range(len(all_classes)):\n",
        "                if c == gt:\n",
        "                    continue\n",
        "                cm[gt, c] += 0\n",
        "    for pred in pred_cls:\n",
        "        cm[pred, pred] += 0\n",
        "\n",
        "plt.figure(figsize=(4, 3))\n",
        "sns.heatmap(cm, annot=True, fmt='d', cmap='Blues',\n",
        "            xticklabels=all_classes, yticklabels=all_classes)\n",
        "plt.xlabel(\"Tahmin\")\n",
        "plt.ylabel(\"Gerçek\")\n",
        "plt.title(\"Karışıklık Matrisi\")\n",
        "plt.tight_layout()\n",
        "plt.savefig(os.path.join(OUT_DIR, \"conf_matrix.png\"))\n",
        "plt.show()\n",
        "\n",
        "metrics = model.val(data=\"/content/drive/MyDrive/DL_FINAL/brain.yaml\", split=\"val\")\n",
        "mAP_05 = metrics.box.map50\n",
        "mAP_095 = metrics.box.map\n",
        "print(f\"mAP@0.5: {mAP_05:.4f}\")\n",
        "print(f\"mAP@0.5:0.95: {mAP_095:.4f}\")\n",
        "print(f\"Mean Precision: {metrics.box.mp:.4f}\")\n",
        "print(f\"Mean Recall: {metrics.box.mr:.4f}\")\n"
      ]
    },
    {
      "cell_type": "code",
      "execution_count": null,
      "metadata": {
        "id": "ETajm0XaaRts"
      },
      "outputs": [],
      "source": []
    }
  ],
  "metadata": {
    "accelerator": "GPU",
    "colab": {
      "gpuType": "T4",
      "provenance": []
    },
    "kernelspec": {
      "display_name": "Python 3",
      "name": "python3"
    },
    "language_info": {
      "name": "python"
    }
  },
  "nbformat": 4,
  "nbformat_minor": 0
}
